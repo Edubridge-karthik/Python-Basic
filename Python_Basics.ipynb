{
 "cells": [
  {
   "cell_type": "markdown",
   "id": "3f537a95",
   "metadata": {},
   "source": [
    "### Python Basics"
   ]
  },
  {
   "cell_type": "code",
   "execution_count": 9,
   "id": "acf04f92",
   "metadata": {},
   "outputs": [
    {
     "name": "stdout",
     "output_type": "stream",
     "text": [
      "2 is Even number\n",
      "3 is Odd number\n",
      "4 is Even number\n",
      "5 is Odd number\n",
      "67 is Odd number\n",
      "78 is Even number\n",
      "89 is Odd number\n",
      "34 is Even number\n",
      "alway\n"
     ]
    }
   ],
   "source": [
    "#Structure of Python Program:\n",
    "list1=[2,3,4,5,67,78,89,34]\n",
    "for num in list1:\n",
    "    if num%2!=1:\n",
    "        print(f\"{num} is Even number\")\n",
    "    else:\n",
    "        print(f\"{num} is Odd number\")\n",
    "print(\"alway\")\n",
    "        "
   ]
  },
  {
   "cell_type": "code",
   "execution_count": 4,
   "id": "9a161fee",
   "metadata": {},
   "outputs": [
    {
     "data": {
      "text/plain": [
       "0"
      ]
     },
     "execution_count": 4,
     "metadata": {},
     "output_type": "execute_result"
    }
   ],
   "source": [
    "78%2"
   ]
  },
  {
   "cell_type": "markdown",
   "id": "640f4390",
   "metadata": {},
   "source": [
    "### Keywords "
   ]
  },
  {
   "cell_type": "code",
   "execution_count": 15,
   "id": "25c6fc87",
   "metadata": {},
   "outputs": [
    {
     "name": "stdout",
     "output_type": "stream",
     "text": [
      "['False', 'None', 'True', '__peg_parser__', 'and', 'as', 'assert', 'async', 'await', 'break', 'class', 'continue', 'def', 'del', 'elif', 'else', 'except', 'finally', 'for', 'from', 'global', 'if', 'import', 'in', 'is', 'lambda', 'nonlocal', 'not', 'or', 'pass', 'raise', 'return', 'try', 'while', 'with', 'yield']\n"
     ]
    }
   ],
   "source": [
    "import keyword\n",
    "print(keyword.kwlist)"
   ]
  },
  {
   "cell_type": "code",
   "execution_count": 16,
   "id": "a602ec6b",
   "metadata": {},
   "outputs": [
    {
     "data": {
      "text/plain": [
       "['__all__',\n",
       " '__builtins__',\n",
       " '__cached__',\n",
       " '__doc__',\n",
       " '__file__',\n",
       " '__loader__',\n",
       " '__name__',\n",
       " '__package__',\n",
       " '__spec__',\n",
       " 'iskeyword',\n",
       " 'issoftkeyword',\n",
       " 'kwlist',\n",
       " 'softkwlist']"
      ]
     },
     "execution_count": 16,
     "metadata": {},
     "output_type": "execute_result"
    }
   ],
   "source": [
    "dir(keyword)"
   ]
  },
  {
   "cell_type": "code",
   "execution_count": 17,
   "id": "b51646fd",
   "metadata": {},
   "outputs": [
    {
     "data": {
      "text/plain": [
       "True"
      ]
     },
     "execution_count": 17,
     "metadata": {},
     "output_type": "execute_result"
    }
   ],
   "source": [
    "keyword.iskeyword('False')"
   ]
  },
  {
   "cell_type": "code",
   "execution_count": 49,
   "id": "6ea4be51",
   "metadata": {},
   "outputs": [],
   "source": [
    "# default global\n",
    "def multiply():\n",
    "       global z\n",
    "       z=45\n",
    "       \n",
    "       y=2\n",
    "       return z*y\n",
    "\n"
   ]
  },
  {
   "cell_type": "code",
   "execution_count": 50,
   "id": "743ae33a",
   "metadata": {},
   "outputs": [
    {
     "data": {
      "text/plain": [
       "90"
      ]
     },
     "execution_count": 50,
     "metadata": {},
     "output_type": "execute_result"
    }
   ],
   "source": [
    "multiply()"
   ]
  },
  {
   "cell_type": "code",
   "execution_count": 51,
   "id": "2478d0af",
   "metadata": {},
   "outputs": [
    {
     "name": "stdout",
     "output_type": "stream",
     "text": [
      "45\n"
     ]
    }
   ],
   "source": [
    "print(z)"
   ]
  },
  {
   "cell_type": "code",
   "execution_count": 52,
   "id": "516c9bc8",
   "metadata": {},
   "outputs": [
    {
     "data": {
      "text/plain": [
       "1399875792560"
      ]
     },
     "execution_count": 52,
     "metadata": {},
     "output_type": "execute_result"
    }
   ],
   "source": [
    "id(z)"
   ]
  },
  {
   "cell_type": "code",
   "execution_count": 54,
   "id": "a839d1cb",
   "metadata": {},
   "outputs": [
    {
     "ename": "SyntaxError",
     "evalue": "invalid syntax (271070672.py, line 7)",
     "output_type": "error",
     "traceback": [
      "\u001b[1;36m  Input \u001b[1;32mIn [54]\u001b[1;36m\u001b[0m\n\u001b[1;33m    return global x/y\u001b[0m\n\u001b[1;37m           ^\u001b[0m\n\u001b[1;31mSyntaxError\u001b[0m\u001b[1;31m:\u001b[0m invalid syntax\n"
     ]
    }
   ],
   "source": [
    "x=5\n",
    "y=10\n",
    "def divide():\n",
    "    global x\n",
    "    x=20\n",
    "    y=10\n",
    "    return global x/y\n",
    "\n"
   ]
  },
  {
   "cell_type": "code",
   "execution_count": 55,
   "id": "a7f460bb",
   "metadata": {},
   "outputs": [
    {
     "name": "stdout",
     "output_type": "stream",
     "text": [
      "The Zen of Python, by Tim Peters\n",
      "\n",
      "Beautiful is better than ugly.\n",
      "Explicit is better than implicit.\n",
      "Simple is better than complex.\n",
      "Complex is better than complicated.\n",
      "Flat is better than nested.\n",
      "Sparse is better than dense.\n",
      "Readability counts.\n",
      "Special cases aren't special enough to break the rules.\n",
      "Although practicality beats purity.\n",
      "Errors should never pass silently.\n",
      "Unless explicitly silenced.\n",
      "In the face of ambiguity, refuse the temptation to guess.\n",
      "There should be one-- and preferably only one --obvious way to do it.\n",
      "Although that way may not be obvious at first unless you're Dutch.\n",
      "Now is better than never.\n",
      "Although never is often better than *right* now.\n",
      "If the implementation is hard to explain, it's a bad idea.\n",
      "If the implementation is easy to explain, it may be a good idea.\n",
      "Namespaces are one honking great idea -- let's do more of those!\n"
     ]
    }
   ],
   "source": [
    "import this"
   ]
  },
  {
   "cell_type": "code",
   "execution_count": 3,
   "id": "e41b5fbb",
   "metadata": {},
   "outputs": [
    {
     "name": "stdout",
     "output_type": "stream",
     "text": [
      "Python 3.9.12\n"
     ]
    }
   ],
   "source": [
    "!python --version"
   ]
  },
  {
   "cell_type": "markdown",
   "id": "05386407",
   "metadata": {},
   "source": [
    "\n",
    "### Python Variable"
   ]
  },
  {
   "cell_type": "code",
   "execution_count": 4,
   "id": "e723015c",
   "metadata": {},
   "outputs": [],
   "source": [
    "x=30"
   ]
  },
  {
   "cell_type": "code",
   "execution_count": 5,
   "id": "67b9bcb0",
   "metadata": {},
   "outputs": [],
   "source": [
    "x=55"
   ]
  },
  {
   "cell_type": "code",
   "execution_count": 6,
   "id": "a0b59784",
   "metadata": {},
   "outputs": [
    {
     "name": "stdout",
     "output_type": "stream",
     "text": [
      "55\n"
     ]
    }
   ],
   "source": [
    "print(x)"
   ]
  },
  {
   "cell_type": "code",
   "execution_count": 7,
   "id": "d602f969",
   "metadata": {},
   "outputs": [],
   "source": [
    "y=12.454"
   ]
  },
  {
   "cell_type": "code",
   "execution_count": 9,
   "id": "5a52acc7",
   "metadata": {},
   "outputs": [
    {
     "name": "stdout",
     "output_type": "stream",
     "text": [
      "12.454\n"
     ]
    }
   ],
   "source": [
    "print(y)"
   ]
  },
  {
   "cell_type": "code",
   "execution_count": 10,
   "id": "26c592e2",
   "metadata": {},
   "outputs": [],
   "source": [
    "name=\"Edubridge\""
   ]
  },
  {
   "cell_type": "code",
   "execution_count": 11,
   "id": "91e0137b",
   "metadata": {},
   "outputs": [
    {
     "data": {
      "text/plain": [
       "'Edubridge'"
      ]
     },
     "execution_count": 11,
     "metadata": {},
     "output_type": "execute_result"
    }
   ],
   "source": [
    "name"
   ]
  },
  {
   "cell_type": "code",
   "execution_count": 12,
   "id": "1ae7579c",
   "metadata": {},
   "outputs": [],
   "source": [
    "name=\"Edubridge Learning Pvt \""
   ]
  },
  {
   "cell_type": "code",
   "execution_count": 13,
   "id": "f75e1ab1",
   "metadata": {},
   "outputs": [
    {
     "data": {
      "text/plain": [
       "'Edubridge Learning Pvt '"
      ]
     },
     "execution_count": 13,
     "metadata": {},
     "output_type": "execute_result"
    }
   ],
   "source": [
    "name"
   ]
  },
  {
   "cell_type": "raw",
   "id": "d9029920",
   "metadata": {},
   "source": [
    "Python Built-in Data Types\n",
    "    Numeric Types: int, float, complex\n",
    "    Text Sequence Type: str\n",
    "    Sequence Types: list, tuple, range\n",
    "    Mapping Types: dict\n",
    "    Set Types: set, frozenset"
   ]
  },
  {
   "cell_type": "markdown",
   "id": "b7009373",
   "metadata": {},
   "source": [
    "### Numeric Types: int, float, complex"
   ]
  },
  {
   "cell_type": "code",
   "execution_count": 20,
   "id": "791b03c6",
   "metadata": {},
   "outputs": [
    {
     "name": "stdout",
     "output_type": "stream",
     "text": [
      "<class 'int'>\n"
     ]
    }
   ],
   "source": [
    "x=345\n",
    "print(type(x))"
   ]
  },
  {
   "cell_type": "code",
   "execution_count": 23,
   "id": "e3669f69",
   "metadata": {},
   "outputs": [
    {
     "name": "stdout",
     "output_type": "stream",
     "text": [
      "<class 'float'>\n"
     ]
    }
   ],
   "source": [
    "x=31475675676.00\n",
    "print(type(x))"
   ]
  },
  {
   "cell_type": "code",
   "execution_count": 22,
   "id": "99f7ddf2",
   "metadata": {},
   "outputs": [
    {
     "name": "stdout",
     "output_type": "stream",
     "text": [
      "<class 'complex'>\n"
     ]
    }
   ],
   "source": [
    "x=58+4j\n",
    "print(type(x))"
   ]
  },
  {
   "cell_type": "markdown",
   "id": "1a7277a3",
   "metadata": {},
   "source": [
    "### Type casting function Built in Function for numeric:"
   ]
  },
  {
   "cell_type": "code",
   "execution_count": 15,
   "id": "ad5aabaa",
   "metadata": {},
   "outputs": [
    {
     "name": "stdout",
     "output_type": "stream",
     "text": [
      "Enter the a Value:58\n",
      "Enter the a Value:69\n",
      "Addition is: 127\n"
     ]
    }
   ],
   "source": [
    "a=int(input(\"Enter the a Value:\"))\n",
    "b=int(input(\"Enter the a Value:\"))\n",
    "print(\"Addition is:\",a+b)"
   ]
  },
  {
   "cell_type": "code",
   "execution_count": 12,
   "id": "2ace43f1",
   "metadata": {},
   "outputs": [
    {
     "name": "stdout",
     "output_type": "stream",
     "text": [
      "Enter the a Value:56.25\n",
      "Enter the a Value:23.5\n",
      "Addition is: 79.75\n"
     ]
    }
   ],
   "source": [
    "a=float(input(\"Enter the a Value:\"))\n",
    "b=float(input(\"Enter the a Value:\"))\n",
    "print(\"Addition is:\",a+b)"
   ]
  },
  {
   "cell_type": "code",
   "execution_count": 13,
   "id": "ae35ba4a",
   "metadata": {},
   "outputs": [
    {
     "name": "stdout",
     "output_type": "stream",
     "text": [
      "Enter the a Value:4+2j\n",
      "Enter the a Value:3+3j\n",
      "Addition is: (7+5j)\n"
     ]
    }
   ],
   "source": [
    "a=complex(input(\"Enter the a Value:\"))\n",
    "b=complex(input(\"Enter the a Value:\"))\n",
    "print(\"Addition is:\",a+b)"
   ]
  },
  {
   "cell_type": "code",
   "execution_count": null,
   "id": "e36becab",
   "metadata": {},
   "outputs": [],
   "source": []
  },
  {
   "cell_type": "code",
   "execution_count": null,
   "id": "4ff2106e",
   "metadata": {},
   "outputs": [],
   "source": []
  },
  {
   "cell_type": "markdown",
   "id": "f627b005",
   "metadata": {},
   "source": [
    "### Text Sequence Type: str"
   ]
  },
  {
   "cell_type": "code",
   "execution_count": 29,
   "id": "08f3b3e4",
   "metadata": {},
   "outputs": [],
   "source": [
    "EduTech_name=\"Edubridge Learning Pvt Ltd.\""
   ]
  },
  {
   "cell_type": "code",
   "execution_count": 30,
   "id": "87149ec9",
   "metadata": {},
   "outputs": [
    {
     "name": "stdout",
     "output_type": "stream",
     "text": [
      "<class 'str'>\n"
     ]
    }
   ],
   "source": [
    "print(type(EduTech_name))"
   ]
  },
  {
   "cell_type": "code",
   "execution_count": 39,
   "id": "676cfac9",
   "metadata": {},
   "outputs": [],
   "source": [
    "y=\"Python\""
   ]
  },
  {
   "cell_type": "markdown",
   "id": "f8a51db5",
   "metadata": {},
   "source": [
    "#### String Index:     index opertor [ ]"
   ]
  },
  {
   "attachments": {
    "image.png": {
     "image/png": "[encoded data removed]"
    }
   },
   "cell_type": "markdown",
   "id": "179edb21",
   "metadata": {},
   "source": [
    "![image.png](attachment:image.png)"
   ]
  },
  {
   "cell_type": "code",
   "execution_count": 42,
   "id": "0b016bf6",
   "metadata": {},
   "outputs": [
    {
     "data": {
      "text/plain": [
       "'o'"
      ]
     },
     "execution_count": 42,
     "metadata": {},
     "output_type": "execute_result"
    }
   ],
   "source": [
    "y[4]  # positve index"
   ]
  },
  {
   "cell_type": "code",
   "execution_count": 45,
   "id": "4c4de8b6",
   "metadata": {},
   "outputs": [
    {
     "data": {
      "text/plain": [
       "'3'"
      ]
     },
     "execution_count": 45,
     "metadata": {},
     "output_type": "execute_result"
    }
   ],
   "source": [
    "str2='fdt345346657tyjgf543'\n",
    "str2[-1]"
   ]
  },
  {
   "cell_type": "code",
   "execution_count": 55,
   "id": "daa71d62",
   "metadata": {},
   "outputs": [
    {
     "data": {
      "text/plain": [
       "'5'"
      ]
     },
     "execution_count": 55,
     "metadata": {},
     "output_type": "execute_result"
    }
   ],
   "source": [
    "str2[int(len(str2)/2)]"
   ]
  },
  {
   "cell_type": "code",
   "execution_count": 47,
   "id": "464f0be9",
   "metadata": {},
   "outputs": [
    {
     "data": {
      "text/plain": [
       "str"
      ]
     },
     "execution_count": 47,
     "metadata": {},
     "output_type": "execute_result"
    }
   ],
   "source": [
    "str3='''675675676575'''\n",
    "type(str3)"
   ]
  },
  {
   "cell_type": "code",
   "execution_count": 61,
   "id": "a022d86b",
   "metadata": {},
   "outputs": [
    {
     "name": "stdout",
     "output_type": "stream",
     "text": [
      "\"Python\"\n"
     ]
    }
   ],
   "source": [
    "#String is immutable  # can't change the\n",
    "y=\"\\\"Python\\\"\"\n",
    "print(y)"
   ]
  },
  {
   "cell_type": "code",
   "execution_count": 52,
   "id": "4cfab8cc",
   "metadata": {},
   "outputs": [
    {
     "ename": "TypeError",
     "evalue": "'str' object does not support item assignment",
     "output_type": "error",
     "traceback": [
      "\u001b[1;31m---------------------------------------------------------------------------\u001b[0m",
      "\u001b[1;31mTypeError\u001b[0m                                 Traceback (most recent call last)",
      "Input \u001b[1;32mIn [52]\u001b[0m, in \u001b[0;36m<cell line: 1>\u001b[1;34m()\u001b[0m\n\u001b[1;32m----> 1\u001b[0m y[\u001b[38;5;241m0\u001b[39m]\u001b[38;5;241m=\u001b[39m\u001b[38;5;124m\"\u001b[39m\u001b[38;5;124mC\u001b[39m\u001b[38;5;124m\"\u001b[39m\n",
      "\u001b[1;31mTypeError\u001b[0m: 'str' object does not support item assignment"
     ]
    }
   ],
   "source": [
    "y[0]=\"C\""
   ]
  },
  {
   "cell_type": "markdown",
   "id": "cb59df6d",
   "metadata": {},
   "source": [
    "# String Slice     : slice opertor     str[start:End:step]    end is exclude"
   ]
  },
  {
   "cell_type": "code",
   "execution_count": 62,
   "id": "0bb81506",
   "metadata": {},
   "outputs": [],
   "source": [
    "name=\"Edubridge Learning Pvt Ltd.\""
   ]
  },
  {
   "cell_type": "code",
   "execution_count": 63,
   "id": "1660dbfc",
   "metadata": {},
   "outputs": [
    {
     "data": {
      "text/plain": [
       "'Edu'"
      ]
     },
     "execution_count": 63,
     "metadata": {},
     "output_type": "execute_result"
    }
   ],
   "source": [
    "name[0:3]"
   ]
  },
  {
   "cell_type": "code",
   "execution_count": 64,
   "id": "64194b9d",
   "metadata": {},
   "outputs": [
    {
     "data": {
      "text/plain": [
       "'Eurd'"
      ]
     },
     "execution_count": 64,
     "metadata": {},
     "output_type": "execute_result"
    }
   ],
   "source": [
    "name[0:8:2]  # start 0, end 8 ,step 2"
   ]
  },
  {
   "cell_type": "code",
   "execution_count": 67,
   "id": "979d6c56",
   "metadata": {},
   "outputs": [
    {
     "data": {
      "text/plain": [
       "'Edub'"
      ]
     },
     "execution_count": 67,
     "metadata": {},
     "output_type": "execute_result"
    }
   ],
   "source": [
    "name[:4]"
   ]
  },
  {
   "cell_type": "code",
   "execution_count": 68,
   "id": "964402be",
   "metadata": {},
   "outputs": [
    {
     "data": {
      "text/plain": [
       "'bridge Learning Pvt Ltd.'"
      ]
     },
     "execution_count": 68,
     "metadata": {},
     "output_type": "execute_result"
    }
   ],
   "source": [
    "name[3:]"
   ]
  },
  {
   "cell_type": "code",
   "execution_count": 69,
   "id": "e84635c3",
   "metadata": {},
   "outputs": [
    {
     "data": {
      "text/plain": [
       "'Edubridge Learning Pvt L'"
      ]
     },
     "execution_count": 69,
     "metadata": {},
     "output_type": "execute_result"
    }
   ],
   "source": [
    "name[:-3]"
   ]
  },
  {
   "cell_type": "code",
   "execution_count": 72,
   "id": "d9291f96",
   "metadata": {},
   "outputs": [
    {
     "data": {
      "text/plain": [
       "' Ltd.'"
      ]
     },
     "execution_count": 72,
     "metadata": {},
     "output_type": "execute_result"
    }
   ],
   "source": [
    "name[-5:]"
   ]
  },
  {
   "cell_type": "code",
   "execution_count": 73,
   "id": "1bdbfd18",
   "metadata": {},
   "outputs": [
    {
     "data": {
      "text/plain": [
       "'.dtL tvP gninraeL egdirbudE'"
      ]
     },
     "execution_count": 73,
     "metadata": {},
     "output_type": "execute_result"
    }
   ],
   "source": [
    "name[::-1]  # revers of the String"
   ]
  },
  {
   "cell_type": "code",
   "execution_count": 74,
   "id": "b92d162a",
   "metadata": {},
   "outputs": [],
   "source": [
    "#String immutable\n",
    "s1=\"abc\"\n",
    "s2='abc'"
   ]
  },
  {
   "cell_type": "code",
   "execution_count": 75,
   "id": "857e6e1e",
   "metadata": {},
   "outputs": [
    {
     "data": {
      "text/plain": [
       "2110534316656"
      ]
     },
     "execution_count": 75,
     "metadata": {},
     "output_type": "execute_result"
    }
   ],
   "source": [
    "id(s1)"
   ]
  },
  {
   "cell_type": "code",
   "execution_count": 76,
   "id": "70439d66",
   "metadata": {},
   "outputs": [
    {
     "data": {
      "text/plain": [
       "2110534316656"
      ]
     },
     "execution_count": 76,
     "metadata": {},
     "output_type": "execute_result"
    }
   ],
   "source": [
    "id(s2)"
   ]
  },
  {
   "cell_type": "code",
   "execution_count": 77,
   "id": "6abadd2f",
   "metadata": {},
   "outputs": [
    {
     "data": {
      "text/plain": [
       "2110665578160"
      ]
     },
     "execution_count": 77,
     "metadata": {},
     "output_type": "execute_result"
    }
   ],
   "source": [
    "s1='546456546'\n",
    "id(s1)"
   ]
  },
  {
   "cell_type": "markdown",
   "id": "8e81c583",
   "metadata": {},
   "source": [
    "### build-in Function used string"
   ]
  },
  {
   "cell_type": "code",
   "execution_count": 80,
   "id": "26183bab",
   "metadata": {},
   "outputs": [
    {
     "data": {
      "text/plain": [
       "20"
      ]
     },
     "execution_count": 80,
     "metadata": {},
     "output_type": "execute_result"
    }
   ],
   "source": [
    "#length Function\n",
    "len(\"dfgdfgd554%#%$%%#$45\")   # return length of string"
   ]
  },
  {
   "cell_type": "code",
   "execution_count": 86,
   "id": "22e5009e",
   "metadata": {},
   "outputs": [
    {
     "data": {
      "text/plain": [
       "'(4+6j)'"
      ]
     },
     "execution_count": 86,
     "metadata": {},
     "output_type": "execute_result"
    }
   ],
   "source": [
    "# String Constructor   # cast to string\n",
    "str(4+6j)"
   ]
  },
  {
   "cell_type": "code",
   "execution_count": 87,
   "id": "597d9cc8",
   "metadata": {},
   "outputs": [
    {
     "data": {
      "text/plain": [
       "'454545'"
      ]
     },
     "execution_count": 87,
     "metadata": {},
     "output_type": "execute_result"
    }
   ],
   "source": [
    "str(454545)"
   ]
  },
  {
   "cell_type": "code",
   "execution_count": 89,
   "id": "a7300eea",
   "metadata": {},
   "outputs": [
    {
     "name": "stdout",
     "output_type": "stream",
     "text": [
      "(4+6j)\n"
     ]
    }
   ],
   "source": [
    "print(4+6j)"
   ]
  },
  {
   "cell_type": "code",
   "execution_count": 93,
   "id": "17314e46",
   "metadata": {},
   "outputs": [
    {
     "name": "stdout",
     "output_type": "stream",
     "text": [
      "Enter the data:456chgfgh\n",
      "type of data is<class 'str'> and value is 456chgfgh\n"
     ]
    }
   ],
   "source": [
    "# user Input also string\n",
    "x=input(\"Enter the data:\")  # any raw keyboard input is string\n",
    "print(f\"type of data is{type(x)} and value is {x}\")"
   ]
  },
  {
   "cell_type": "code",
   "execution_count": 95,
   "id": "896deb5f",
   "metadata": {},
   "outputs": [
    {
     "name": "stdout",
     "output_type": "stream",
     "text": [
      "'etdgfhgh'\n"
     ]
    }
   ],
   "source": [
    "print(repr(\"etdgfhgh\"))  #    Prints the values to a stream, or to sys.stdout by default."
   ]
  },
  {
   "cell_type": "code",
   "execution_count": 100,
   "id": "144b3300",
   "metadata": {},
   "outputs": [
    {
     "data": {
      "text/plain": [
       "<reversed at 0x1eb6c7c30a0>"
      ]
     },
     "execution_count": 100,
     "metadata": {},
     "output_type": "execute_result"
    }
   ],
   "source": [
    "reversed(\"Edubridge\") # Return a reverse iterator over the values of the given sequence."
   ]
  },
  {
   "cell_type": "code",
   "execution_count": 101,
   "id": "9cd7f1b0",
   "metadata": {},
   "outputs": [
    {
     "name": "stdout",
     "output_type": "stream",
     "text": [
      "egdirbudE"
     ]
    }
   ],
   "source": [
    "for r in reversed(\"Edubridge\"):\n",
    "    print(r,end='')"
   ]
  },
  {
   "cell_type": "markdown",
   "id": "50f0e23e",
   "metadata": {},
   "source": [
    "# String Methods"
   ]
  },
  {
   "cell_type": "code",
   "execution_count": 108,
   "id": "e52cd46e",
   "metadata": {},
   "outputs": [
    {
     "name": "stdout",
     "output_type": "stream",
     "text": [
      "['__add__', '__class__', '__contains__', '__delattr__', '__dir__', '__doc__', '__eq__', '__format__', '__ge__', '__getattribute__', '__getitem__', '__getnewargs__', '__gt__', '__hash__', '__init__', '__init_subclass__', '__iter__', '__le__', '__len__', '__lt__', '__mod__', '__mul__', '__ne__', '__new__', '__reduce__', '__reduce_ex__', '__repr__', '__rmod__', '__rmul__', '__setattr__', '__sizeof__', '__str__', '__subclasshook__', 'capitalize', 'casefold', 'center', 'count', 'encode', 'endswith', 'expandtabs', 'find', 'format', 'format_map', 'index', 'isalnum', 'isalpha', 'isascii', 'isdecimal', 'isdigit', 'isidentifier', 'islower', 'isnumeric', 'isprintable', 'isspace', 'istitle', 'isupper', 'join', 'ljust', 'lower', 'lstrip', 'maketrans', 'partition', 'removeprefix', 'removesuffix', 'replace', 'rfind', 'rindex', 'rjust', 'rpartition', 'rsplit', 'rstrip', 'split', 'splitlines', 'startswith', 'strip', 'swapcase', 'title', 'translate', 'upper', 'zfill']\n"
     ]
    }
   ],
   "source": [
    "print(dir(str))"
   ]
  },
  {
   "cell_type": "code",
   "execution_count": 37,
   "id": "ec3a2a0d",
   "metadata": {},
   "outputs": [
    {
     "name": "stdout",
     "output_type": "stream",
     "text": [
      "capitalize(),casefold(),center(),count(),encode(),endswith(),expandtabs(),find(),format(),format_map(),index(),isalnum(),isalpha(),isascii(),isdecimal(),isdigit(),isidentifier(),islower(),isnumeric(),isprintable(),isspace(),istitle(),isupper(),join(),ljust(),lower(),lstrip(),maketrans(),partition(),removeprefix(),removesuffix(),replace(),rfind(),rindex(),rjust(),rpartition(),rsplit(),rstrip(),split(),splitlines(),startswith(),strip(),swapcase(),title(),translate(),upper(),zfill(),"
     ]
    }
   ],
   "source": [
    "for func in dir(str):\n",
    "    if not func.endswith(\"__\"):\n",
    "        print(func,end='(),')\n",
    "        "
   ]
  },
  {
   "cell_type": "code",
   "execution_count": 5,
   "id": "1ea219f8",
   "metadata": {
    "scrolled": true
   },
   "outputs": [
    {
     "name": "stdout",
     "output_type": "stream",
     "text": [
      "EDUBRIDGE\n"
     ]
    }
   ],
   "source": [
    "print(\"edubridge\".upper())"
   ]
  },
  {
   "cell_type": "code",
   "execution_count": 24,
   "id": "13eeadc7",
   "metadata": {},
   "outputs": [
    {
     "data": {
      "text/plain": [
       "'Edubridge learning'"
      ]
     },
     "execution_count": 24,
     "metadata": {},
     "output_type": "execute_result"
    }
   ],
   "source": [
    "s1=\"edubridge learning\"\n",
    "s1.capitalize() #Return a capitalized version of the string."
   ]
  },
  {
   "cell_type": "code",
   "execution_count": 25,
   "id": "99dc304d",
   "metadata": {},
   "outputs": [
    {
     "data": {
      "text/plain": [
       "'edubridge learning'"
      ]
     },
     "execution_count": 25,
     "metadata": {},
     "output_type": "execute_result"
    }
   ],
   "source": [
    "s2='EduBridge Learning'\n",
    "s2.casefold() #Return a version of the string suitable for caseless comparisons."
   ]
  },
  {
   "cell_type": "code",
   "execution_count": 28,
   "id": "b47a43cb",
   "metadata": {},
   "outputs": [
    {
     "data": {
      "text/plain": [
       "'                                         Edubridge Learning                                         '"
      ]
     },
     "execution_count": 28,
     "metadata": {},
     "output_type": "execute_result"
    }
   ],
   "source": [
    "s3='Edubridge Learning'\n",
    "s3.center(100)  #Return a centered string of length width.  # 100"
   ]
  },
  {
   "cell_type": "code",
   "execution_count": 120,
   "id": "a2ec0296",
   "metadata": {},
   "outputs": [
    {
     "data": {
      "text/plain": [
       "3"
      ]
     },
     "execution_count": 120,
     "metadata": {},
     "output_type": "execute_result"
    }
   ],
   "source": [
    "s4='python programing and data Science python Problems'\n",
    "s4.count('p') #Return the number of non-overlapping occurrences of substring sub in"
   ]
  },
  {
   "cell_type": "code",
   "execution_count": 36,
   "id": "500697f4",
   "metadata": {},
   "outputs": [
    {
     "data": {
      "text/plain": [
       "False"
      ]
     },
     "execution_count": 36,
     "metadata": {},
     "output_type": "execute_result"
    }
   ],
   "source": [
    "s5='Edubridge Learning ltd'\n",
    "s5.endswith('ltd')"
   ]
  },
  {
   "cell_type": "code",
   "execution_count": 39,
   "id": "89b102d8",
   "metadata": {},
   "outputs": [
    {
     "name": "stdout",
     "output_type": "stream",
     "text": [
      "this is python file\n"
     ]
    }
   ],
   "source": [
    "if \"file.py\".endswith('.py'):\n",
    "    print(\"this is python file\")"
   ]
  },
  {
   "cell_type": "code",
   "execution_count": 42,
   "id": "74351830",
   "metadata": {},
   "outputs": [
    {
     "data": {
      "text/plain": [
       "1"
      ]
     },
     "execution_count": 42,
     "metadata": {},
     "output_type": "execute_result"
    }
   ],
   "source": [
    "s6='python programing and data Science python Problems'\n",
    "s6.find('y') #Return the lowest index in S where substring sub is found"
   ]
  },
  {
   "cell_type": "code",
   "execution_count": 57,
   "id": "0a7b3bbd",
   "metadata": {},
   "outputs": [
    {
     "data": {
      "text/plain": [
       "'this python program for Data Science learners the no of@ 100 learners here'"
      ]
     },
     "execution_count": 57,
     "metadata": {},
     "output_type": "execute_result"
    }
   ],
   "source": [
    "s6=\"this {} program for {} learners the no of@ {} learners here\"\n",
    "s6.format('python','Data Science',100)"
   ]
  },
  {
   "cell_type": "code",
   "execution_count": 62,
   "id": "1317b11a",
   "metadata": {},
   "outputs": [
    {
     "data": {
      "text/plain": [
       "'this python program for Data Science learners the no of@100 learners here'"
      ]
     },
     "execution_count": 62,
     "metadata": {},
     "output_type": "execute_result"
    }
   ],
   "source": [
    "s6=\"this {a1} program for {a2} learners the no of@{a3} learners here\"\n",
    "s6.format(a1='python',a2='Data Science',a3=100)"
   ]
  },
  {
   "cell_type": "code",
   "execution_count": 80,
   "id": "3c64a37d",
   "metadata": {},
   "outputs": [
    {
     "ename": "ValueError",
     "evalue": "substring not found",
     "output_type": "error",
     "traceback": [
      "\u001b[1;31m---------------------------------------------------------------------------\u001b[0m",
      "\u001b[1;31mValueError\u001b[0m                                Traceback (most recent call last)",
      "Input \u001b[1;32mIn [80]\u001b[0m, in \u001b[0;36m<cell line: 2>\u001b[1;34m()\u001b[0m\n\u001b[0;32m      1\u001b[0m txt \u001b[38;5;241m=\u001b[39m \u001b[38;5;124m\"\u001b[39m\u001b[38;5;124mHello, welcome to my world.\u001b[39m\u001b[38;5;124m\"\u001b[39m\n\u001b[1;32m----> 2\u001b[0m x \u001b[38;5;241m=\u001b[39m \u001b[43mtxt\u001b[49m\u001b[38;5;241;43m.\u001b[39;49m\u001b[43mindex\u001b[49m\u001b[43m(\u001b[49m\u001b[38;5;124;43m\"\u001b[39;49m\u001b[38;5;124;43me\u001b[39;49m\u001b[38;5;124;43m\"\u001b[39;49m\u001b[43m,\u001b[49m\u001b[43m \u001b[49m\u001b[38;5;241;43m15\u001b[39;49m\u001b[43m,\u001b[49m\u001b[43m \u001b[49m\u001b[38;5;241;43m18\u001b[39;49m\u001b[43m)\u001b[49m   \u001b[38;5;66;03m#S[start:end]\u001b[39;00m\n\u001b[0;32m      4\u001b[0m \u001b[38;5;28mprint\u001b[39m(x)\n",
      "\u001b[1;31mValueError\u001b[0m: substring not found"
     ]
    }
   ],
   "source": [
    "txt = \"Hello, welcome to my world.\"\n",
    "x = txt.index(\"e\", 15, 18)   #S[start:end]\n",
    "print(x) "
   ]
  },
  {
   "cell_type": "code",
   "execution_count": 83,
   "id": "f1f23a8a",
   "metadata": {},
   "outputs": [
    {
     "data": {
      "text/plain": [
       "0"
      ]
     },
     "execution_count": 83,
     "metadata": {},
     "output_type": "execute_result"
    }
   ],
   "source": [
    "txt = \"Hello, welcome to my world.\"\n",
    "txt.find(\"H\", 0, 10)  #Return -1 on failure."
   ]
  },
  {
   "cell_type": "code",
   "execution_count": 88,
   "id": "58429949",
   "metadata": {},
   "outputs": [
    {
     "data": {
      "text/plain": [
       "'e#545x#545a#545m#545p#545l#545e'"
      ]
     },
     "execution_count": 88,
     "metadata": {},
     "output_type": "execute_result"
    }
   ],
   "source": [
    "s7=\"#\"\n",
    "s7.join(\"example\") #Concatenate any number of strings."
   ]
  },
  {
   "cell_type": "code",
   "execution_count": 124,
   "id": "29ac9eb3",
   "metadata": {},
   "outputs": [
    {
     "data": {
      "text/plain": [
       "'Python Programming Python'"
      ]
     },
     "execution_count": 124,
     "metadata": {},
     "output_type": "execute_result"
    }
   ],
   "source": [
    "s8=\"Java Programming Java\"\n",
    "\n",
    "s8.replace('Java','Python',-1) #Return a copy with all occurrences of substring old replaced by new. all occurrence -1"
   ]
  },
  {
   "cell_type": "code",
   "execution_count": 90,
   "id": "943e4419",
   "metadata": {},
   "outputs": [
    {
     "data": {
      "text/plain": [
       "'Java Programming'"
      ]
     },
     "execution_count": 90,
     "metadata": {},
     "output_type": "execute_result"
    }
   ],
   "source": [
    "s8"
   ]
  },
  {
   "cell_type": "code",
   "execution_count": 93,
   "id": "1ee9cdea",
   "metadata": {},
   "outputs": [
    {
     "data": {
      "text/plain": [
       "['Java', 'python', 'Programming']"
      ]
     },
     "execution_count": 93,
     "metadata": {},
     "output_type": "execute_result"
    }
   ],
   "source": [
    "s8=\"Java,python,Programming\"\n",
    "s8.split(',') #Return a list of the words in the string, using sep as the delimiter string"
   ]
  },
  {
   "cell_type": "code",
   "execution_count": 98,
   "id": "f543a525",
   "metadata": {},
   "outputs": [
    {
     "name": "stdout",
     "output_type": "stream",
     "text": [
      "Enter the data by space seperated value45*69*47*47\n"
     ]
    },
    {
     "data": {
      "text/plain": [
       "['45', '69', '47', '47']"
      ]
     },
     "execution_count": 98,
     "metadata": {},
     "output_type": "execute_result"
    }
   ],
   "source": [
    "data=input(\"Enter the data by space seperated value\")\n",
    "data.split('*')\n"
   ]
  },
  {
   "cell_type": "code",
   "execution_count": 104,
   "id": "03e8faa8",
   "metadata": {},
   "outputs": [
    {
     "data": {
      "text/plain": [
       "'some text'"
      ]
     },
     "execution_count": 104,
     "metadata": {},
     "output_type": "execute_result"
    }
   ],
   "source": [
    "' some text  '.strip()"
   ]
  },
  {
   "cell_type": "code",
   "execution_count": 112,
   "id": "1fd8ea96",
   "metadata": {},
   "outputs": [
    {
     "name": "stdout",
     "output_type": "stream",
     "text": [
      "10.0\n"
     ]
    }
   ],
   "source": [
    "a=7\n",
    "b=a+int(\"0\")\n",
    "c=int(b)+3 \n",
    "\n",
    "\n",
    "print(float(c))\n"
   ]
  },
  {
   "cell_type": "code",
   "execution_count": 107,
   "id": "9fac94bb",
   "metadata": {},
   "outputs": [
    {
     "data": {
      "text/plain": [
       "'gdfggffg'"
      ]
     },
     "execution_count": 107,
     "metadata": {},
     "output_type": "execute_result"
    }
   ],
   "source": [
    "\"gdfg\"+\"gffg\""
   ]
  },
  {
   "cell_type": "code",
   "execution_count": 108,
   "id": "0d8e63cb",
   "metadata": {},
   "outputs": [
    {
     "data": {
      "text/plain": [
       "'xyzxyzxyz'"
      ]
     },
     "execution_count": 108,
     "metadata": {},
     "output_type": "execute_result"
    }
   ],
   "source": [
    "\"xyz\"*3"
   ]
  },
  {
   "cell_type": "code",
   "execution_count": 114,
   "id": "273b81d9",
   "metadata": {},
   "outputs": [
    {
     "name": "stderr",
     "output_type": "stream",
     "text": [
      "<>:1: SyntaxWarning: \"is\" with a literal. Did you mean \"==\"?\n",
      "<>:1: SyntaxWarning: \"is\" with a literal. Did you mean \"==\"?\n",
      "C:\\Users\\karthick\\AppData\\Local\\Temp\\ipykernel_27416\\1724571439.py:1: SyntaxWarning: \"is\" with a literal. Did you mean \"==\"?\n",
      "  \"python\"  is \"python program\"\n"
     ]
    },
    {
     "data": {
      "text/plain": [
       "False"
      ]
     },
     "execution_count": 114,
     "metadata": {},
     "output_type": "execute_result"
    }
   ],
   "source": [
    "\"python\" not in \"python program\" "
   ]
  },
  {
   "cell_type": "code",
   "execution_count": 119,
   "id": "33414843",
   "metadata": {},
   "outputs": [
    {
     "data": {
      "text/plain": [
       "True"
      ]
     },
     "execution_count": 119,
     "metadata": {},
     "output_type": "execute_result"
    }
   ],
   "source": [
    "\"a\">\"A\""
   ]
  },
  {
   "cell_type": "code",
   "execution_count": 117,
   "id": "131492e7",
   "metadata": {},
   "outputs": [
    {
     "data": {
      "text/plain": [
       "65"
      ]
     },
     "execution_count": 117,
     "metadata": {},
     "output_type": "execute_result"
    }
   ],
   "source": [
    "ord(\"A\")"
   ]
  },
  {
   "cell_type": "code",
   "execution_count": 118,
   "id": "51fbdad7",
   "metadata": {},
   "outputs": [
    {
     "data": {
      "text/plain": [
       "97"
      ]
     },
     "execution_count": 118,
     "metadata": {},
     "output_type": "execute_result"
    }
   ],
   "source": [
    "ord('a')"
   ]
  },
  {
   "cell_type": "markdown",
   "id": "62f7cab3",
   "metadata": {},
   "source": [
    "# List data Types"
   ]
  },
  {
   "cell_type": "code",
   "execution_count": 125,
   "id": "e6be28a1",
   "metadata": {},
   "outputs": [
    {
     "data": {
      "text/plain": [
       "'apple'"
      ]
     },
     "execution_count": 125,
     "metadata": {},
     "output_type": "execute_result"
    }
   ],
   "source": [
    "fruits=['apple','mango','orange','kiwi']\n",
    "fruits[0]"
   ]
  },
  {
   "cell_type": "markdown",
   "id": "42eb62d1",
   "metadata": {},
   "source": [
    "# Access list using Index"
   ]
  },
  {
   "cell_type": "code",
   "execution_count": 130,
   "id": "04a30274",
   "metadata": {},
   "outputs": [
    {
     "data": {
      "text/plain": [
       "'kiwi'"
      ]
     },
     "execution_count": 130,
     "metadata": {},
     "output_type": "execute_result"
    }
   ],
   "source": [
    "fruits[-1]"
   ]
  },
  {
   "cell_type": "code",
   "execution_count": 132,
   "id": "16e3524a",
   "metadata": {},
   "outputs": [
    {
     "data": {
      "text/plain": [
       "'orange'"
      ]
     },
     "execution_count": 132,
     "metadata": {},
     "output_type": "execute_result"
    }
   ],
   "source": [
    "fruits[2]"
   ]
  },
  {
   "cell_type": "code",
   "execution_count": 127,
   "id": "8804d0bb",
   "metadata": {},
   "outputs": [
    {
     "data": {
      "text/plain": [
       "list"
      ]
     },
     "execution_count": 127,
     "metadata": {},
     "output_type": "execute_result"
    }
   ],
   "source": [
    "type(fruits)"
   ]
  },
  {
   "cell_type": "code",
   "execution_count": 128,
   "id": "8e47023d",
   "metadata": {},
   "outputs": [
    {
     "data": {
      "text/plain": [
       "str"
      ]
     },
     "execution_count": 128,
     "metadata": {},
     "output_type": "execute_result"
    }
   ],
   "source": [
    "type(fruits[-1])"
   ]
  },
  {
   "cell_type": "markdown",
   "id": "2c75eda0",
   "metadata": {},
   "source": [
    "# List slicing  [sart:end:step]"
   ]
  },
  {
   "cell_type": "code",
   "execution_count": 133,
   "id": "bbfc6c96",
   "metadata": {},
   "outputs": [
    {
     "data": {
      "text/plain": [
       "['apple', 'mango']"
      ]
     },
     "execution_count": 133,
     "metadata": {},
     "output_type": "execute_result"
    }
   ],
   "source": [
    "fruits=['apple','mango','orange','kiwi']\n",
    "fruits[0:2] # start include end excluded"
   ]
  },
  {
   "cell_type": "code",
   "execution_count": 134,
   "id": "5637b3b2",
   "metadata": {},
   "outputs": [
    {
     "data": {
      "text/plain": [
       "['apple', 'mango', 'orange']"
      ]
     },
     "execution_count": 134,
     "metadata": {},
     "output_type": "execute_result"
    }
   ],
   "source": [
    "fruits[0:-1]"
   ]
  },
  {
   "cell_type": "code",
   "execution_count": 145,
   "id": "fcf43057",
   "metadata": {},
   "outputs": [
    {
     "data": {
      "text/plain": [
       "['mango', 'kiwi']"
      ]
     },
     "execution_count": 145,
     "metadata": {},
     "output_type": "execute_result"
    }
   ],
   "source": [
    "fruits[1::2]  # all element , step 2"
   ]
  },
  {
   "cell_type": "code",
   "execution_count": 140,
   "id": "22c3481b",
   "metadata": {},
   "outputs": [],
   "source": [
    "l1=[1,2,5,6.89,3.14,4+3j,'edubridge','learning',['jan','feb','march',['a','b','c']]]"
   ]
  },
  {
   "cell_type": "code",
   "execution_count": 144,
   "id": "967de9e3",
   "metadata": {},
   "outputs": [
    {
     "data": {
      "text/plain": [
       "[3.14, (4+3j), 'edubridge', 'learning']"
      ]
     },
     "execution_count": 144,
     "metadata": {},
     "output_type": "execute_result"
    }
   ],
   "source": [
    "l1[4:-1]"
   ]
  },
  {
   "cell_type": "markdown",
   "id": "1b0c4898",
   "metadata": {},
   "source": [
    "# List is Mutable"
   ]
  },
  {
   "cell_type": "code",
   "execution_count": 151,
   "id": "137ecfe7",
   "metadata": {},
   "outputs": [],
   "source": [
    "fruits=['apple','mango','orange','kiwi']"
   ]
  },
  {
   "cell_type": "code",
   "execution_count": 152,
   "id": "6edc1424",
   "metadata": {},
   "outputs": [],
   "source": [
    "fruits[0]=\"cust.apple\"    # list element can chageable"
   ]
  },
  {
   "cell_type": "code",
   "execution_count": 153,
   "id": "931e4981",
   "metadata": {},
   "outputs": [
    {
     "data": {
      "text/plain": [
       "['cust.apple', 'mango', 'orange', 'kiwi']"
      ]
     },
     "execution_count": 153,
     "metadata": {},
     "output_type": "execute_result"
    }
   ],
   "source": [
    "fruits"
   ]
  },
  {
   "cell_type": "markdown",
   "id": "7d3e5738",
   "metadata": {},
   "source": [
    "# list alias Problem"
   ]
  },
  {
   "cell_type": "code",
   "execution_count": 173,
   "id": "a62ce32e",
   "metadata": {},
   "outputs": [],
   "source": [
    "a1=[1,3,4,5]\n",
    "b1=a1\n",
    "b1[-1]=500"
   ]
  },
  {
   "cell_type": "code",
   "execution_count": 174,
   "id": "c905a591",
   "metadata": {},
   "outputs": [
    {
     "data": {
      "text/plain": [
       "[1, 3, 4, 500]"
      ]
     },
     "execution_count": 174,
     "metadata": {},
     "output_type": "execute_result"
    }
   ],
   "source": [
    "a1"
   ]
  },
  {
   "cell_type": "code",
   "execution_count": 175,
   "id": "fe4e7e88",
   "metadata": {},
   "outputs": [
    {
     "data": {
      "text/plain": [
       "[1, 3, 4, 500]"
      ]
     },
     "execution_count": 175,
     "metadata": {},
     "output_type": "execute_result"
    }
   ],
   "source": [
    "b1"
   ]
  },
  {
   "cell_type": "code",
   "execution_count": 176,
   "id": "8e8cfe98",
   "metadata": {},
   "outputs": [
    {
     "name": "stdout",
     "output_type": "stream",
     "text": [
      "2527344799936\n"
     ]
    }
   ],
   "source": [
    "print(id(a1))"
   ]
  },
  {
   "cell_type": "code",
   "execution_count": 177,
   "id": "d299383f",
   "metadata": {},
   "outputs": [
    {
     "name": "stdout",
     "output_type": "stream",
     "text": [
      "2527344799936\n"
     ]
    }
   ],
   "source": [
    "print(id(b1))"
   ]
  },
  {
   "cell_type": "code",
   "execution_count": 178,
   "id": "cc0ac165",
   "metadata": {},
   "outputs": [
    {
     "data": {
      "text/plain": [
       "True"
      ]
     },
     "execution_count": 178,
     "metadata": {},
     "output_type": "execute_result"
    }
   ],
   "source": [
    "a1==b1"
   ]
  },
  {
   "cell_type": "markdown",
   "id": "ca89c12f",
   "metadata": {},
   "source": [
    "# avoid list alias Problem"
   ]
  },
  {
   "cell_type": "code",
   "execution_count": 179,
   "id": "7a379b2e",
   "metadata": {},
   "outputs": [],
   "source": [
    "a1=[1,3,4,5]\n",
    "b1=a1.copy()  # a1[:]   using slice method \n",
    "b1[-1]=500"
   ]
  },
  {
   "cell_type": "code",
   "execution_count": 180,
   "id": "ab93f0c5",
   "metadata": {},
   "outputs": [
    {
     "data": {
      "text/plain": [
       "[1, 3, 4, 5]"
      ]
     },
     "execution_count": 180,
     "metadata": {},
     "output_type": "execute_result"
    }
   ],
   "source": [
    "a1"
   ]
  },
  {
   "cell_type": "code",
   "execution_count": 181,
   "id": "d4b264f7",
   "metadata": {},
   "outputs": [
    {
     "data": {
      "text/plain": [
       "[1, 3, 4, 500]"
      ]
     },
     "execution_count": 181,
     "metadata": {},
     "output_type": "execute_result"
    }
   ],
   "source": [
    "b1"
   ]
  },
  {
   "cell_type": "code",
   "execution_count": 183,
   "id": "cf864b38",
   "metadata": {},
   "outputs": [
    {
     "name": "stdout",
     "output_type": "stream",
     "text": [
      "a1:2527350461824 b1:2527349312064\n"
     ]
    }
   ],
   "source": [
    "print(f\"a1:{id(a1)} b1:{id(b1)}\")"
   ]
  },
  {
   "cell_type": "markdown",
   "id": "daf175a8",
   "metadata": {},
   "source": [
    "# Built-In function for List"
   ]
  },
  {
   "cell_type": "code",
   "execution_count": 154,
   "id": "ae3cddc7",
   "metadata": {},
   "outputs": [],
   "source": [
    "months=['jan','feb','march','april','may','june']"
   ]
  },
  {
   "cell_type": "code",
   "execution_count": 155,
   "id": "dde139ce",
   "metadata": {},
   "outputs": [
    {
     "data": {
      "text/plain": [
       "6"
      ]
     },
     "execution_count": 155,
     "metadata": {},
     "output_type": "execute_result"
    }
   ],
   "source": [
    "len(months)  # return total no. of elements in list"
   ]
  },
  {
   "cell_type": "code",
   "execution_count": 156,
   "id": "b09298d4",
   "metadata": {},
   "outputs": [
    {
     "data": {
      "text/plain": [
       "['e', 'd', 'u', 'b', 'r', 'i', 'd', 'g', 'e']"
      ]
     },
     "execution_count": 156,
     "metadata": {},
     "output_type": "execute_result"
    }
   ],
   "source": [
    "# type casting\n",
    "list('edubridge') # convert to list element"
   ]
  },
  {
   "cell_type": "code",
   "execution_count": 161,
   "id": "4cbb6348",
   "metadata": {},
   "outputs": [
    {
     "data": {
      "text/plain": [
       "[3, 34, 56, 4]"
      ]
     },
     "execution_count": 161,
     "metadata": {},
     "output_type": "execute_result"
    }
   ],
   "source": [
    "t1=(3,34,56,4)\n",
    "list(t1) # tuple to list"
   ]
  },
  {
   "cell_type": "markdown",
   "id": "4b0b96c9",
   "metadata": {},
   "source": [
    "# List Methods"
   ]
  },
  {
   "cell_type": "code",
   "execution_count": 188,
   "id": "6f48b533",
   "metadata": {},
   "outputs": [
    {
     "name": "stdout",
     "output_type": "stream",
     "text": [
      "['__add__', '__class__', '__class_getitem__', '__contains__', '__delattr__', '__delitem__', '__dir__', '__doc__', '__eq__', '__format__', '__ge__', '__getattribute__', '__getitem__', '__gt__', '__hash__', '__iadd__', '__imul__', '__init__', '__init_subclass__', '__iter__', '__le__', '__len__', '__lt__', '__mul__', '__ne__', '__new__', '__reduce__', '__reduce_ex__', '__repr__', '__reversed__', '__rmul__', '__setattr__', '__setitem__', '__sizeof__', '__str__', '__subclasshook__', 'append', 'clear', 'copy', 'count', 'extend', 'index', 'insert', 'pop', 'remove', 'reverse', 'sort']\n"
     ]
    }
   ],
   "source": [
    "print(dir(list))"
   ]
  },
  {
   "cell_type": "code",
   "execution_count": 187,
   "id": "bf376463",
   "metadata": {},
   "outputs": [
    {
     "name": "stdout",
     "output_type": "stream",
     "text": [
      "append(),clear(),copy(),count(),extend(),index(),insert(),pop(),remove(),reverse(),sort(),"
     ]
    }
   ],
   "source": [
    "for method in dir(list):\n",
    "    if  not method.startswith(\"__\"):\n",
    "        print(method,end=\"(),\")"
   ]
  },
  {
   "cell_type": "code",
   "execution_count": 195,
   "id": "b8726ebc",
   "metadata": {},
   "outputs": [],
   "source": [
    "months=['jan','feb','march','april','may','june']\n",
    "months.append('july')   #Append object to the end of the list."
   ]
  },
  {
   "cell_type": "code",
   "execution_count": 196,
   "id": "9ea2680c",
   "metadata": {},
   "outputs": [
    {
     "data": {
      "text/plain": [
       "['jan', 'feb', 'march', 'april', 'may', 'june', 'july']"
      ]
     },
     "execution_count": 196,
     "metadata": {},
     "output_type": "execute_result"
    }
   ],
   "source": [
    "months"
   ]
  },
  {
   "cell_type": "code",
   "execution_count": 197,
   "id": "8a20cab4",
   "metadata": {},
   "outputs": [],
   "source": [
    "l1=[1,2,3,4,5,6,7]\n",
    "months.append(l1) "
   ]
  },
  {
   "cell_type": "code",
   "execution_count": 198,
   "id": "8a44bac6",
   "metadata": {},
   "outputs": [
    {
     "data": {
      "text/plain": [
       "['jan', 'feb', 'march', 'april', 'may', 'june', 'july', [1, 2, 3, 4, 5, 6, 7]]"
      ]
     },
     "execution_count": 198,
     "metadata": {},
     "output_type": "execute_result"
    }
   ],
   "source": [
    "months"
   ]
  },
  {
   "cell_type": "code",
   "execution_count": 199,
   "id": "c5f18d51",
   "metadata": {},
   "outputs": [],
   "source": [
    "months.clear()#Remove all items from list."
   ]
  },
  {
   "cell_type": "code",
   "execution_count": 200,
   "id": "2b791160",
   "metadata": {},
   "outputs": [
    {
     "data": {
      "text/plain": [
       "[]"
      ]
     },
     "execution_count": 200,
     "metadata": {},
     "output_type": "execute_result"
    }
   ],
   "source": [
    "months"
   ]
  },
  {
   "cell_type": "code",
   "execution_count": 202,
   "id": "3bfe9850",
   "metadata": {},
   "outputs": [
    {
     "data": {
      "text/plain": [
       "2"
      ]
     },
     "execution_count": 202,
     "metadata": {},
     "output_type": "execute_result"
    }
   ],
   "source": [
    "months=['jan','feb','march','april','may','june','feb']\n",
    "months.count('feb') #Return number of occurrences of value"
   ]
  },
  {
   "cell_type": "code",
   "execution_count": 205,
   "id": "155f9fb0",
   "metadata": {},
   "outputs": [],
   "source": [
    "Q1=['jan','feb','march']\n",
    "Q2=['april','may','june']\n",
    "Q1.extend(Q2)  # Q1+Q2"
   ]
  },
  {
   "cell_type": "code",
   "execution_count": 206,
   "id": "39e3cbb2",
   "metadata": {},
   "outputs": [
    {
     "data": {
      "text/plain": [
       "['jan', 'feb', 'march', 'april', 'may', 'june']"
      ]
     },
     "execution_count": 206,
     "metadata": {},
     "output_type": "execute_result"
    }
   ],
   "source": [
    "Q1"
   ]
  },
  {
   "cell_type": "code",
   "execution_count": 207,
   "id": "03e3b492",
   "metadata": {},
   "outputs": [
    {
     "data": {
      "text/plain": [
       "['april', 'may', 'june']"
      ]
     },
     "execution_count": 207,
     "metadata": {},
     "output_type": "execute_result"
    }
   ],
   "source": [
    "Q2"
   ]
  },
  {
   "cell_type": "code",
   "execution_count": 208,
   "id": "4669336b",
   "metadata": {},
   "outputs": [
    {
     "data": {
      "text/plain": [
       "['jan', 'feb', 'march', 'april', 'may', 'june', 'april', 'may', 'june']"
      ]
     },
     "execution_count": 208,
     "metadata": {},
     "output_type": "execute_result"
    }
   ],
   "source": [
    "Q1+Q2"
   ]
  },
  {
   "cell_type": "code",
   "execution_count": 209,
   "id": "27639250",
   "metadata": {},
   "outputs": [
    {
     "data": {
      "text/plain": [
       "['jan', 'feb', 'march', 'april', 'may', 'june']"
      ]
     },
     "execution_count": 209,
     "metadata": {},
     "output_type": "execute_result"
    }
   ],
   "source": [
    "Q1"
   ]
  },
  {
   "cell_type": "code",
   "execution_count": 210,
   "id": "6eab06a7",
   "metadata": {},
   "outputs": [
    {
     "data": {
      "text/plain": [
       "['april', 'may', 'june', 'jan', 'feb', 'march']"
      ]
     },
     "execution_count": 210,
     "metadata": {},
     "output_type": "execute_result"
    }
   ],
   "source": [
    "Q1=['jan','feb','march']\n",
    "Q2=['april','may','june']\n",
    "Q2.extend(Q1)\n",
    "Q2"
   ]
  },
  {
   "cell_type": "code",
   "execution_count": 211,
   "id": "f7e931d2",
   "metadata": {},
   "outputs": [
    {
     "data": {
      "text/plain": [
       "['jan', 'feb', 'march']"
      ]
     },
     "execution_count": 211,
     "metadata": {},
     "output_type": "execute_result"
    }
   ],
   "source": [
    "Q1"
   ]
  },
  {
   "cell_type": "code",
   "execution_count": 213,
   "id": "b1b9cc53",
   "metadata": {},
   "outputs": [
    {
     "data": {
      "text/plain": [
       "['april', 'may', 'june', 'jan', 'feb', 'march']"
      ]
     },
     "execution_count": 213,
     "metadata": {},
     "output_type": "execute_result"
    }
   ],
   "source": [
    "Q1=['jan','feb','march']\n",
    "Q2=['april','may','june']\n",
    "Q2+Q1"
   ]
  },
  {
   "cell_type": "code",
   "execution_count": 218,
   "id": "1d16b5a9",
   "metadata": {},
   "outputs": [
    {
     "data": {
      "text/plain": [
       "6"
      ]
     },
     "execution_count": 218,
     "metadata": {},
     "output_type": "execute_result"
    }
   ],
   "source": [
    "#index()\n",
    "months=['jan','feb','march','april','may','june','feb']\n",
    "months.index('feb',2,7) #Return first index of value   start , end"
   ]
  },
  {
   "cell_type": "code",
   "execution_count": 223,
   "id": "2d63e60f",
   "metadata": {},
   "outputs": [],
   "source": [
    "Q1=['jan','feb','march']\n",
    "Q1.insert(1,\"one\")#Insert object before index."
   ]
  },
  {
   "cell_type": "code",
   "execution_count": 224,
   "id": "d9cc6154",
   "metadata": {},
   "outputs": [
    {
     "data": {
      "text/plain": [
       "['jan', 'one', 'feb', 'march']"
      ]
     },
     "execution_count": 224,
     "metadata": {},
     "output_type": "execute_result"
    }
   ],
   "source": [
    "Q1"
   ]
  },
  {
   "cell_type": "code",
   "execution_count": 271,
   "id": "66342073",
   "metadata": {},
   "outputs": [
    {
     "data": {
      "text/plain": [
       "'one'"
      ]
     },
     "execution_count": 271,
     "metadata": {},
     "output_type": "execute_result"
    }
   ],
   "source": [
    "Q1=['jan', 'one', 'feb', 'march']\n",
    "Q1.pop(1)"
   ]
  },
  {
   "cell_type": "code",
   "execution_count": 272,
   "id": "17819a07",
   "metadata": {},
   "outputs": [
    {
     "data": {
      "text/plain": [
       "['jan', 'feb', 'march']"
      ]
     },
     "execution_count": 272,
     "metadata": {},
     "output_type": "execute_result"
    }
   ],
   "source": [
    "Q1"
   ]
  },
  {
   "cell_type": "code",
   "execution_count": 229,
   "id": "dc3f6fed",
   "metadata": {},
   "outputs": [
    {
     "data": {
      "text/plain": [
       "'one'"
      ]
     },
     "execution_count": 229,
     "metadata": {},
     "output_type": "execute_result"
    }
   ],
   "source": [
    "Q1.pop(1)"
   ]
  },
  {
   "cell_type": "code",
   "execution_count": 232,
   "id": "e5842d7f",
   "metadata": {},
   "outputs": [],
   "source": [
    "months=['jan','feb','march','april','may','june','feb']\n",
    "months.remove('feb')#Remove first occurrence of value."
   ]
  },
  {
   "cell_type": "code",
   "execution_count": 233,
   "id": "3cfd7a8d",
   "metadata": {},
   "outputs": [
    {
     "data": {
      "text/plain": [
       "['jan', 'march', 'april', 'may', 'june', 'feb']"
      ]
     },
     "execution_count": 233,
     "metadata": {},
     "output_type": "execute_result"
    }
   ],
   "source": [
    "months"
   ]
  },
  {
   "cell_type": "code",
   "execution_count": 236,
   "id": "fef4fcdf",
   "metadata": {},
   "outputs": [],
   "source": [
    "months=['jan','feb','march','april','may','june','feb']\n",
    "months.reverse()"
   ]
  },
  {
   "cell_type": "code",
   "execution_count": 237,
   "id": "d586a724",
   "metadata": {},
   "outputs": [
    {
     "data": {
      "text/plain": [
       "['feb', 'june', 'may', 'april', 'march', 'feb', 'jan']"
      ]
     },
     "execution_count": 237,
     "metadata": {},
     "output_type": "execute_result"
    }
   ],
   "source": [
    "months"
   ]
  },
  {
   "cell_type": "code",
   "execution_count": 238,
   "id": "0a481e2e",
   "metadata": {},
   "outputs": [],
   "source": [
    "num=[20,9,45,89,23,5]\n",
    "num.sort()  # ASC order"
   ]
  },
  {
   "cell_type": "code",
   "execution_count": 239,
   "id": "ffa7abc3",
   "metadata": {},
   "outputs": [
    {
     "data": {
      "text/plain": [
       "[5, 9, 20, 23, 45, 89]"
      ]
     },
     "execution_count": 239,
     "metadata": {},
     "output_type": "execute_result"
    }
   ],
   "source": [
    "num"
   ]
  },
  {
   "cell_type": "code",
   "execution_count": 241,
   "id": "f09d6a26",
   "metadata": {},
   "outputs": [
    {
     "data": {
      "text/plain": [
       "[89, 45, 23, 20, 9, 5]"
      ]
     },
     "execution_count": 241,
     "metadata": {},
     "output_type": "execute_result"
    }
   ],
   "source": [
    "num=[20,9,45,89,23,5]\n",
    "num.sort(reverse=True)  # DESC order\n",
    "num"
   ]
  },
  {
   "cell_type": "markdown",
   "id": "f82ce344",
   "metadata": {},
   "source": [
    "# Tuple  data Type"
   ]
  },
  {
   "cell_type": "code",
   "execution_count": 242,
   "id": "f646407a",
   "metadata": {},
   "outputs": [],
   "source": [
    "#comma seperated value /( )\n",
    "t1=(1,3,5,7)\n",
    "t2=2,4,6"
   ]
  },
  {
   "cell_type": "code",
   "execution_count": 243,
   "id": "edcb4485",
   "metadata": {},
   "outputs": [
    {
     "name": "stdout",
     "output_type": "stream",
     "text": [
      "<class 'tuple'> <class 'tuple'>\n"
     ]
    }
   ],
   "source": [
    "print(type(t1),type(t2))"
   ]
  },
  {
   "cell_type": "code",
   "execution_count": 246,
   "id": "eed160cd",
   "metadata": {},
   "outputs": [
    {
     "name": "stdout",
     "output_type": "stream",
     "text": [
      "(10, 20, 'a', 'b', ['apple', 'orange'], (4, 6, 7))\n"
     ]
    }
   ],
   "source": [
    "t3=(10,20,'a','b',['apple','orange'],(4,6,7))\n",
    "print(t3)"
   ]
  },
  {
   "cell_type": "code",
   "execution_count": 247,
   "id": "cd5c480c",
   "metadata": {},
   "outputs": [
    {
     "data": {
      "text/plain": [
       "10"
      ]
     },
     "execution_count": 247,
     "metadata": {},
     "output_type": "execute_result"
    }
   ],
   "source": [
    "# Accessing Tuple Elements using Index\n",
    "t3[0]"
   ]
  },
  {
   "cell_type": "code",
   "execution_count": 248,
   "id": "643c369f",
   "metadata": {},
   "outputs": [
    {
     "data": {
      "text/plain": [
       "(4, 6, 7)"
      ]
     },
     "execution_count": 248,
     "metadata": {},
     "output_type": "execute_result"
    }
   ],
   "source": [
    "t3[-1]"
   ]
  },
  {
   "cell_type": "code",
   "execution_count": 249,
   "id": "beb100f6",
   "metadata": {},
   "outputs": [
    {
     "data": {
      "text/plain": [
       "('a', 'b', ['apple', 'orange'])"
      ]
     },
     "execution_count": 249,
     "metadata": {},
     "output_type": "execute_result"
    }
   ],
   "source": [
    "# tuple Slicing [start:end:step]\n",
    "t3=(10,20,'a','b',['apple','orange'],(4,6,7))\n",
    "t3[2:5]"
   ]
  },
  {
   "cell_type": "code",
   "execution_count": 250,
   "id": "be2b35de",
   "metadata": {},
   "outputs": [
    {
     "data": {
      "text/plain": [
       "(10, 'a', ['apple', 'orange'])"
      ]
     },
     "execution_count": 250,
     "metadata": {},
     "output_type": "execute_result"
    }
   ],
   "source": [
    "t3[::2]"
   ]
  },
  {
   "cell_type": "code",
   "execution_count": 251,
   "id": "0378a630",
   "metadata": {},
   "outputs": [
    {
     "data": {
      "text/plain": [
       "((4, 6, 7), ['apple', 'orange'], 'b', 'a', 20, 10)"
      ]
     },
     "execution_count": 251,
     "metadata": {},
     "output_type": "execute_result"
    }
   ],
   "source": [
    "t3[::-1]"
   ]
  },
  {
   "cell_type": "code",
   "execution_count": 252,
   "id": "909400ea",
   "metadata": {},
   "outputs": [
    {
     "ename": "TypeError",
     "evalue": "'tuple' object does not support item assignment",
     "output_type": "error",
     "traceback": [
      "\u001b[1;31m---------------------------------------------------------------------------\u001b[0m",
      "\u001b[1;31mTypeError\u001b[0m                                 Traceback (most recent call last)",
      "Input \u001b[1;32mIn [252]\u001b[0m, in \u001b[0;36m<cell line: 3>\u001b[1;34m()\u001b[0m\n\u001b[0;32m      1\u001b[0m \u001b[38;5;66;03m# Tuple is immutable\u001b[39;00m\n\u001b[0;32m      2\u001b[0m t1\u001b[38;5;241m=\u001b[39m(\u001b[38;5;241m1\u001b[39m,\u001b[38;5;241m3\u001b[39m,\u001b[38;5;241m5\u001b[39m,\u001b[38;5;241m7\u001b[39m)\n\u001b[1;32m----> 3\u001b[0m t1[\u001b[38;5;241m-\u001b[39m\u001b[38;5;241m1\u001b[39m]\u001b[38;5;241m=\u001b[39m\u001b[38;5;241m70\u001b[39m\n",
      "\u001b[1;31mTypeError\u001b[0m: 'tuple' object does not support item assignment"
     ]
    }
   ],
   "source": [
    "# Tuple is immutable\n",
    "t1=(1,3,5,7)\n",
    "t1[-1]=70"
   ]
  },
  {
   "cell_type": "code",
   "execution_count": 253,
   "id": "7ed79c06",
   "metadata": {},
   "outputs": [
    {
     "data": {
      "text/plain": [
       "6"
      ]
     },
     "execution_count": 253,
     "metadata": {},
     "output_type": "execute_result"
    }
   ],
   "source": [
    "# build in methods used for Tuple\n",
    "t3=(10,20,'a','b',['apple','orange'],(4,6,7))\n",
    "len(t3) "
   ]
  },
  {
   "cell_type": "code",
   "execution_count": 254,
   "id": "1eec23ac",
   "metadata": {},
   "outputs": [
    {
     "data": {
      "text/plain": [
       "('e', 'd', 'u', 'b', 'r', 'i', 'd', 'g', 'e')"
      ]
     },
     "execution_count": 254,
     "metadata": {},
     "output_type": "execute_result"
    }
   ],
   "source": [
    "# type cast\n",
    "tuple(\"edubridge\")"
   ]
  },
  {
   "cell_type": "code",
   "execution_count": 255,
   "id": "f15ba443",
   "metadata": {},
   "outputs": [
    {
     "data": {
      "text/plain": [
       "(45, 56, 78, 43, 'ad')"
      ]
     },
     "execution_count": 255,
     "metadata": {},
     "output_type": "execute_result"
    }
   ],
   "source": [
    "l1=[45,56,78,43,'ad']\n",
    "tuple(l1)"
   ]
  },
  {
   "cell_type": "markdown",
   "id": "2f380bbe",
   "metadata": {},
   "source": [
    "# Tuple Methods"
   ]
  },
  {
   "cell_type": "code",
   "execution_count": 256,
   "id": "44455419",
   "metadata": {},
   "outputs": [
    {
     "name": "stdout",
     "output_type": "stream",
     "text": [
      "count(),index(),"
     ]
    }
   ],
   "source": [
    "for method in dir(tuple):\n",
    "    if not method.startswith(\"__\"):\n",
    "        print(method,end=\"(),\")"
   ]
  },
  {
   "cell_type": "code",
   "execution_count": 258,
   "id": "9d13b56c",
   "metadata": {},
   "outputs": [
    {
     "data": {
      "text/plain": [
       "2"
      ]
     },
     "execution_count": 258,
     "metadata": {},
     "output_type": "execute_result"
    }
   ],
   "source": [
    "l1=[45,56,78,43,'ad',43]\n",
    "l1.count(43)# Return number of occurrences of value."
   ]
  },
  {
   "cell_type": "code",
   "execution_count": 261,
   "id": "6f704caf",
   "metadata": {},
   "outputs": [
    {
     "data": {
      "text/plain": [
       "3"
      ]
     },
     "execution_count": 261,
     "metadata": {},
     "output_type": "execute_result"
    }
   ],
   "source": [
    "l1=[45,56,78,43,'ad',43]\n",
    "l1.index(43,0,5)"
   ]
  },
  {
   "cell_type": "code",
   "execution_count": 262,
   "id": "82048d98",
   "metadata": {},
   "outputs": [
    {
     "data": {
      "text/plain": [
       "(2, 34, 5, 45, 67, 78)"
      ]
     },
     "execution_count": 262,
     "metadata": {},
     "output_type": "execute_result"
    }
   ],
   "source": [
    "t1=(2,34,5)\n",
    "t2=(45,67,78)\n",
    "t1+t2"
   ]
  },
  {
   "cell_type": "code",
   "execution_count": 263,
   "id": "c121b3b0",
   "metadata": {},
   "outputs": [
    {
     "data": {
      "text/plain": [
       "(2, 34, 5)"
      ]
     },
     "execution_count": 263,
     "metadata": {},
     "output_type": "execute_result"
    }
   ],
   "source": [
    "t1"
   ]
  },
  {
   "cell_type": "code",
   "execution_count": 264,
   "id": "6110fccd",
   "metadata": {},
   "outputs": [
    {
     "data": {
      "text/plain": [
       "(45, 67, 78)"
      ]
     },
     "execution_count": 264,
     "metadata": {},
     "output_type": "execute_result"
    }
   ],
   "source": [
    "t2"
   ]
  },
  {
   "cell_type": "code",
   "execution_count": 265,
   "id": "4ed2427e",
   "metadata": {},
   "outputs": [
    {
     "data": {
      "text/plain": [
       "(2, 34, 5, 2, 34, 5, 2, 34, 5, 2, 34, 5)"
      ]
     },
     "execution_count": 265,
     "metadata": {},
     "output_type": "execute_result"
    }
   ],
   "source": [
    "t1*4 # repeat"
   ]
  },
  {
   "cell_type": "code",
   "execution_count": 266,
   "id": "94c15d5b",
   "metadata": {},
   "outputs": [
    {
     "data": {
      "text/plain": [
       "True"
      ]
     },
     "execution_count": 266,
     "metadata": {},
     "output_type": "execute_result"
    }
   ],
   "source": [
    "t1=(2,34,5)\n",
    "5 in t1"
   ]
  },
  {
   "cell_type": "code",
   "execution_count": 268,
   "id": "63c361b6",
   "metadata": {},
   "outputs": [
    {
     "data": {
      "text/plain": [
       "True"
      ]
     },
     "execution_count": 268,
     "metadata": {},
     "output_type": "execute_result"
    }
   ],
   "source": [
    "t1=(2,34,5)\n",
    "10 not in t1"
   ]
  },
  {
   "cell_type": "markdown",
   "id": "6a58bfcf",
   "metadata": {},
   "source": [
    "# Dict Data Type"
   ]
  },
  {
   "cell_type": "code",
   "execution_count": 273,
   "id": "abc8cef0",
   "metadata": {},
   "outputs": [],
   "source": [
    "month={1:\"jan\",2:\"feb\",3:'march'}"
   ]
  },
  {
   "cell_type": "code",
   "execution_count": 274,
   "id": "2e0292ed",
   "metadata": {},
   "outputs": [
    {
     "name": "stdout",
     "output_type": "stream",
     "text": [
      "<class 'dict'>\n"
     ]
    }
   ],
   "source": [
    "print(type(month))"
   ]
  },
  {
   "cell_type": "markdown",
   "id": "c950b436",
   "metadata": {},
   "source": [
    "# access the dict using  key as index   dict_name[key]"
   ]
  },
  {
   "cell_type": "code",
   "execution_count": 277,
   "id": "687620a1",
   "metadata": {},
   "outputs": [
    {
     "data": {
      "text/plain": [
       "'jan'"
      ]
     },
     "execution_count": 277,
     "metadata": {},
     "output_type": "execute_result"
    }
   ],
   "source": [
    "month[1]  # key is 1  "
   ]
  },
  {
   "cell_type": "code",
   "execution_count": 281,
   "id": "d43814d4",
   "metadata": {},
   "outputs": [
    {
     "data": {
      "text/plain": [
       "'march'"
      ]
     },
     "execution_count": 281,
     "metadata": {},
     "output_type": "execute_result"
    }
   ],
   "source": [
    "month[3]"
   ]
  },
  {
   "cell_type": "code",
   "execution_count": 279,
   "id": "43f22381",
   "metadata": {},
   "outputs": [
    {
     "data": {
      "text/plain": [
       "str"
      ]
     },
     "execution_count": 279,
     "metadata": {},
     "output_type": "execute_result"
    }
   ],
   "source": [
    "type(month[3])"
   ]
  },
  {
   "cell_type": "code",
   "execution_count": null,
   "id": "4fc7927d",
   "metadata": {},
   "outputs": [],
   "source": [
    "# dict can't do slicing"
   ]
  },
  {
   "cell_type": "markdown",
   "id": "0e4376a7",
   "metadata": {},
   "source": [
    "# dict is mutable and dict key is immutable"
   ]
  },
  {
   "cell_type": "code",
   "execution_count": 302,
   "id": "53aefa0d",
   "metadata": {},
   "outputs": [
    {
     "ename": "TypeError",
     "evalue": "unhashable type: 'list'",
     "output_type": "error",
     "traceback": [
      "\u001b[1;31m---------------------------------------------------------------------------\u001b[0m",
      "\u001b[1;31mTypeError\u001b[0m                                 Traceback (most recent call last)",
      "Input \u001b[1;32mIn [302]\u001b[0m, in \u001b[0;36m<cell line: 1>\u001b[1;34m()\u001b[0m\n\u001b[1;32m----> 1\u001b[0m d1\u001b[38;5;241m=\u001b[39m{[\u001b[38;5;241m1\u001b[39m,\u001b[38;5;241m2\u001b[39m]:\u001b[38;5;124m\"\u001b[39m\u001b[38;5;124ma\u001b[39m\u001b[38;5;124m\"\u001b[39m}\n",
      "\u001b[1;31mTypeError\u001b[0m: unhashable type: 'list'"
     ]
    }
   ],
   "source": [
    "d1={[1,2]:\"a\"}"
   ]
  },
  {
   "cell_type": "code",
   "execution_count": 304,
   "id": "1c76987c",
   "metadata": {},
   "outputs": [],
   "source": [
    "d1={(1,2):\"a\",(3,4):'b'} # key always immutable"
   ]
  },
  {
   "cell_type": "code",
   "execution_count": 307,
   "id": "762af39c",
   "metadata": {},
   "outputs": [
    {
     "ename": "KeyError",
     "evalue": "4",
     "output_type": "error",
     "traceback": [
      "\u001b[1;31m---------------------------------------------------------------------------\u001b[0m",
      "\u001b[1;31mKeyError\u001b[0m                                  Traceback (most recent call last)",
      "Input \u001b[1;32mIn [307]\u001b[0m, in \u001b[0;36m<cell line: 1>\u001b[1;34m()\u001b[0m\n\u001b[1;32m----> 1\u001b[0m \u001b[43md1\u001b[49m\u001b[43m[\u001b[49m\u001b[43m(\u001b[49m\u001b[38;5;241;43m4\u001b[39;49m\u001b[43m)\u001b[49m\u001b[43m]\u001b[49m\n",
      "\u001b[1;31mKeyError\u001b[0m: 4"
     ]
    }
   ],
   "source": [
    "d1[(4)]"
   ]
  },
  {
   "cell_type": "markdown",
   "id": "0dc3a378",
   "metadata": {},
   "source": [
    "### add element / modify elements in dictanory  using [ ]"
   ]
  },
  {
   "cell_type": "code",
   "execution_count": 289,
   "id": "34d0d5ca",
   "metadata": {},
   "outputs": [],
   "source": [
    "month={1:\"jan\",2:\"feb\",3:'march'}"
   ]
  },
  {
   "cell_type": "code",
   "execution_count": 290,
   "id": "c958eaad",
   "metadata": {},
   "outputs": [],
   "source": [
    "month[4]='april'   # if key is present it will overwrite value, else create new element"
   ]
  },
  {
   "cell_type": "code",
   "execution_count": 291,
   "id": "a33b9148",
   "metadata": {},
   "outputs": [
    {
     "data": {
      "text/plain": [
       "{1: 'jan', 2: 'feb', 3: 'march', 4: 'april'}"
      ]
     },
     "execution_count": 291,
     "metadata": {},
     "output_type": "execute_result"
    }
   ],
   "source": [
    "month"
   ]
  },
  {
   "cell_type": "code",
   "execution_count": 292,
   "id": "8c5526ac",
   "metadata": {},
   "outputs": [],
   "source": [
    "month[2]='something' "
   ]
  },
  {
   "cell_type": "code",
   "execution_count": 293,
   "id": "8a157725",
   "metadata": {},
   "outputs": [
    {
     "data": {
      "text/plain": [
       "{1: 'jan', 2: 'something', 3: 'march', 4: 'april'}"
      ]
     },
     "execution_count": 293,
     "metadata": {},
     "output_type": "execute_result"
    }
   ],
   "source": [
    "month"
   ]
  },
  {
   "cell_type": "markdown",
   "id": "8c0c848b",
   "metadata": {},
   "source": [
    "### Nested dict"
   ]
  },
  {
   "cell_type": "code",
   "execution_count": 295,
   "id": "ae783155",
   "metadata": {},
   "outputs": [],
   "source": [
    "month_q2={1:\"jan\",2:\"feb\",3:'march',\"Q2\":{4:'april',5:'may',6:'june'}}"
   ]
  },
  {
   "cell_type": "code",
   "execution_count": 296,
   "id": "e3590c3f",
   "metadata": {},
   "outputs": [
    {
     "data": {
      "text/plain": [
       "'jan'"
      ]
     },
     "execution_count": 296,
     "metadata": {},
     "output_type": "execute_result"
    }
   ],
   "source": [
    "month_q2[1]"
   ]
  },
  {
   "cell_type": "code",
   "execution_count": 299,
   "id": "71a9ec9b",
   "metadata": {},
   "outputs": [
    {
     "data": {
      "text/plain": [
       "{4: 'april', 5: 'may', 6: 'june'}"
      ]
     },
     "execution_count": 299,
     "metadata": {},
     "output_type": "execute_result"
    }
   ],
   "source": [
    "month_q2['Q2']"
   ]
  },
  {
   "cell_type": "code",
   "execution_count": 301,
   "id": "603d1f7e",
   "metadata": {},
   "outputs": [
    {
     "name": "stdout",
     "output_type": "stream",
     "text": [
      "<class 'dict'>\n"
     ]
    }
   ],
   "source": [
    "print(type(month_q2['Q2']))"
   ]
  },
  {
   "cell_type": "markdown",
   "id": "bb341b7e",
   "metadata": {},
   "source": [
    "# Build-in methods for dict"
   ]
  },
  {
   "cell_type": "code",
   "execution_count": 308,
   "id": "4037922a",
   "metadata": {},
   "outputs": [
    {
     "data": {
      "text/plain": [
       "4"
      ]
     },
     "execution_count": 308,
     "metadata": {},
     "output_type": "execute_result"
    }
   ],
   "source": [
    "month_q2={1:\"jan\",2:\"feb\",3:'march',\"Q2\":{4:'april',5:'may',6:'june'}}\n",
    "len(month_q2) # no .of item set /no of keys"
   ]
  },
  {
   "cell_type": "code",
   "execution_count": 309,
   "id": "7cfebf2f",
   "metadata": {},
   "outputs": [
    {
     "data": {
      "text/plain": [
       "{}"
      ]
     },
     "execution_count": 309,
     "metadata": {},
     "output_type": "execute_result"
    }
   ],
   "source": [
    "dict() # constructor of dict"
   ]
  },
  {
   "cell_type": "code",
   "execution_count": 312,
   "id": "3812c243",
   "metadata": {},
   "outputs": [
    {
     "data": {
      "text/plain": [
       "{'a': 'apple', 'b': 'ball', 'c': 'cat'}"
      ]
     },
     "execution_count": 312,
     "metadata": {},
     "output_type": "execute_result"
    }
   ],
   "source": [
    "dict(a='apple',b='ball',c='cat') # keyword argument "
   ]
  },
  {
   "cell_type": "markdown",
   "id": "d98c0c3e",
   "metadata": {},
   "source": [
    "# dict methods"
   ]
  },
  {
   "cell_type": "code",
   "execution_count": 315,
   "id": "f9ec89e7",
   "metadata": {},
   "outputs": [
    {
     "name": "stdout",
     "output_type": "stream",
     "text": [
      "['__class__', '__class_getitem__', '__contains__', '__delattr__', '__delitem__', '__dir__', '__doc__', '__eq__', '__format__', '__ge__', '__getattribute__', '__getitem__', '__gt__', '__hash__', '__init__', '__init_subclass__', '__ior__', '__iter__', '__le__', '__len__', '__lt__', '__ne__', '__new__', '__or__', '__reduce__', '__reduce_ex__', '__repr__', '__reversed__', '__ror__', '__setattr__', '__setitem__', '__sizeof__', '__str__', '__subclasshook__', 'clear', 'copy', 'fromkeys', 'get', 'items', 'keys', 'pop', 'popitem', 'setdefault', 'update', 'values']\n"
     ]
    }
   ],
   "source": [
    "print(dir(dict))"
   ]
  },
  {
   "cell_type": "code",
   "execution_count": 314,
   "id": "e33eaa38",
   "metadata": {},
   "outputs": [
    {
     "name": "stdout",
     "output_type": "stream",
     "text": [
      "clear(),copy(),fromkeys(),get(),items(),keys(),pop(),popitem(),setdefault(),update(),values(),"
     ]
    }
   ],
   "source": [
    "for method in dir(dict):\n",
    "    if not method.endswith(\"__\"):\n",
    "        print(method,end=\"(),\")"
   ]
  },
  {
   "cell_type": "code",
   "execution_count": 316,
   "id": "8b878be6",
   "metadata": {},
   "outputs": [],
   "source": [
    "month={1:\"jan\",2:\"feb\",3:'march'}"
   ]
  },
  {
   "cell_type": "code",
   "execution_count": 317,
   "id": "6f8a8c6b",
   "metadata": {},
   "outputs": [
    {
     "data": {
      "text/plain": [
       "dict_values(['jan', 'feb', 'march'])"
      ]
     },
     "execution_count": 317,
     "metadata": {},
     "output_type": "execute_result"
    }
   ],
   "source": [
    "month.values() #return dict values"
   ]
  },
  {
   "cell_type": "code",
   "execution_count": 318,
   "id": "89075378",
   "metadata": {},
   "outputs": [
    {
     "data": {
      "text/plain": [
       "dict_keys([1, 2, 3])"
      ]
     },
     "execution_count": 318,
     "metadata": {},
     "output_type": "execute_result"
    }
   ],
   "source": [
    "month.keys() # return dict keys"
   ]
  },
  {
   "cell_type": "code",
   "execution_count": 324,
   "id": "c1717114",
   "metadata": {},
   "outputs": [
    {
     "data": {
      "text/plain": [
       "dict_items([(1, 'jan'), (2, 'feb'), (3, 'march')])"
      ]
     },
     "execution_count": 324,
     "metadata": {},
     "output_type": "execute_result"
    }
   ],
   "source": [
    "month.items() # return key,value pair as item"
   ]
  },
  {
   "cell_type": "code",
   "execution_count": 325,
   "id": "e2b13a10",
   "metadata": {},
   "outputs": [
    {
     "data": {
      "text/plain": [
       "'feb'"
      ]
     },
     "execution_count": 325,
     "metadata": {},
     "output_type": "execute_result"
    }
   ],
   "source": [
    "month.get(2) # return value for key"
   ]
  },
  {
   "cell_type": "code",
   "execution_count": 331,
   "id": "1d7245be",
   "metadata": {},
   "outputs": [],
   "source": [
    "month.update({4:\"april\",5:\"may\"})"
   ]
  },
  {
   "cell_type": "code",
   "execution_count": 332,
   "id": "c373680b",
   "metadata": {},
   "outputs": [
    {
     "data": {
      "text/plain": [
       "{1: 'jan', 2: 'feb', 3: 'march', 4: 'april', 5: 'may'}"
      ]
     },
     "execution_count": 332,
     "metadata": {},
     "output_type": "execute_result"
    }
   ],
   "source": [
    "month"
   ]
  },
  {
   "cell_type": "code",
   "execution_count": 336,
   "id": "042c6670",
   "metadata": {},
   "outputs": [
    {
     "data": {
      "text/plain": [
       "{1: 'a', 2: 'a', 3: 'a'}"
      ]
     },
     "execution_count": 336,
     "metadata": {},
     "output_type": "execute_result"
    }
   ],
   "source": [
    "month.fromkeys([1,2,3],'a') # create dict"
   ]
  },
  {
   "cell_type": "code",
   "execution_count": 338,
   "id": "9082ee7e",
   "metadata": {},
   "outputs": [],
   "source": [
    "d1=month.copy() # only copy elements not reference"
   ]
  },
  {
   "cell_type": "code",
   "execution_count": 339,
   "id": "491ac066",
   "metadata": {},
   "outputs": [
    {
     "data": {
      "text/plain": [
       "{1: 'jan', 2: 'feb', 3: 'march', 4: 'april', 5: 'may'}"
      ]
     },
     "execution_count": 339,
     "metadata": {},
     "output_type": "execute_result"
    }
   ],
   "source": [
    "d1"
   ]
  },
  {
   "cell_type": "code",
   "execution_count": 340,
   "id": "edefd2a6",
   "metadata": {},
   "outputs": [],
   "source": [
    "d1=month  # dict alias problem"
   ]
  },
  {
   "cell_type": "code",
   "execution_count": 341,
   "id": "80f3de81",
   "metadata": {},
   "outputs": [
    {
     "data": {
      "text/plain": [
       "{1: 'jan', 2: 'feb', 3: 'march', 4: 'april', 5: 'may'}"
      ]
     },
     "execution_count": 341,
     "metadata": {},
     "output_type": "execute_result"
    }
   ],
   "source": [
    "d1"
   ]
  },
  {
   "cell_type": "code",
   "execution_count": 342,
   "id": "ec602d0d",
   "metadata": {},
   "outputs": [
    {
     "name": "stdout",
     "output_type": "stream",
     "text": [
      "2527349263104 2527349263104\n"
     ]
    }
   ],
   "source": [
    "print(id(month),id(d1))"
   ]
  },
  {
   "cell_type": "code",
   "execution_count": 343,
   "id": "80922cb5",
   "metadata": {},
   "outputs": [
    {
     "data": {
      "text/plain": [
       "{1: 'jan', 2: 'feb', 3: 'march', 4: 'april', 5: 'may'}"
      ]
     },
     "execution_count": 343,
     "metadata": {},
     "output_type": "execute_result"
    }
   ],
   "source": [
    "month"
   ]
  },
  {
   "cell_type": "code",
   "execution_count": 345,
   "id": "500d97c9",
   "metadata": {},
   "outputs": [
    {
     "data": {
      "text/plain": [
       "'may'"
      ]
     },
     "execution_count": 345,
     "metadata": {},
     "output_type": "execute_result"
    }
   ],
   "source": [
    "month.pop(5)"
   ]
  },
  {
   "cell_type": "code",
   "execution_count": 346,
   "id": "3e084f0f",
   "metadata": {},
   "outputs": [
    {
     "data": {
      "text/plain": [
       "{1: 'jan', 2: 'feb', 3: 'march', 4: 'april'}"
      ]
     },
     "execution_count": 346,
     "metadata": {},
     "output_type": "execute_result"
    }
   ],
   "source": [
    "month"
   ]
  },
  {
   "cell_type": "code",
   "execution_count": 347,
   "id": "6d101cea",
   "metadata": {},
   "outputs": [
    {
     "data": {
      "text/plain": [
       "(4, 'april')"
      ]
     },
     "execution_count": 347,
     "metadata": {},
     "output_type": "execute_result"
    }
   ],
   "source": [
    "month.popitem()  #Remove and return a (key, value) pair as a 2-tuple."
   ]
  },
  {
   "cell_type": "code",
   "execution_count": 348,
   "id": "f38119a1",
   "metadata": {},
   "outputs": [],
   "source": [
    "month.clear()"
   ]
  },
  {
   "cell_type": "code",
   "execution_count": 349,
   "id": "32997af2",
   "metadata": {},
   "outputs": [
    {
     "data": {
      "text/plain": [
       "{}"
      ]
     },
     "execution_count": 349,
     "metadata": {},
     "output_type": "execute_result"
    }
   ],
   "source": [
    "month"
   ]
  },
  {
   "cell_type": "code",
   "execution_count": 350,
   "id": "70313b2c",
   "metadata": {},
   "outputs": [
    {
     "name": "stdout",
     "output_type": "stream",
     "text": [
      "['__and__', '__class__', '__class_getitem__', '__contains__', '__delattr__', '__dir__', '__doc__', '__eq__', '__format__', '__ge__', '__getattribute__', '__gt__', '__hash__', '__iand__', '__init__', '__init_subclass__', '__ior__', '__isub__', '__iter__', '__ixor__', '__le__', '__len__', '__lt__', '__ne__', '__new__', '__or__', '__rand__', '__reduce__', '__reduce_ex__', '__repr__', '__ror__', '__rsub__', '__rxor__', '__setattr__', '__sizeof__', '__str__', '__sub__', '__subclasshook__', '__xor__', 'add', 'clear', 'copy', 'difference', 'difference_update', 'discard', 'intersection', 'intersection_update', 'isdisjoint', 'issubset', 'issuperset', 'pop', 'remove', 'symmetric_difference', 'symmetric_difference_update', 'union', 'update']\n"
     ]
    }
   ],
   "source": [
    "print(dir(set))"
   ]
  },
  {
   "cell_type": "markdown",
   "id": "22495b8b",
   "metadata": {},
   "source": [
    "# set"
   ]
  },
  {
   "cell_type": "code",
   "execution_count": 3,
   "id": "b62512f8",
   "metadata": {},
   "outputs": [
    {
     "data": {
      "text/plain": [
       "set()"
      ]
     },
     "execution_count": 3,
     "metadata": {},
     "output_type": "execute_result"
    }
   ],
   "source": [
    "s1=set() # create empty set\n",
    "s1"
   ]
  },
  {
   "cell_type": "code",
   "execution_count": 7,
   "id": "4f7b40e2",
   "metadata": {},
   "outputs": [
    {
     "data": {
      "text/plain": [
       "{('a', 'b', 'c'), (2, 3), 1, 3, 5, 6, 7, 'a', 'b', 'c', 'd', 'e'}"
      ]
     },
     "execution_count": 7,
     "metadata": {},
     "output_type": "execute_result"
    }
   ],
   "source": [
    "s2={1,3,5,6,7,'a','b','c','d','e','e',(2,3),('a','b','c')}\n",
    "s2"
   ]
  },
  {
   "cell_type": "code",
   "execution_count": 8,
   "id": "be055950",
   "metadata": {},
   "outputs": [
    {
     "ename": "TypeError",
     "evalue": "unhashable type: 'list'",
     "output_type": "error",
     "traceback": [
      "\u001b[1;31m---------------------------------------------------------------------------\u001b[0m",
      "\u001b[1;31mTypeError\u001b[0m                                 Traceback (most recent call last)",
      "Input \u001b[1;32mIn [8]\u001b[0m, in \u001b[0;36m<cell line: 1>\u001b[1;34m()\u001b[0m\n\u001b[1;32m----> 1\u001b[0m s3\u001b[38;5;241m=\u001b[39m{\u001b[38;5;241m3\u001b[39m,\u001b[38;5;241m4\u001b[39m,[\u001b[38;5;241m5\u001b[39m,\u001b[38;5;241m6\u001b[39m]}\n",
      "\u001b[1;31mTypeError\u001b[0m: unhashable type: 'list'"
     ]
    }
   ],
   "source": [
    "s3={3,4,[5,6]} # list is mutable cant be element of set"
   ]
  },
  {
   "cell_type": "code",
   "execution_count": null,
   "id": "9746e57e",
   "metadata": {},
   "outputs": [],
   "source": [
    "# Set cant acess data using index operator [ ]"
   ]
  },
  {
   "cell_type": "markdown",
   "id": "3f58556d",
   "metadata": {},
   "source": [
    "# Set Methods"
   ]
  },
  {
   "cell_type": "code",
   "execution_count": 9,
   "id": "e0bdbe87",
   "metadata": {},
   "outputs": [
    {
     "name": "stdout",
     "output_type": "stream",
     "text": [
      "add(),clear(),copy(),difference(),difference_update(),discard(),intersection(),intersection_update(),isdisjoint(),issubset(),issuperset(),pop(),remove(),symmetric_difference(),symmetric_difference_update(),union(),update(),"
     ]
    }
   ],
   "source": [
    "for method in dir(set):\n",
    "    if not method.startswith('__'):\n",
    "        print(method,end='(),')"
   ]
  },
  {
   "cell_type": "code",
   "execution_count": 11,
   "id": "f6e06297",
   "metadata": {},
   "outputs": [
    {
     "name": "stdout",
     "output_type": "stream",
     "text": [
      "{2, 3, 5, 8, 9, 45}\n"
     ]
    }
   ],
   "source": [
    "s1={2,3,5,8,9}\n",
    "s1.add(45) #Add an element to a set.\n",
    "print(s1)"
   ]
  },
  {
   "attachments": {
    "image.png": {
     "image/png": "[encoded data removed]"
    }
   },
   "cell_type": "markdown",
   "id": "e62ef521",
   "metadata": {},
   "source": [
    "![image.png](attachment:image.png)"
   ]
  },
  {
   "attachments": {
    "image.png": {
     "image/png": "[encoded data removed]"
    }
   },
   "cell_type": "markdown",
   "id": "11c7a8ae",
   "metadata": {},
   "source": [
    "![image.png](attachment:image.png)"
   ]
  },
  {
   "cell_type": "code",
   "execution_count": 13,
   "id": "099cf84b",
   "metadata": {},
   "outputs": [
    {
     "name": "stdout",
     "output_type": "stream",
     "text": [
      "{1, 4, 7}\n",
      "{2, 6}\n"
     ]
    }
   ],
   "source": [
    "A={1,3,4,5,7}\n",
    "B={2,3,5,6}\n",
    "print(A-B)\n",
    "print(B-A)"
   ]
  },
  {
   "cell_type": "code",
   "execution_count": 23,
   "id": "15efc6f2",
   "metadata": {},
   "outputs": [
    {
     "name": "stdout",
     "output_type": "stream",
     "text": [
      "{1, 4, 7}\n",
      "{2, 6}\n"
     ]
    }
   ],
   "source": [
    "A={1,3,4,5,7}\n",
    "B={2,3,5,6}\n",
    "print(A.difference(B)) # A-B\n",
    "print(B.difference(A)) # B-A"
   ]
  },
  {
   "cell_type": "code",
   "execution_count": 24,
   "id": "81e532c2",
   "metadata": {},
   "outputs": [
    {
     "data": {
      "text/plain": [
       "{1, 3, 4, 5, 7}"
      ]
     },
     "execution_count": 24,
     "metadata": {},
     "output_type": "execute_result"
    }
   ],
   "source": [
    "A"
   ]
  },
  {
   "cell_type": "code",
   "execution_count": 25,
   "id": "25434f72",
   "metadata": {},
   "outputs": [
    {
     "name": "stdout",
     "output_type": "stream",
     "text": [
      "{1, 4, 7}\n"
     ]
    }
   ],
   "source": [
    "A={1,3,4,5,7}\n",
    "B={2,3,5,6}\n",
    "A.difference_update(B)\n",
    "print(A)"
   ]
  },
  {
   "cell_type": "code",
   "execution_count": 26,
   "id": "5027bf77",
   "metadata": {},
   "outputs": [
    {
     "data": {
      "text/plain": [
       "{1, 4, 7}"
      ]
     },
     "execution_count": 26,
     "metadata": {},
     "output_type": "execute_result"
    }
   ],
   "source": [
    "A"
   ]
  },
  {
   "cell_type": "code",
   "execution_count": 17,
   "id": "98792bb1",
   "metadata": {},
   "outputs": [
    {
     "name": "stdout",
     "output_type": "stream",
     "text": [
      "{3, 5}\n",
      "{3, 5}\n"
     ]
    }
   ],
   "source": [
    "A={1,3,4,5,7}\n",
    "B={2,3,5,6}\n",
    "print(A&B)\n",
    "print(A.intersection(B))"
   ]
  },
  {
   "cell_type": "code",
   "execution_count": 30,
   "id": "acd0bc14",
   "metadata": {},
   "outputs": [
    {
     "name": "stdout",
     "output_type": "stream",
     "text": [
      "{3, 5}\n",
      "None\n"
     ]
    }
   ],
   "source": [
    "A={1,3,4,5,7}\n",
    "B={2,3,5,6}\n",
    "print(A&B)\n",
    "print(A.intersection_update(B))  #A memory update"
   ]
  },
  {
   "cell_type": "code",
   "execution_count": 31,
   "id": "7d1ec9da",
   "metadata": {},
   "outputs": [
    {
     "data": {
      "text/plain": [
       "{3, 5}"
      ]
     },
     "execution_count": 31,
     "metadata": {},
     "output_type": "execute_result"
    }
   ],
   "source": [
    "A"
   ]
  },
  {
   "cell_type": "code",
   "execution_count": 36,
   "id": "4302fe5b",
   "metadata": {},
   "outputs": [
    {
     "data": {
      "text/plain": [
       "{1, 2, 3, 4, 5, 6, 7}"
      ]
     },
     "execution_count": 36,
     "metadata": {},
     "output_type": "execute_result"
    }
   ],
   "source": [
    "A={1,3,4,5,7}\n",
    "B={2,3,5,6}\n",
    "A.union(B)"
   ]
  },
  {
   "cell_type": "code",
   "execution_count": 37,
   "id": "bdc77795",
   "metadata": {},
   "outputs": [
    {
     "data": {
      "text/plain": [
       "{1, 2, 3, 4, 5, 6, 7}"
      ]
     },
     "execution_count": 37,
     "metadata": {},
     "output_type": "execute_result"
    }
   ],
   "source": [
    "A={1,3,4,5,7}\n",
    "B={2,3,5,6}\n",
    "A|B  # union "
   ]
  },
  {
   "cell_type": "code",
   "execution_count": 38,
   "id": "a6a6286c",
   "metadata": {},
   "outputs": [
    {
     "data": {
      "text/plain": [
       "{1, 2, 4, 6, 7}"
      ]
     },
     "execution_count": 38,
     "metadata": {},
     "output_type": "execute_result"
    }
   ],
   "source": [
    "A={1,3,4,5,7}\n",
    "B={2,3,5,6}\n",
    "A.symmetric_difference(B)"
   ]
  },
  {
   "cell_type": "code",
   "execution_count": 39,
   "id": "f11eb077",
   "metadata": {},
   "outputs": [
    {
     "data": {
      "text/plain": [
       "1"
      ]
     },
     "execution_count": 39,
     "metadata": {},
     "output_type": "execute_result"
    }
   ],
   "source": [
    "A={1,3,4,5,7}\n",
    "A.pop() #Remove and return an arbitrary set element."
   ]
  },
  {
   "cell_type": "code",
   "execution_count": 40,
   "id": "86b1b8d8",
   "metadata": {},
   "outputs": [
    {
     "data": {
      "text/plain": [
       "{3, 4, 5, 7}"
      ]
     },
     "execution_count": 40,
     "metadata": {},
     "output_type": "execute_result"
    }
   ],
   "source": [
    "A"
   ]
  },
  {
   "cell_type": "code",
   "execution_count": 42,
   "id": "c2b716f5",
   "metadata": {},
   "outputs": [
    {
     "data": {
      "text/plain": [
       "{1, 3, 5, 7}"
      ]
     },
     "execution_count": 42,
     "metadata": {},
     "output_type": "execute_result"
    }
   ],
   "source": [
    "A={1,3,4,5,7}\n",
    "A.remove(4) #Remove an element from a set; it must be a member.\n",
    "A"
   ]
  },
  {
   "cell_type": "code",
   "execution_count": 44,
   "id": "a7f33b3e",
   "metadata": {},
   "outputs": [
    {
     "data": {
      "text/plain": [
       "{1, 3, 4, 5, 7, 23, 45}"
      ]
     },
     "execution_count": 44,
     "metadata": {},
     "output_type": "execute_result"
    }
   ],
   "source": [
    "A={1,3,4,5,7}\n",
    "A.update({23,45})\n",
    "A"
   ]
  },
  {
   "cell_type": "code",
   "execution_count": 45,
   "id": "ab6b8f77",
   "metadata": {},
   "outputs": [
    {
     "data": {
      "text/plain": [
       "False"
      ]
     },
     "execution_count": 45,
     "metadata": {},
     "output_type": "execute_result"
    }
   ],
   "source": [
    "A={1,2,3,4,5,6}\n",
    "B={1,2}\n",
    "A.issubset(B)"
   ]
  },
  {
   "cell_type": "code",
   "execution_count": 46,
   "id": "6dd5b504",
   "metadata": {},
   "outputs": [
    {
     "data": {
      "text/plain": [
       "True"
      ]
     },
     "execution_count": 46,
     "metadata": {},
     "output_type": "execute_result"
    }
   ],
   "source": [
    "A={1,2,3,4,5,6}\n",
    "B={1,2}\n",
    "A.issuperset(B)"
   ]
  },
  {
   "cell_type": "markdown",
   "id": "90434adb",
   "metadata": {},
   "source": [
    "# frozenset"
   ]
  },
  {
   "cell_type": "code",
   "execution_count": 47,
   "id": "ba1ac31f",
   "metadata": {},
   "outputs": [
    {
     "data": {
      "text/plain": [
       "frozenset({1, 2, 3, 4, 5, 6})"
      ]
     },
     "execution_count": 47,
     "metadata": {},
     "output_type": "execute_result"
    }
   ],
   "source": [
    "A={1,2,3,4,5,6}\n",
    "frozenset(A)"
   ]
  },
  {
   "cell_type": "code",
   "execution_count": 50,
   "id": "5e52254b",
   "metadata": {},
   "outputs": [
    {
     "name": "stdout",
     "output_type": "stream",
     "text": [
      "frozenset({1, 4, 7})\n",
      "frozenset({2, 6})\n"
     ]
    }
   ],
   "source": [
    "A={1,3,4,5,7}\n",
    "B={2,3,5,6}\n",
    "A=frozenset(A)\n",
    "B=frozenset(B)\n",
    "print(A.difference(B)) # A-B\n",
    "print(B.difference(A)) # B-A"
   ]
  },
  {
   "cell_type": "markdown",
   "id": "9962c632",
   "metadata": {},
   "source": [
    "#  frozenset"
   ]
  },
  {
   "cell_type": "code",
   "execution_count": 52,
   "id": "d4d18abf",
   "metadata": {},
   "outputs": [
    {
     "name": "stdout",
     "output_type": "stream",
     "text": [
      "copy(),difference(),intersection(),isdisjoint(),issubset(),issuperset(),symmetric_difference(),union(),"
     ]
    }
   ],
   "source": [
    "for method in dir(frozenset):\n",
    "    if not method.startswith('__'):\n",
    "        print(method,end='(),')"
   ]
  },
  {
   "cell_type": "code",
   "execution_count": 53,
   "id": "c2bf226d",
   "metadata": {},
   "outputs": [
    {
     "ename": "AttributeError",
     "evalue": "'frozenset' object has no attribute 'add'",
     "output_type": "error",
     "traceback": [
      "\u001b[1;31m---------------------------------------------------------------------------\u001b[0m",
      "\u001b[1;31mAttributeError\u001b[0m                            Traceback (most recent call last)",
      "Input \u001b[1;32mIn [53]\u001b[0m, in \u001b[0;36m<cell line: 5>\u001b[1;34m()\u001b[0m\n\u001b[0;32m      3\u001b[0m A\u001b[38;5;241m=\u001b[39m\u001b[38;5;28mfrozenset\u001b[39m(A)\n\u001b[0;32m      4\u001b[0m B\u001b[38;5;241m=\u001b[39m\u001b[38;5;28mfrozenset\u001b[39m(B)\n\u001b[1;32m----> 5\u001b[0m \u001b[43mA\u001b[49m\u001b[38;5;241;43m.\u001b[39;49m\u001b[43madd\u001b[49m(\u001b[38;5;241m8\u001b[39m)\n",
      "\u001b[1;31mAttributeError\u001b[0m: 'frozenset' object has no attribute 'add'"
     ]
    }
   ],
   "source": [
    "A={1,3,4,5,7}\n",
    "B={2,3,5,6}\n",
    "A=frozenset(A)\n",
    "B=frozenset(B)\n",
    "A.add(8)  # immutable"
   ]
  },
  {
   "cell_type": "code",
   "execution_count": null,
   "id": "e3a1c3d0",
   "metadata": {},
   "outputs": [],
   "source": []
  },
  {
   "cell_type": "code",
   "execution_count": 1,
   "id": "325710bd",
   "metadata": {},
   "outputs": [
    {
     "data": {
      "text/plain": [
       "frozenset({1, 2, 4, 6, 7})"
      ]
     },
     "execution_count": 1,
     "metadata": {},
     "output_type": "execute_result"
    }
   ],
   "source": [
    "A={1,3,4,5,7}\n",
    "B={2,3,5,6}\n",
    "A=frozenset(A)\n",
    "B=frozenset(B)\n",
    "A^B  #symmetric_difference"
   ]
  },
  {
   "cell_type": "code",
   "execution_count": 2,
   "id": "d1005cc1",
   "metadata": {},
   "outputs": [
    {
     "data": {
      "text/plain": [
       "frozenset({1, 2, 4, 6, 7})"
      ]
     },
     "execution_count": 2,
     "metadata": {},
     "output_type": "execute_result"
    }
   ],
   "source": [
    "A={1,3,4,5,7}\n",
    "B={2,3,5,6}\n",
    "A=frozenset(A)\n",
    "B=frozenset(B)\n",
    "A.symmetric_difference(B)"
   ]
  },
  {
   "cell_type": "markdown",
   "id": "6be33d9d",
   "metadata": {},
   "source": [
    "# Boolean Data type  True/ False"
   ]
  },
  {
   "cell_type": "code",
   "execution_count": 55,
   "id": "74aa3c23",
   "metadata": {},
   "outputs": [
    {
     "data": {
      "text/plain": [
       "False"
      ]
     },
     "execution_count": 55,
     "metadata": {},
     "output_type": "execute_result"
    }
   ],
   "source": [
    "bool(0)"
   ]
  },
  {
   "cell_type": "code",
   "execution_count": 66,
   "id": "e90749dc",
   "metadata": {},
   "outputs": [
    {
     "data": {
      "text/plain": [
       "False"
      ]
     },
     "execution_count": 66,
     "metadata": {},
     "output_type": "execute_result"
    }
   ],
   "source": [
    "bool(None)"
   ]
  },
  {
   "cell_type": "code",
   "execution_count": 67,
   "id": "3bd3d4c0",
   "metadata": {},
   "outputs": [
    {
     "data": {
      "text/plain": [
       "True"
      ]
     },
     "execution_count": 67,
     "metadata": {},
     "output_type": "execute_result"
    }
   ],
   "source": [
    "bool(-134.3)"
   ]
  },
  {
   "cell_type": "code",
   "execution_count": 68,
   "id": "9d4240be",
   "metadata": {},
   "outputs": [
    {
     "data": {
      "text/plain": [
       "True"
      ]
     },
     "execution_count": 68,
     "metadata": {},
     "output_type": "execute_result"
    }
   ],
   "source": [
    "bool(\"any non zero, non empty,non None is always True\")"
   ]
  },
  {
   "cell_type": "code",
   "execution_count": 58,
   "id": "85d9457f",
   "metadata": {},
   "outputs": [
    {
     "data": {
      "text/plain": [
       "False"
      ]
     },
     "execution_count": 58,
     "metadata": {},
     "output_type": "execute_result"
    }
   ],
   "source": [
    "bool('') # empty str"
   ]
  },
  {
   "cell_type": "code",
   "execution_count": 61,
   "id": "8452143a",
   "metadata": {},
   "outputs": [],
   "source": [
    "b1=15<45"
   ]
  },
  {
   "cell_type": "code",
   "execution_count": 62,
   "id": "af93d7e5",
   "metadata": {},
   "outputs": [
    {
     "name": "stdout",
     "output_type": "stream",
     "text": [
      "<class 'bool'>\n"
     ]
    }
   ],
   "source": [
    "print(type(b1))"
   ]
  },
  {
   "cell_type": "code",
   "execution_count": 69,
   "id": "bfbea2db",
   "metadata": {},
   "outputs": [
    {
     "data": {
      "text/plain": [
       "False"
      ]
     },
     "execution_count": 69,
     "metadata": {},
     "output_type": "execute_result"
    }
   ],
   "source": [
    "bool(False)"
   ]
  },
  {
   "cell_type": "code",
   "execution_count": 70,
   "id": "0d563fa4",
   "metadata": {},
   "outputs": [
    {
     "data": {
      "text/plain": [
       "False"
      ]
     },
     "execution_count": 70,
     "metadata": {},
     "output_type": "execute_result"
    }
   ],
   "source": [
    "False"
   ]
  },
  {
   "cell_type": "code",
   "execution_count": 71,
   "id": "daaeb351",
   "metadata": {},
   "outputs": [
    {
     "data": {
      "text/plain": [
       "True"
      ]
     },
     "execution_count": 71,
     "metadata": {},
     "output_type": "execute_result"
    }
   ],
   "source": [
    "True"
   ]
  },
  {
   "cell_type": "code",
   "execution_count": 73,
   "id": "f8555e0d",
   "metadata": {},
   "outputs": [],
   "source": [
    "None"
   ]
  },
  {
   "cell_type": "code",
   "execution_count": 74,
   "id": "b7e1eaa7",
   "metadata": {},
   "outputs": [
    {
     "name": "stdout",
     "output_type": "stream",
     "text": [
      "<class 'NoneType'>\n"
     ]
    }
   ],
   "source": [
    "print(type(None))"
   ]
  },
  {
   "cell_type": "code",
   "execution_count": 78,
   "id": "d9ef22b2",
   "metadata": {},
   "outputs": [
    {
     "data": {
      "text/plain": [
       "bytearray(b'kgfdg')"
      ]
     },
     "execution_count": 78,
     "metadata": {},
     "output_type": "execute_result"
    }
   ],
   "source": [
    "bytearray(\"kgfdg\",'utf-8')"
   ]
  },
  {
   "cell_type": "markdown",
   "id": "bbbd9677",
   "metadata": {},
   "source": [
    "# Type casting"
   ]
  },
  {
   "cell_type": "code",
   "execution_count": 15,
   "id": "f9cad154",
   "metadata": {},
   "outputs": [
    {
     "data": {
      "text/plain": [
       "4"
      ]
     },
     "execution_count": 15,
     "metadata": {},
     "output_type": "execute_result"
    }
   ],
   "source": [
    "int('0100',base=2)"
   ]
  },
  {
   "cell_type": "code",
   "execution_count": 16,
   "id": "372c25c9",
   "metadata": {},
   "outputs": [
    {
     "data": {
      "text/plain": [
       "995"
      ]
     },
     "execution_count": 16,
     "metadata": {},
     "output_type": "execute_result"
    }
   ],
   "source": [
    "int('01743',base=8)"
   ]
  },
  {
   "cell_type": "code",
   "execution_count": 18,
   "id": "5c89292c",
   "metadata": {},
   "outputs": [
    {
     "data": {
      "text/plain": [
       "556"
      ]
     },
     "execution_count": 18,
     "metadata": {},
     "output_type": "execute_result"
    }
   ],
   "source": [
    "int('556',base=10)"
   ]
  },
  {
   "cell_type": "code",
   "execution_count": 23,
   "id": "74f607f4",
   "metadata": {},
   "outputs": [
    {
     "data": {
      "text/plain": [
       "15"
      ]
     },
     "execution_count": 23,
     "metadata": {},
     "output_type": "execute_result"
    }
   ],
   "source": [
    "int('0xF',base=0)"
   ]
  },
  {
   "cell_type": "code",
   "execution_count": 11,
   "id": "20e8fb5d",
   "metadata": {},
   "outputs": [
    {
     "data": {
      "text/plain": [
       "4"
      ]
     },
     "execution_count": 11,
     "metadata": {},
     "output_type": "execute_result"
    }
   ],
   "source": [
    "int('0b100', base=0)"
   ]
  },
  {
   "cell_type": "markdown",
   "id": "9c603e80",
   "metadata": {},
   "source": [
    "# Operators"
   ]
  },
  {
   "cell_type": "markdown",
   "id": "308df667",
   "metadata": {},
   "source": [
    "# ArithmeticOperator"
   ]
  },
  {
   "cell_type": "markdown",
   "id": "ef18e7dd",
   "metadata": {},
   "source": [
    "Adddition: + "
   ]
  },
  {
   "cell_type": "code",
   "execution_count": 27,
   "id": "343069bc",
   "metadata": {},
   "outputs": [
    {
     "name": "stdout",
     "output_type": "stream",
     "text": [
      "17\n",
      "17.560000000000002\n",
      "(9+9j)\n"
     ]
    }
   ],
   "source": [
    "print(8+9)  # all numeric data\n",
    "print(8+9.56)\n",
    "print((4+7j)+(5+2j))"
   ]
  },
  {
   "cell_type": "code",
   "execution_count": 33,
   "id": "38508ddb",
   "metadata": {},
   "outputs": [
    {
     "data": {
      "text/plain": [
       "[3, 4, 5, 7, 8, 9]"
      ]
     },
     "execution_count": 33,
     "metadata": {},
     "output_type": "execute_result"
    }
   ],
   "source": [
    "# + using in list\n",
    "[3,4,5]+[7,8,9]  # extdense the list"
   ]
  },
  {
   "cell_type": "code",
   "execution_count": 29,
   "id": "2180acf7",
   "metadata": {},
   "outputs": [
    {
     "data": {
      "text/plain": [
       "(3, 4, 5, 7, 8, 9)"
      ]
     },
     "execution_count": 29,
     "metadata": {},
     "output_type": "execute_result"
    }
   ],
   "source": [
    "(3,4,5)+(7,8,9)   # extdense the tuple"
   ]
  },
  {
   "cell_type": "code",
   "execution_count": 30,
   "id": "3a274e7e",
   "metadata": {},
   "outputs": [
    {
     "data": {
      "text/plain": [
       "'EduBridge'"
      ]
     },
     "execution_count": 30,
     "metadata": {},
     "output_type": "execute_result"
    }
   ],
   "source": [
    "\"Edu\"+\"Bridge\" # string concatenation"
   ]
  },
  {
   "cell_type": "markdown",
   "id": "4fde05ba",
   "metadata": {},
   "source": [
    "Subtract: -"
   ]
  },
  {
   "cell_type": "code",
   "execution_count": 31,
   "id": "42453b7e",
   "metadata": {},
   "outputs": [
    {
     "name": "stdout",
     "output_type": "stream",
     "text": [
      "-1\n",
      "-1.5600000000000005\n",
      "(-1+5j)\n"
     ]
    }
   ],
   "source": [
    "print(8-9)  # all numeric data\n",
    "print(8-9.56)\n",
    "print((4+7j)-(5+2j))"
   ]
  },
  {
   "cell_type": "code",
   "execution_count": 34,
   "id": "000f2b61",
   "metadata": {},
   "outputs": [
    {
     "data": {
      "text/plain": [
       "{1, 4, 7}"
      ]
     },
     "execution_count": 34,
     "metadata": {},
     "output_type": "execute_result"
    }
   ],
   "source": [
    "A={1,3,4,5,7}\n",
    "B={2,3,5,6}\n",
    "A-B  # set difference"
   ]
  },
  {
   "cell_type": "markdown",
   "id": "638733fd",
   "metadata": {},
   "source": [
    "multiply: *"
   ]
  },
  {
   "cell_type": "code",
   "execution_count": 42,
   "id": "316deb16",
   "metadata": {},
   "outputs": [
    {
     "name": "stdout",
     "output_type": "stream",
     "text": [
      "72\n",
      "76.48\n",
      "(6+43j)\n"
     ]
    }
   ],
   "source": [
    "print(8*9)  # all numeric data\n",
    "print(8*9.56)\n",
    "print((4+7j)*(5+2j))"
   ]
  },
  {
   "cell_type": "code",
   "execution_count": 38,
   "id": "4fe66efe",
   "metadata": {},
   "outputs": [
    {
     "data": {
      "text/plain": [
       "[3, 4, 5, 3, 4, 5, 3, 4, 5, 3, 4, 5]"
      ]
     },
     "execution_count": 38,
     "metadata": {},
     "output_type": "execute_result"
    }
   ],
   "source": [
    "# * using in list\n",
    "[3,4,5]*4   # * repeat the list "
   ]
  },
  {
   "cell_type": "code",
   "execution_count": 39,
   "id": "c7548d8b",
   "metadata": {},
   "outputs": [
    {
     "data": {
      "text/plain": [
       "(3, 4, 5, 3, 4, 5, 3, 4, 5, 3, 4, 5)"
      ]
     },
     "execution_count": 39,
     "metadata": {},
     "output_type": "execute_result"
    }
   ],
   "source": [
    "# * using in tuple\n",
    "(3,4,5)*4 # * repeat the tuple"
   ]
  },
  {
   "cell_type": "code",
   "execution_count": 41,
   "id": "32efef98",
   "metadata": {},
   "outputs": [
    {
     "data": {
      "text/plain": [
       "'EduEduEduEdu'"
      ]
     },
     "execution_count": 41,
     "metadata": {},
     "output_type": "execute_result"
    }
   ],
   "source": [
    "# * using in string\n",
    "\"Edu\"*4    #* repeat the str"
   ]
  },
  {
   "cell_type": "code",
   "execution_count": null,
   "id": "810c5e54",
   "metadata": {},
   "outputs": [],
   "source": [
    "division: / "
   ]
  },
  {
   "cell_type": "code",
   "execution_count": 43,
   "id": "04752667",
   "metadata": {},
   "outputs": [
    {
     "name": "stdout",
     "output_type": "stream",
     "text": [
      "0.8888888888888888\n",
      "0.8368200836820083\n",
      "(1.1724137931034484+0.9310344827586208j)\n"
     ]
    }
   ],
   "source": [
    "print(8/9)  # all numeric data\n",
    "print(8/9.56)\n",
    "print((4+7j)/(5+2j))"
   ]
  },
  {
   "cell_type": "markdown",
   "id": "daf09f35",
   "metadata": {},
   "source": [
    "floor division: //"
   ]
  },
  {
   "cell_type": "code",
   "execution_count": 46,
   "id": "da9b44e3",
   "metadata": {},
   "outputs": [
    {
     "name": "stdout",
     "output_type": "stream",
     "text": [
      "3\n",
      "0.0\n"
     ]
    }
   ],
   "source": [
    "print(34//9)  # all numeric data\n",
    "print(8//9.56)"
   ]
  },
  {
   "cell_type": "markdown",
   "id": "48bf966a",
   "metadata": {},
   "source": [
    "Modulo division: %  reminder operator"
   ]
  },
  {
   "cell_type": "code",
   "execution_count": 47,
   "id": "4e170230",
   "metadata": {},
   "outputs": [
    {
     "name": "stdout",
     "output_type": "stream",
     "text": [
      "7\n"
     ]
    }
   ],
   "source": [
    "print(34%9)"
   ]
  },
  {
   "cell_type": "markdown",
   "id": "29d88bd5",
   "metadata": {},
   "source": [
    "Exponential operator: **"
   ]
  },
  {
   "cell_type": "code",
   "execution_count": 48,
   "id": "5353d815",
   "metadata": {},
   "outputs": [
    {
     "data": {
      "text/plain": [
       "8"
      ]
     },
     "execution_count": 48,
     "metadata": {},
     "output_type": "execute_result"
    }
   ],
   "source": [
    "2**3   # 2 power 3"
   ]
  },
  {
   "cell_type": "markdown",
   "id": "ea27e658",
   "metadata": {},
   "source": [
    "# Comparison operator /Relation operator"
   ]
  },
  {
   "cell_type": "code",
   "execution_count": 50,
   "id": "49059803",
   "metadata": {},
   "outputs": [
    {
     "data": {
      "text/plain": [
       "True"
      ]
     },
     "execution_count": 50,
     "metadata": {},
     "output_type": "execute_result"
    }
   ],
   "source": [
    "a=4\n",
    "b=4\n",
    "a==b"
   ]
  },
  {
   "cell_type": "code",
   "execution_count": 51,
   "id": "90578f40",
   "metadata": {},
   "outputs": [
    {
     "data": {
      "text/plain": [
       "False"
      ]
     },
     "execution_count": 51,
     "metadata": {},
     "output_type": "execute_result"
    }
   ],
   "source": [
    "a=4\n",
    "b=4\n",
    "a!=b"
   ]
  },
  {
   "cell_type": "code",
   "execution_count": 52,
   "id": "2c09ac7e",
   "metadata": {},
   "outputs": [
    {
     "data": {
      "text/plain": [
       "True"
      ]
     },
     "execution_count": 52,
     "metadata": {},
     "output_type": "execute_result"
    }
   ],
   "source": [
    "3<56"
   ]
  },
  {
   "cell_type": "code",
   "execution_count": 53,
   "id": "c7c73aac",
   "metadata": {},
   "outputs": [
    {
     "data": {
      "text/plain": [
       "False"
      ]
     },
     "execution_count": 53,
     "metadata": {},
     "output_type": "execute_result"
    }
   ],
   "source": [
    "3>56"
   ]
  },
  {
   "cell_type": "code",
   "execution_count": 54,
   "id": "0a84520c",
   "metadata": {},
   "outputs": [
    {
     "data": {
      "text/plain": [
       "True"
      ]
     },
     "execution_count": 54,
     "metadata": {},
     "output_type": "execute_result"
    }
   ],
   "source": [
    "#  str \n",
    "'a'>'A'"
   ]
  },
  {
   "cell_type": "code",
   "execution_count": 57,
   "id": "e9dadafa",
   "metadata": {},
   "outputs": [
    {
     "name": "stdout",
     "output_type": "stream",
     "text": [
      "97 65\n"
     ]
    }
   ],
   "source": [
    "print(ord('a'),ord('A'))"
   ]
  },
  {
   "cell_type": "code",
   "execution_count": 58,
   "id": "b2f5f75d",
   "metadata": {},
   "outputs": [
    {
     "data": {
      "text/plain": [
       "True"
      ]
     },
     "execution_count": 58,
     "metadata": {},
     "output_type": "execute_result"
    }
   ],
   "source": [
    "97>65"
   ]
  },
  {
   "cell_type": "code",
   "execution_count": 63,
   "id": "b91ec0b5",
   "metadata": {},
   "outputs": [
    {
     "data": {
      "text/plain": [
       "True"
      ]
     },
     "execution_count": 63,
     "metadata": {},
     "output_type": "execute_result"
    }
   ],
   "source": [
    "{1,2,4}=={1,2,4}"
   ]
  },
  {
   "cell_type": "code",
   "execution_count": 70,
   "id": "f3f1ef03",
   "metadata": {},
   "outputs": [
    {
     "data": {
      "text/plain": [
       "False"
      ]
     },
     "execution_count": 70,
     "metadata": {},
     "output_type": "execute_result"
    }
   ],
   "source": [
    "{3}>{10,56}"
   ]
  },
  {
   "cell_type": "markdown",
   "id": "62db859e",
   "metadata": {},
   "source": [
    "Logical Operators:"
   ]
  },
  {
   "cell_type": "code",
   "execution_count": 76,
   "id": "90a3580d",
   "metadata": {},
   "outputs": [
    {
     "name": "stdout",
     "output_type": "stream",
     "text": [
      "Enter the age:12\n",
      "Enter the country of birth:indian\n",
      "He/She is not eligible to Vote\n"
     ]
    }
   ],
   "source": [
    "age=int(input(\"Enter the age:\"))\n",
    "citizenship=input(\"Enter the country of birth:\").upper()\n",
    "if age>=18 and citizenship==\"INDIAN\":\n",
    "    print(\"He/She is eligible  to Vote\")\n",
    "else:\n",
    "    print(\"He/She is not eligible to Vote\")\n"
   ]
  },
  {
   "cell_type": "code",
   "execution_count": 78,
   "id": "d8580644",
   "metadata": {},
   "outputs": [
    {
     "name": "stdout",
     "output_type": "stream",
     "text": [
      "Enter the age:14\n",
      "Enter the country of birth:USA\n",
      "He/She is not eligible to Vote\n"
     ]
    }
   ],
   "source": [
    "age=int(input(\"Enter the age:\"))\n",
    "citizenship=input(\"Enter the country of birth:\").upper()\n",
    "if age>=18 or citizenship==\"INDIAN\":\n",
    "    print(\"He/She is eligible  to Vote\")\n",
    "else:\n",
    "    print(\"He/She is not eligible to Vote\")\n"
   ]
  },
  {
   "cell_type": "code",
   "execution_count": 79,
   "id": "236c89b2",
   "metadata": {},
   "outputs": [
    {
     "data": {
      "text/plain": [
       "True"
      ]
     },
     "execution_count": 79,
     "metadata": {},
     "output_type": "execute_result"
    }
   ],
   "source": [
    "not 45<22"
   ]
  },
  {
   "cell_type": "markdown",
   "id": "36734bcd",
   "metadata": {},
   "source": [
    "Bitwise Operators:"
   ]
  },
  {
   "cell_type": "markdown",
   "id": "8842eb0d",
   "metadata": {},
   "source": [
    "Bitwise and &"
   ]
  },
  {
   "cell_type": "code",
   "execution_count": 81,
   "id": "3e762236",
   "metadata": {},
   "outputs": [
    {
     "data": {
      "text/plain": [
       "'0b111'"
      ]
     },
     "execution_count": 81,
     "metadata": {},
     "output_type": "execute_result"
    }
   ],
   "source": [
    "bin(7)"
   ]
  },
  {
   "cell_type": "code",
   "execution_count": 83,
   "id": "72abb3bb",
   "metadata": {},
   "outputs": [
    {
     "data": {
      "text/plain": [
       "'0b101'"
      ]
     },
     "execution_count": 83,
     "metadata": {},
     "output_type": "execute_result"
    }
   ],
   "source": [
    "bin(5)"
   ]
  },
  {
   "cell_type": "code",
   "execution_count": 84,
   "id": "cde85656",
   "metadata": {},
   "outputs": [
    {
     "data": {
      "text/plain": [
       "5"
      ]
     },
     "execution_count": 84,
     "metadata": {},
     "output_type": "execute_result"
    }
   ],
   "source": [
    "7&5"
   ]
  },
  {
   "cell_type": "code",
   "execution_count": 85,
   "id": "2266e25e",
   "metadata": {},
   "outputs": [
    {
     "data": {
      "text/plain": [
       "7"
      ]
     },
     "execution_count": 85,
     "metadata": {},
     "output_type": "execute_result"
    }
   ],
   "source": [
    "7|5"
   ]
  },
  {
   "cell_type": "code",
   "execution_count": null,
   "id": "061d626d",
   "metadata": {},
   "outputs": [],
   "source": []
  },
  {
   "cell_type": "code",
   "execution_count": null,
   "id": "39bfda0a",
   "metadata": {},
   "outputs": [],
   "source": []
  }
 ],
 "metadata": {
  "kernelspec": {
   "display_name": "Python 3 (ipykernel)",
   "language": "python",
   "name": "python3"
  },
  "language_info": {
   "codemirror_mode": {
    "name": "ipython",
    "version": 3
   },
   "file_extension": ".py",
   "mimetype": "text/x-python",
   "name": "python",
   "nbconvert_exporter": "python",
   "pygments_lexer": "ipython3",
   "version": "3.9.12"
  }
 },
 "nbformat": 4,
 "nbformat_minor": 5
}
