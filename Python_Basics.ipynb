{
 "cells": [
  {
   "cell_type": "markdown",
   "id": "3f537a95",
   "metadata": {},
   "source": [
    "### Python Basics"
   ]
  },
  {
   "cell_type": "code",
   "execution_count": 9,
   "id": "acf04f92",
   "metadata": {},
   "outputs": [
    {
     "name": "stdout",
     "output_type": "stream",
     "text": [
      "2 is Even number\n",
      "3 is Odd number\n",
      "4 is Even number\n",
      "5 is Odd number\n",
      "67 is Odd number\n",
      "78 is Even number\n",
      "89 is Odd number\n",
      "34 is Even number\n",
      "alway\n"
     ]
    }
   ],
   "source": [
    "#Structure of Python Program:\n",
    "list1=[2,3,4,5,67,78,89,34]\n",
    "for num in list1:\n",
    "    if num%2!=1:\n",
    "        print(f\"{num} is Even number\")\n",
    "    else:\n",
    "        print(f\"{num} is Odd number\")\n",
    "print(\"alway\")\n",
    "        "
   ]
  },
  {
   "cell_type": "code",
   "execution_count": 4,
   "id": "9a161fee",
   "metadata": {},
   "outputs": [
    {
     "data": {
      "text/plain": [
       "0"
      ]
     },
     "execution_count": 4,
     "metadata": {},
     "output_type": "execute_result"
    }
   ],
   "source": [
    "78%2"
   ]
  },
  {
   "cell_type": "markdown",
   "id": "640f4390",
   "metadata": {},
   "source": [
    "### Keywords "
   ]
  },
  {
   "cell_type": "code",
   "execution_count": 15,
   "id": "25c6fc87",
   "metadata": {},
   "outputs": [
    {
     "name": "stdout",
     "output_type": "stream",
     "text": [
      "['False', 'None', 'True', '__peg_parser__', 'and', 'as', 'assert', 'async', 'await', 'break', 'class', 'continue', 'def', 'del', 'elif', 'else', 'except', 'finally', 'for', 'from', 'global', 'if', 'import', 'in', 'is', 'lambda', 'nonlocal', 'not', 'or', 'pass', 'raise', 'return', 'try', 'while', 'with', 'yield']\n"
     ]
    }
   ],
   "source": [
    "import keyword\n",
    "print(keyword.kwlist)"
   ]
  },
  {
   "cell_type": "code",
   "execution_count": 16,
   "id": "a602ec6b",
   "metadata": {},
   "outputs": [
    {
     "data": {
      "text/plain": [
       "['__all__',\n",
       " '__builtins__',\n",
       " '__cached__',\n",
       " '__doc__',\n",
       " '__file__',\n",
       " '__loader__',\n",
       " '__name__',\n",
       " '__package__',\n",
       " '__spec__',\n",
       " 'iskeyword',\n",
       " 'issoftkeyword',\n",
       " 'kwlist',\n",
       " 'softkwlist']"
      ]
     },
     "execution_count": 16,
     "metadata": {},
     "output_type": "execute_result"
    }
   ],
   "source": [
    "dir(keyword)"
   ]
  },
  {
   "cell_type": "code",
   "execution_count": 17,
   "id": "b51646fd",
   "metadata": {},
   "outputs": [
    {
     "data": {
      "text/plain": [
       "True"
      ]
     },
     "execution_count": 17,
     "metadata": {},
     "output_type": "execute_result"
    }
   ],
   "source": [
    "keyword.iskeyword('False')"
   ]
  },
  {
   "cell_type": "code",
   "execution_count": 49,
   "id": "6ea4be51",
   "metadata": {},
   "outputs": [],
   "source": [
    "# default global\n",
    "def multiply():\n",
    "       global z\n",
    "       z=45\n",
    "       \n",
    "       y=2\n",
    "       return z*y\n",
    "\n"
   ]
  },
  {
   "cell_type": "code",
   "execution_count": 50,
   "id": "743ae33a",
   "metadata": {},
   "outputs": [
    {
     "data": {
      "text/plain": [
       "90"
      ]
     },
     "execution_count": 50,
     "metadata": {},
     "output_type": "execute_result"
    }
   ],
   "source": [
    "multiply()"
   ]
  },
  {
   "cell_type": "code",
   "execution_count": 51,
   "id": "2478d0af",
   "metadata": {},
   "outputs": [
    {
     "name": "stdout",
     "output_type": "stream",
     "text": [
      "45\n"
     ]
    }
   ],
   "source": [
    "print(z)"
   ]
  },
  {
   "cell_type": "code",
   "execution_count": 52,
   "id": "516c9bc8",
   "metadata": {},
   "outputs": [
    {
     "data": {
      "text/plain": [
       "1399875792560"
      ]
     },
     "execution_count": 52,
     "metadata": {},
     "output_type": "execute_result"
    }
   ],
   "source": [
    "id(z)"
   ]
  },
  {
   "cell_type": "code",
   "execution_count": 54,
   "id": "a839d1cb",
   "metadata": {},
   "outputs": [
    {
     "ename": "SyntaxError",
     "evalue": "invalid syntax (271070672.py, line 7)",
     "output_type": "error",
     "traceback": [
      "\u001b[1;36m  Input \u001b[1;32mIn [54]\u001b[1;36m\u001b[0m\n\u001b[1;33m    return global x/y\u001b[0m\n\u001b[1;37m           ^\u001b[0m\n\u001b[1;31mSyntaxError\u001b[0m\u001b[1;31m:\u001b[0m invalid syntax\n"
     ]
    }
   ],
   "source": [
    "x=5\n",
    "y=10\n",
    "def divide():\n",
    "    global x\n",
    "    x=20\n",
    "    y=10\n",
    "    return global x/y\n",
    "\n"
   ]
  },
  {
   "cell_type": "code",
   "execution_count": 55,
   "id": "a7f460bb",
   "metadata": {},
   "outputs": [
    {
     "name": "stdout",
     "output_type": "stream",
     "text": [
      "The Zen of Python, by Tim Peters\n",
      "\n",
      "Beautiful is better than ugly.\n",
      "Explicit is better than implicit.\n",
      "Simple is better than complex.\n",
      "Complex is better than complicated.\n",
      "Flat is better than nested.\n",
      "Sparse is better than dense.\n",
      "Readability counts.\n",
      "Special cases aren't special enough to break the rules.\n",
      "Although practicality beats purity.\n",
      "Errors should never pass silently.\n",
      "Unless explicitly silenced.\n",
      "In the face of ambiguity, refuse the temptation to guess.\n",
      "There should be one-- and preferably only one --obvious way to do it.\n",
      "Although that way may not be obvious at first unless you're Dutch.\n",
      "Now is better than never.\n",
      "Although never is often better than *right* now.\n",
      "If the implementation is hard to explain, it's a bad idea.\n",
      "If the implementation is easy to explain, it may be a good idea.\n",
      "Namespaces are one honking great idea -- let's do more of those!\n"
     ]
    }
   ],
   "source": [
    "import this"
   ]
  },
  {
   "cell_type": "code",
   "execution_count": 3,
   "id": "e41b5fbb",
   "metadata": {},
   "outputs": [
    {
     "name": "stdout",
     "output_type": "stream",
     "text": [
      "Python 3.9.12\n"
     ]
    }
   ],
   "source": [
    "!python --version"
   ]
  },
  {
   "cell_type": "markdown",
   "id": "05386407",
   "metadata": {},
   "source": [
    "\n",
    "### Python Variable"
   ]
  },
  {
   "cell_type": "code",
   "execution_count": 4,
   "id": "e723015c",
   "metadata": {},
   "outputs": [],
   "source": [
    "x=30"
   ]
  },
  {
   "cell_type": "code",
   "execution_count": 5,
   "id": "67b9bcb0",
   "metadata": {},
   "outputs": [],
   "source": [
    "x=55"
   ]
  },
  {
   "cell_type": "code",
   "execution_count": 6,
   "id": "a0b59784",
   "metadata": {},
   "outputs": [
    {
     "name": "stdout",
     "output_type": "stream",
     "text": [
      "55\n"
     ]
    }
   ],
   "source": [
    "print(x)"
   ]
  },
  {
   "cell_type": "code",
   "execution_count": 7,
   "id": "d602f969",
   "metadata": {},
   "outputs": [],
   "source": [
    "y=12.454"
   ]
  },
  {
   "cell_type": "code",
   "execution_count": 9,
   "id": "5a52acc7",
   "metadata": {},
   "outputs": [
    {
     "name": "stdout",
     "output_type": "stream",
     "text": [
      "12.454\n"
     ]
    }
   ],
   "source": [
    "print(y)"
   ]
  },
  {
   "cell_type": "code",
   "execution_count": 10,
   "id": "26c592e2",
   "metadata": {},
   "outputs": [],
   "source": [
    "name=\"Edubridge\""
   ]
  },
  {
   "cell_type": "code",
   "execution_count": 11,
   "id": "91e0137b",
   "metadata": {},
   "outputs": [
    {
     "data": {
      "text/plain": [
       "'Edubridge'"
      ]
     },
     "execution_count": 11,
     "metadata": {},
     "output_type": "execute_result"
    }
   ],
   "source": [
    "name"
   ]
  },
  {
   "cell_type": "code",
   "execution_count": 12,
   "id": "1ae7579c",
   "metadata": {},
   "outputs": [],
   "source": [
    "name=\"Edubridge Learning Pvt \""
   ]
  },
  {
   "cell_type": "code",
   "execution_count": 13,
   "id": "f75e1ab1",
   "metadata": {},
   "outputs": [
    {
     "data": {
      "text/plain": [
       "'Edubridge Learning Pvt '"
      ]
     },
     "execution_count": 13,
     "metadata": {},
     "output_type": "execute_result"
    }
   ],
   "source": [
    "name"
   ]
  },
  {
   "cell_type": "raw",
   "id": "d9029920",
   "metadata": {},
   "source": [
    "Python Built-in Data Types\n",
    "    Numeric Types: int, float, complex\n",
    "    Text Sequence Type: str\n",
    "    Sequence Types: list, tuple, range\n",
    "    Mapping Types: dict\n",
    "    Set Types: set, frozenset"
   ]
  },
  {
   "cell_type": "markdown",
   "id": "b7009373",
   "metadata": {},
   "source": [
    "### Numeric Types: int, float, complex"
   ]
  },
  {
   "cell_type": "code",
   "execution_count": 20,
   "id": "791b03c6",
   "metadata": {},
   "outputs": [
    {
     "name": "stdout",
     "output_type": "stream",
     "text": [
      "<class 'int'>\n"
     ]
    }
   ],
   "source": [
    "x=345\n",
    "print(type(x))"
   ]
  },
  {
   "cell_type": "code",
   "execution_count": 23,
   "id": "e3669f69",
   "metadata": {},
   "outputs": [
    {
     "name": "stdout",
     "output_type": "stream",
     "text": [
      "<class 'float'>\n"
     ]
    }
   ],
   "source": [
    "x=31475675676.00\n",
    "print(type(x))"
   ]
  },
  {
   "cell_type": "code",
   "execution_count": 22,
   "id": "99f7ddf2",
   "metadata": {},
   "outputs": [
    {
     "name": "stdout",
     "output_type": "stream",
     "text": [
      "<class 'complex'>\n"
     ]
    }
   ],
   "source": [
    "x=58+4j\n",
    "print(type(x))"
   ]
  },
  {
   "cell_type": "markdown",
   "id": "3f381a12",
   "metadata": {},
   "source": [
    "### Type casting function Built in Function for numeric:"
   ]
  },
  {
   "cell_type": "code",
   "execution_count": 15,
   "id": "3af0aad2",
   "metadata": {},
   "outputs": [
    {
     "name": "stdout",
     "output_type": "stream",
     "text": [
      "Enter the a Value:58\n",
      "Enter the a Value:69\n",
      "Addition is: 127\n"
     ]
    }
   ],
   "source": [
    "a=int(input(\"Enter the a Value:\"))\n",
    "b=int(input(\"Enter the a Value:\"))\n",
    "print(\"Addition is:\",a+b)"
   ]
  },
  {
   "cell_type": "code",
   "execution_count": 12,
   "id": "eb39c7c2",
   "metadata": {},
   "outputs": [
    {
     "name": "stdout",
     "output_type": "stream",
     "text": [
      "Enter the a Value:56.25\n",
      "Enter the a Value:23.5\n",
      "Addition is: 79.75\n"
     ]
    }
   ],
   "source": [
    "a=float(input(\"Enter the a Value:\"))\n",
    "b=float(input(\"Enter the a Value:\"))\n",
    "print(\"Addition is:\",a+b)"
   ]
  },
  {
   "cell_type": "code",
   "execution_count": 13,
   "id": "5c405e49",
   "metadata": {},
   "outputs": [
    {
     "name": "stdout",
     "output_type": "stream",
     "text": [
      "Enter the a Value:4+2j\n",
      "Enter the a Value:3+3j\n",
      "Addition is: (7+5j)\n"
     ]
    }
   ],
   "source": [
    "a=complex(input(\"Enter the a Value:\"))\n",
    "b=complex(input(\"Enter the a Value:\"))\n",
    "print(\"Addition is:\",a+b)"
   ]
  },
  {
   "cell_type": "code",
   "execution_count": null,
   "id": "df710482",
   "metadata": {},
   "outputs": [],
   "source": []
  },
  {
   "cell_type": "code",
   "execution_count": null,
   "id": "d3530a2b",
   "metadata": {},
   "outputs": [],
   "source": []
  },
  {
   "cell_type": "markdown",
   "id": "f627b005",
   "metadata": {},
   "source": [
    "### Text Sequence Type: str"
   ]
  },
  {
   "cell_type": "code",
   "execution_count": 29,
   "id": "08f3b3e4",
   "metadata": {},
   "outputs": [],
   "source": [
    "EduTech_name=\"Edubridge Learning Pvt Ltd.\""
   ]
  },
  {
   "cell_type": "code",
   "execution_count": 30,
   "id": "87149ec9",
   "metadata": {},
   "outputs": [
    {
     "name": "stdout",
     "output_type": "stream",
     "text": [
      "<class 'str'>\n"
     ]
    }
   ],
   "source": [
    "print(type(EduTech_name))"
   ]
  },
  {
   "cell_type": "code",
   "execution_count": 39,
   "id": "676cfac9",
   "metadata": {},
   "outputs": [],
   "source": [
    "y=\"Python\""
   ]
  },
  {
   "cell_type": "markdown",
   "id": "f8a51db5",
   "metadata": {},
   "source": [
    "#### String Index:     index opertor [ ]"
   ]
  },
  {
   "attachments": {
    "image.png": {
     "image/png": "[encoded data removed]"
    }
   },
   "cell_type": "markdown",
   "id": "179edb21",
   "metadata": {},
   "source": [
    "![image.png](attachment:image.png)"
   ]
  },
  {
   "cell_type": "code",
   "execution_count": 42,
   "id": "0b016bf6",
   "metadata": {},
   "outputs": [
    {
     "data": {
      "text/plain": [
       "'o'"
      ]
     },
     "execution_count": 42,
     "metadata": {},
     "output_type": "execute_result"
    }
   ],
   "source": [
    "y[4]  # positve index"
   ]
  },
  {
   "cell_type": "code",
   "execution_count": 45,
   "id": "4c4de8b6",
   "metadata": {},
   "outputs": [
    {
     "data": {
      "text/plain": [
       "'3'"
      ]
     },
     "execution_count": 45,
     "metadata": {},
     "output_type": "execute_result"
    }
   ],
   "source": [
    "str2='fdt345346657tyjgf543'\n",
    "str2[-1]"
   ]
  },
  {
   "cell_type": "code",
   "execution_count": 55,
   "id": "daa71d62",
   "metadata": {},
   "outputs": [
    {
     "data": {
      "text/plain": [
       "'5'"
      ]
     },
     "execution_count": 55,
     "metadata": {},
     "output_type": "execute_result"
    }
   ],
   "source": [
    "str2[int(len(str2)/2)]"
   ]
  },
  {
   "cell_type": "code",
   "execution_count": 47,
   "id": "464f0be9",
   "metadata": {},
   "outputs": [
    {
     "data": {
      "text/plain": [
       "str"
      ]
     },
     "execution_count": 47,
     "metadata": {},
     "output_type": "execute_result"
    }
   ],
   "source": [
    "str3='''675675676575'''\n",
    "type(str3)"
   ]
  },
  {
   "cell_type": "code",
   "execution_count": 61,
   "id": "a022d86b",
   "metadata": {},
   "outputs": [
    {
     "name": "stdout",
     "output_type": "stream",
     "text": [
      "\"Python\"\n"
     ]
    }
   ],
   "source": [
    "#String is immutable  # can't change the\n",
    "y=\"\\\"Python\\\"\"\n",
    "print(y)"
   ]
  },
  {
   "cell_type": "code",
   "execution_count": 52,
   "id": "4cfab8cc",
   "metadata": {},
   "outputs": [
    {
     "ename": "TypeError",
     "evalue": "'str' object does not support item assignment",
     "output_type": "error",
     "traceback": [
      "\u001b[1;31m---------------------------------------------------------------------------\u001b[0m",
      "\u001b[1;31mTypeError\u001b[0m                                 Traceback (most recent call last)",
      "Input \u001b[1;32mIn [52]\u001b[0m, in \u001b[0;36m<cell line: 1>\u001b[1;34m()\u001b[0m\n\u001b[1;32m----> 1\u001b[0m y[\u001b[38;5;241m0\u001b[39m]\u001b[38;5;241m=\u001b[39m\u001b[38;5;124m\"\u001b[39m\u001b[38;5;124mC\u001b[39m\u001b[38;5;124m\"\u001b[39m\n",
      "\u001b[1;31mTypeError\u001b[0m: 'str' object does not support item assignment"
     ]
    }
   ],
   "source": [
    "y[0]=\"C\""
   ]
  },
  {
   "cell_type": "markdown",
   "id": "cb59df6d",
   "metadata": {},
   "source": [
    "# String Slice     : slice opertor     str[start:End:step]    end is exclude"
   ]
  },
  {
   "cell_type": "code",
   "execution_count": 62,
   "id": "0bb81506",
   "metadata": {},
   "outputs": [],
   "source": [
    "name=\"Edubridge Learning Pvt Ltd.\""
   ]
  },
  {
   "cell_type": "code",
   "execution_count": 63,
   "id": "1660dbfc",
   "metadata": {},
   "outputs": [
    {
     "data": {
      "text/plain": [
       "'Edu'"
      ]
     },
     "execution_count": 63,
     "metadata": {},
     "output_type": "execute_result"
    }
   ],
   "source": [
    "name[0:3]"
   ]
  },
  {
   "cell_type": "code",
   "execution_count": 64,
   "id": "64194b9d",
   "metadata": {},
   "outputs": [
    {
     "data": {
      "text/plain": [
       "'Eurd'"
      ]
     },
     "execution_count": 64,
     "metadata": {},
     "output_type": "execute_result"
    }
   ],
   "source": [
    "name[0:8:2]  # start 0, end 8 ,step 2"
   ]
  },
  {
   "cell_type": "code",
   "execution_count": 67,
   "id": "979d6c56",
   "metadata": {},
   "outputs": [
    {
     "data": {
      "text/plain": [
       "'Edub'"
      ]
     },
     "execution_count": 67,
     "metadata": {},
     "output_type": "execute_result"
    }
   ],
   "source": [
    "name[:4]"
   ]
  },
  {
   "cell_type": "code",
   "execution_count": 68,
   "id": "964402be",
   "metadata": {},
   "outputs": [
    {
     "data": {
      "text/plain": [
       "'bridge Learning Pvt Ltd.'"
      ]
     },
     "execution_count": 68,
     "metadata": {},
     "output_type": "execute_result"
    }
   ],
   "source": [
    "name[3:]"
   ]
  },
  {
   "cell_type": "code",
   "execution_count": 69,
   "id": "e84635c3",
   "metadata": {},
   "outputs": [
    {
     "data": {
      "text/plain": [
       "'Edubridge Learning Pvt L'"
      ]
     },
     "execution_count": 69,
     "metadata": {},
     "output_type": "execute_result"
    }
   ],
   "source": [
    "name[:-3]"
   ]
  },
  {
   "cell_type": "code",
   "execution_count": 72,
   "id": "d9291f96",
   "metadata": {},
   "outputs": [
    {
     "data": {
      "text/plain": [
       "' Ltd.'"
      ]
     },
     "execution_count": 72,
     "metadata": {},
     "output_type": "execute_result"
    }
   ],
   "source": [
    "name[-5:]"
   ]
  },
  {
   "cell_type": "code",
   "execution_count": 73,
   "id": "1bdbfd18",
   "metadata": {},
   "outputs": [
    {
     "data": {
      "text/plain": [
       "'.dtL tvP gninraeL egdirbudE'"
      ]
     },
     "execution_count": 73,
     "metadata": {},
     "output_type": "execute_result"
    }
   ],
   "source": [
    "name[::-1]  # revers of the String"
   ]
  },
  {
   "cell_type": "code",
   "execution_count": 74,
   "id": "b92d162a",
   "metadata": {},
   "outputs": [],
   "source": [
    "#String immutable\n",
    "s1=\"abc\"\n",
    "s2='abc'"
   ]
  },
  {
   "cell_type": "code",
   "execution_count": 75,
   "id": "857e6e1e",
   "metadata": {},
   "outputs": [
    {
     "data": {
      "text/plain": [
       "2110534316656"
      ]
     },
     "execution_count": 75,
     "metadata": {},
     "output_type": "execute_result"
    }
   ],
   "source": [
    "id(s1)"
   ]
  },
  {
   "cell_type": "code",
   "execution_count": 76,
   "id": "70439d66",
   "metadata": {},
   "outputs": [
    {
     "data": {
      "text/plain": [
       "2110534316656"
      ]
     },
     "execution_count": 76,
     "metadata": {},
     "output_type": "execute_result"
    }
   ],
   "source": [
    "id(s2)"
   ]
  },
  {
   "cell_type": "code",
   "execution_count": 77,
   "id": "6abadd2f",
   "metadata": {},
   "outputs": [
    {
     "data": {
      "text/plain": [
       "2110665578160"
      ]
     },
     "execution_count": 77,
     "metadata": {},
     "output_type": "execute_result"
    }
   ],
   "source": [
    "s1='546456546'\n",
    "id(s1)"
   ]
  },
  {
   "cell_type": "markdown",
   "id": "8e81c583",
   "metadata": {},
   "source": [
    "### build-in Function used string"
   ]
  },
  {
   "cell_type": "code",
   "execution_count": 80,
   "id": "26183bab",
   "metadata": {},
   "outputs": [
    {
     "data": {
      "text/plain": [
       "20"
      ]
     },
     "execution_count": 80,
     "metadata": {},
     "output_type": "execute_result"
    }
   ],
   "source": [
    "#length Function\n",
    "len(\"dfgdfgd554%#%$%%#$45\")   # return length of string"
   ]
  },
  {
   "cell_type": "code",
   "execution_count": 86,
   "id": "22e5009e",
   "metadata": {},
   "outputs": [
    {
     "data": {
      "text/plain": [
       "'(4+6j)'"
      ]
     },
     "execution_count": 86,
     "metadata": {},
     "output_type": "execute_result"
    }
   ],
   "source": [
    "# String Constructor   # cast to string\n",
    "str(4+6j)"
   ]
  },
  {
   "cell_type": "code",
   "execution_count": 87,
   "id": "597d9cc8",
   "metadata": {},
   "outputs": [
    {
     "data": {
      "text/plain": [
       "'454545'"
      ]
     },
     "execution_count": 87,
     "metadata": {},
     "output_type": "execute_result"
    }
   ],
   "source": [
    "str(454545)"
   ]
  },
  {
   "cell_type": "code",
   "execution_count": 89,
   "id": "a7300eea",
   "metadata": {},
   "outputs": [
    {
     "name": "stdout",
     "output_type": "stream",
     "text": [
      "(4+6j)\n"
     ]
    }
   ],
   "source": [
    "print(4+6j)"
   ]
  },
  {
   "cell_type": "code",
   "execution_count": 93,
   "id": "17314e46",
   "metadata": {},
   "outputs": [
    {
     "name": "stdout",
     "output_type": "stream",
     "text": [
      "Enter the data:456chgfgh\n",
      "type of data is<class 'str'> and value is 456chgfgh\n"
     ]
    }
   ],
   "source": [
    "# user Input also string\n",
    "x=input(\"Enter the data:\")  # any raw keyboard input is string\n",
    "print(f\"type of data is{type(x)} and value is {x}\")"
   ]
  },
  {
   "cell_type": "code",
   "execution_count": 95,
   "id": "896deb5f",
   "metadata": {},
   "outputs": [
    {
     "name": "stdout",
     "output_type": "stream",
     "text": [
      "'etdgfhgh'\n"
     ]
    }
   ],
   "source": [
    "print(repr(\"etdgfhgh\"))  #    Prints the values to a stream, or to sys.stdout by default."
   ]
  },
  {
   "cell_type": "code",
   "execution_count": 100,
   "id": "144b3300",
   "metadata": {},
   "outputs": [
    {
     "data": {
      "text/plain": [
       "<reversed at 0x1eb6c7c30a0>"
      ]
     },
     "execution_count": 100,
     "metadata": {},
     "output_type": "execute_result"
    }
   ],
   "source": [
    "reversed(\"Edubridge\") # Return a reverse iterator over the values of the given sequence."
   ]
  },
  {
   "cell_type": "code",
   "execution_count": 101,
   "id": "9cd7f1b0",
   "metadata": {},
   "outputs": [
    {
     "name": "stdout",
     "output_type": "stream",
     "text": [
      "egdirbudE"
     ]
    }
   ],
   "source": [
    "for r in reversed(\"Edubridge\"):\n",
    "    print(r,end='')"
   ]
  },
  {
   "cell_type": "markdown",
   "id": "50f0e23e",
   "metadata": {},
   "source": [
    "# String Methods"
   ]
  },
  {
   "cell_type": "code",
   "execution_count": 108,
   "id": "e52cd46e",
   "metadata": {},
   "outputs": [
    {
     "name": "stdout",
     "output_type": "stream",
     "text": [
      "['__add__', '__class__', '__contains__', '__delattr__', '__dir__', '__doc__', '__eq__', '__format__', '__ge__', '__getattribute__', '__getitem__', '__getnewargs__', '__gt__', '__hash__', '__init__', '__init_subclass__', '__iter__', '__le__', '__len__', '__lt__', '__mod__', '__mul__', '__ne__', '__new__', '__reduce__', '__reduce_ex__', '__repr__', '__rmod__', '__rmul__', '__setattr__', '__sizeof__', '__str__', '__subclasshook__', 'capitalize', 'casefold', 'center', 'count', 'encode', 'endswith', 'expandtabs', 'find', 'format', 'format_map', 'index', 'isalnum', 'isalpha', 'isascii', 'isdecimal', 'isdigit', 'isidentifier', 'islower', 'isnumeric', 'isprintable', 'isspace', 'istitle', 'isupper', 'join', 'ljust', 'lower', 'lstrip', 'maketrans', 'partition', 'removeprefix', 'removesuffix', 'replace', 'rfind', 'rindex', 'rjust', 'rpartition', 'rsplit', 'rstrip', 'split', 'splitlines', 'startswith', 'strip', 'swapcase', 'title', 'translate', 'upper', 'zfill']\n"
     ]
    }
   ],
   "source": [
    "print(dir(str))"
   ]
  },
  {
   "cell_type": "code",
   "execution_count": 37,
   "id": "ec3a2a0d",
   "metadata": {},
   "outputs": [
    {
     "name": "stdout",
     "output_type": "stream",
     "text": [
      "capitalize(),casefold(),center(),count(),encode(),endswith(),expandtabs(),find(),format(),format_map(),index(),isalnum(),isalpha(),isascii(),isdecimal(),isdigit(),isidentifier(),islower(),isnumeric(),isprintable(),isspace(),istitle(),isupper(),join(),ljust(),lower(),lstrip(),maketrans(),partition(),removeprefix(),removesuffix(),replace(),rfind(),rindex(),rjust(),rpartition(),rsplit(),rstrip(),split(),splitlines(),startswith(),strip(),swapcase(),title(),translate(),upper(),zfill(),"
     ]
    }
   ],
   "source": [
    "for func in dir(str):\n",
    "    if not func.endswith(\"__\"):\n",
    "        print(func,end='(),')\n",
    "        "
   ]
  },
  {
   "cell_type": "code",
   "execution_count": 5,
   "id": "1ea219f8",
   "metadata": {},
   "outputs": [
    {
     "name": "stdout",
     "output_type": "stream",
     "text": [
      "EDUBRIDGE\n"
     ]
    }
   ],
   "source": [
    "print(\"edubridge\".upper())"
   ]
  },
  {
   "cell_type": "code",
   "execution_count": 24,
   "id": "13eeadc7",
   "metadata": {},
   "outputs": [
    {
     "data": {
      "text/plain": [
       "'Edubridge learning'"
      ]
     },
     "execution_count": 24,
     "metadata": {},
     "output_type": "execute_result"
    }
   ],
   "source": [
    "s1=\"edubridge learning\"\n",
    "s1.capitalize() #Return a capitalized version of the string."
   ]
  },
  {
   "cell_type": "code",
   "execution_count": 25,
   "id": "07d3e4ea",
   "metadata": {},
   "outputs": [
    {
     "data": {
      "text/plain": [
       "'edubridge learning'"
      ]
     },
     "execution_count": 25,
     "metadata": {},
     "output_type": "execute_result"
    }
   ],
   "source": [
    "s2='EduBridge Learning'\n",
    "s2.casefold() #Return a version of the string suitable for caseless comparisons."
   ]
  },
  {
   "cell_type": "code",
   "execution_count": 28,
   "id": "d5b26909",
   "metadata": {},
   "outputs": [
    {
     "data": {
      "text/plain": [
       "'                                         Edubridge Learning                                         '"
      ]
     },
     "execution_count": 28,
     "metadata": {},
     "output_type": "execute_result"
    }
   ],
   "source": [
    "s3='Edubridge Learning'\n",
    "s3.center(100)  #Return a centered string of length width.  # 100"
   ]
  },
  {
   "cell_type": "code",
   "execution_count": 31,
   "id": "d71e65ef",
   "metadata": {},
   "outputs": [
    {
     "data": {
      "text/plain": [
       "1"
      ]
     },
     "execution_count": 31,
     "metadata": {},
     "output_type": "execute_result"
    }
   ],
   "source": [
    "s4='python programing and data Science python Problems'\n",
    "s4.count('data') #Return the number of non-overlapping occurrences of substring sub in"
   ]
  },
  {
   "cell_type": "code",
   "execution_count": 36,
   "id": "d2ec87fa",
   "metadata": {},
   "outputs": [
    {
     "data": {
      "text/plain": [
       "False"
      ]
     },
     "execution_count": 36,
     "metadata": {},
     "output_type": "execute_result"
    }
   ],
   "source": [
    "s5='Edubridge Learning ltd'\n",
    "s5.endswith('ltd')"
   ]
  },
  {
   "cell_type": "code",
   "execution_count": 39,
   "id": "a9d1d98e",
   "metadata": {},
   "outputs": [
    {
     "name": "stdout",
     "output_type": "stream",
     "text": [
      "this is python file\n"
     ]
    }
   ],
   "source": [
    "if \"file.py\".endswith('.py'):\n",
    "    print(\"this is python file\")"
   ]
  },
  {
   "cell_type": "code",
   "execution_count": 42,
   "id": "e0b0a193",
   "metadata": {},
   "outputs": [
    {
     "data": {
      "text/plain": [
       "1"
      ]
     },
     "execution_count": 42,
     "metadata": {},
     "output_type": "execute_result"
    }
   ],
   "source": [
    "s6='python programing and data Science python Problems'\n",
    "s6.find('y') #Return the lowest index in S where substring sub is found"
   ]
  },
  {
   "cell_type": "code",
   "execution_count": 57,
   "id": "5de2ea2b",
   "metadata": {},
   "outputs": [
    {
     "data": {
      "text/plain": [
       "'this python program for Data Science learners the no of@ 100 learners here'"
      ]
     },
     "execution_count": 57,
     "metadata": {},
     "output_type": "execute_result"
    }
   ],
   "source": [
    "s6=\"this {} program for {} learners the no of@ {} learners here\"\n",
    "s6.format('python','Data Science',100)"
   ]
  },
  {
   "cell_type": "code",
   "execution_count": 62,
   "id": "b3b85f12",
   "metadata": {},
   "outputs": [
    {
     "data": {
      "text/plain": [
       "'this python program for Data Science learners the no of@100 learners here'"
      ]
     },
     "execution_count": 62,
     "metadata": {},
     "output_type": "execute_result"
    }
   ],
   "source": [
    "s6=\"this {a1} program for {a2} learners the no of@{a3} learners here\"\n",
    "s6.format(a1='python',a2='Data Science',a3=100)"
   ]
  },
  {
   "cell_type": "code",
   "execution_count": 80,
   "id": "fc144c24",
   "metadata": {},
   "outputs": [
    {
     "ename": "ValueError",
     "evalue": "substring not found",
     "output_type": "error",
     "traceback": [
      "\u001b[1;31m---------------------------------------------------------------------------\u001b[0m",
      "\u001b[1;31mValueError\u001b[0m                                Traceback (most recent call last)",
      "Input \u001b[1;32mIn [80]\u001b[0m, in \u001b[0;36m<cell line: 2>\u001b[1;34m()\u001b[0m\n\u001b[0;32m      1\u001b[0m txt \u001b[38;5;241m=\u001b[39m \u001b[38;5;124m\"\u001b[39m\u001b[38;5;124mHello, welcome to my world.\u001b[39m\u001b[38;5;124m\"\u001b[39m\n\u001b[1;32m----> 2\u001b[0m x \u001b[38;5;241m=\u001b[39m \u001b[43mtxt\u001b[49m\u001b[38;5;241;43m.\u001b[39;49m\u001b[43mindex\u001b[49m\u001b[43m(\u001b[49m\u001b[38;5;124;43m\"\u001b[39;49m\u001b[38;5;124;43me\u001b[39;49m\u001b[38;5;124;43m\"\u001b[39;49m\u001b[43m,\u001b[49m\u001b[43m \u001b[49m\u001b[38;5;241;43m15\u001b[39;49m\u001b[43m,\u001b[49m\u001b[43m \u001b[49m\u001b[38;5;241;43m18\u001b[39;49m\u001b[43m)\u001b[49m   \u001b[38;5;66;03m#S[start:end]\u001b[39;00m\n\u001b[0;32m      4\u001b[0m \u001b[38;5;28mprint\u001b[39m(x)\n",
      "\u001b[1;31mValueError\u001b[0m: substring not found"
     ]
    }
   ],
   "source": [
    "txt = \"Hello, welcome to my world.\"\n",
    "x = txt.index(\"e\", 15, 18)   #S[start:end]\n",
    "print(x) "
   ]
  },
  {
   "cell_type": "code",
   "execution_count": 83,
   "id": "b10a0a13",
   "metadata": {},
   "outputs": [
    {
     "data": {
      "text/plain": [
       "0"
      ]
     },
     "execution_count": 83,
     "metadata": {},
     "output_type": "execute_result"
    }
   ],
   "source": [
    "txt = \"Hello, welcome to my world.\"\n",
    "txt.find(\"H\", 0, 10)  #Return -1 on failure."
   ]
  },
  {
   "cell_type": "code",
   "execution_count": 88,
   "id": "83e64bf3",
   "metadata": {},
   "outputs": [
    {
     "data": {
      "text/plain": [
       "'e#545x#545a#545m#545p#545l#545e'"
      ]
     },
     "execution_count": 88,
     "metadata": {},
     "output_type": "execute_result"
    }
   ],
   "source": [
    "s7=\"#\"\n",
    "s7.join(\"example\") #Concatenate any number of strings."
   ]
  },
  {
   "cell_type": "code",
   "execution_count": 89,
   "id": "d68796ba",
   "metadata": {},
   "outputs": [
    {
     "data": {
      "text/plain": [
       "'Python Programming'"
      ]
     },
     "execution_count": 89,
     "metadata": {},
     "output_type": "execute_result"
    }
   ],
   "source": [
    "s8=\"Java Programming\"\n",
    "\n",
    "s8.replace('Java','Python') #Return a copy with all occurrences of substring old replaced by new."
   ]
  },
  {
   "cell_type": "code",
   "execution_count": 90,
   "id": "bbe77430",
   "metadata": {},
   "outputs": [
    {
     "data": {
      "text/plain": [
       "'Java Programming'"
      ]
     },
     "execution_count": 90,
     "metadata": {},
     "output_type": "execute_result"
    }
   ],
   "source": [
    "s8"
   ]
  },
  {
   "cell_type": "code",
   "execution_count": 93,
   "id": "1c1711a4",
   "metadata": {},
   "outputs": [
    {
     "data": {
      "text/plain": [
       "['Java', 'python', 'Programming']"
      ]
     },
     "execution_count": 93,
     "metadata": {},
     "output_type": "execute_result"
    }
   ],
   "source": [
    "s8=\"Java,python,Programming\"\n",
    "s8.split(',') #Return a list of the words in the string, using sep as the delimiter string"
   ]
  },
  {
   "cell_type": "code",
   "execution_count": 98,
   "id": "530f8a78",
   "metadata": {},
   "outputs": [
    {
     "name": "stdout",
     "output_type": "stream",
     "text": [
      "Enter the data by space seperated value45*69*47*47\n"
     ]
    },
    {
     "data": {
      "text/plain": [
       "['45', '69', '47', '47']"
      ]
     },
     "execution_count": 98,
     "metadata": {},
     "output_type": "execute_result"
    }
   ],
   "source": [
    "data=input(\"Enter the data by space seperated value\")\n",
    "data.split('*')\n"
   ]
  },
  {
   "cell_type": "code",
   "execution_count": 104,
   "id": "e45465c3",
   "metadata": {},
   "outputs": [
    {
     "data": {
      "text/plain": [
       "'some text'"
      ]
     },
     "execution_count": 104,
     "metadata": {},
     "output_type": "execute_result"
    }
   ],
   "source": [
    "' some text  '.strip()"
   ]
  },
  {
   "cell_type": "code",
   "execution_count": null,
   "id": "51fd3059",
   "metadata": {},
   "outputs": [],
   "source": []
  }
 ],
 "metadata": {
  "kernelspec": {
   "display_name": "Python 3 (ipykernel)",
   "language": "python",
   "name": "python3"
  },
  "language_info": {
   "codemirror_mode": {
    "name": "ipython",
    "version": 3
   },
   "file_extension": ".py",
   "mimetype": "text/x-python",
   "name": "python",
   "nbconvert_exporter": "python",
   "pygments_lexer": "ipython3",
   "version": "3.9.12"
  }
 },
 "nbformat": 4,
 "nbformat_minor": 5
}
