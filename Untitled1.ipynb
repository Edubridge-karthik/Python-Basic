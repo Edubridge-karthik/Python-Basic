{
 "cells": [
  {
   "cell_type": "code",
   "execution_count": 1,
   "id": "ad5a53e2",
   "metadata": {},
   "outputs": [
    {
     "name": "stdout",
     "output_type": "stream",
     "text": [
      "Init Completed\n"
     ]
    }
   ],
   "source": [
    "import DemoPack"
   ]
  },
  {
   "cell_type": "code",
   "execution_count": null,
   "id": "83bb5967",
   "metadata": {},
   "outputs": [],
   "source": []
  },
  {
   "cell_type": "code",
   "execution_count": 2,
   "id": "0d8e9057",
   "metadata": {},
   "outputs": [
    {
     "name": "stdout",
     "output_type": "stream",
     "text": [
      "['ArithModule', 'StringModule', '__builtins__', '__cached__', '__doc__', '__file__', '__loader__', '__name__', '__package__', '__path__', '__spec__', 'add', 'length', 'mul', 'power', 'reminder', 'reverse', 'upcase']\n"
     ]
    }
   ],
   "source": [
    "print(dir(DemoPack))"
   ]
  },
  {
   "cell_type": "code",
   "execution_count": 8,
   "id": "97e527db",
   "metadata": {},
   "outputs": [
    {
     "data": {
      "text/plain": [
       "<_frozen_importlib_external.SourceFileLoader at 0x24e7f4bf940>"
      ]
     },
     "execution_count": 8,
     "metadata": {},
     "output_type": "execute_result"
    }
   ],
   "source": [
    "DemoPack.__loader__"
   ]
  },
  {
   "cell_type": "code",
   "execution_count": 3,
   "id": "10fc4014",
   "metadata": {},
   "outputs": [
    {
     "data": {
      "text/plain": [
       "'EDUBRIDGE'"
      ]
     },
     "execution_count": 3,
     "metadata": {},
     "output_type": "execute_result"
    }
   ],
   "source": [
    "DemoPack.upcase(\"edubridge\")"
   ]
  },
  {
   "cell_type": "code",
   "execution_count": 4,
   "id": "e1ac4313",
   "metadata": {},
   "outputs": [],
   "source": [
    "import DemoPack as dp"
   ]
  },
  {
   "cell_type": "code",
   "execution_count": 5,
   "id": "d2d3468b",
   "metadata": {},
   "outputs": [
    {
     "data": {
      "text/plain": [
       "['ArithModule',\n",
       " 'StringModule',\n",
       " '__builtins__',\n",
       " '__cached__',\n",
       " '__doc__',\n",
       " '__file__',\n",
       " '__loader__',\n",
       " '__name__',\n",
       " '__package__',\n",
       " '__path__',\n",
       " '__spec__',\n",
       " 'add',\n",
       " 'length',\n",
       " 'mul',\n",
       " 'power',\n",
       " 'reminder',\n",
       " 'reverse',\n",
       " 'upcase']"
      ]
     },
     "execution_count": 5,
     "metadata": {},
     "output_type": "execute_result"
    }
   ],
   "source": [
    "dir(dp)"
   ]
  },
  {
   "cell_type": "code",
   "execution_count": 6,
   "id": "330b041a",
   "metadata": {},
   "outputs": [
    {
     "data": {
      "text/plain": [
       "9"
      ]
     },
     "execution_count": 6,
     "metadata": {},
     "output_type": "execute_result"
    }
   ],
   "source": [
    "dp.add(4,5)"
   ]
  },
  {
   "cell_type": "code",
   "execution_count": 7,
   "id": "be2b1b67",
   "metadata": {},
   "outputs": [
    {
     "data": {
      "text/plain": [
       "'egdirbudE'"
      ]
     },
     "execution_count": 7,
     "metadata": {},
     "output_type": "execute_result"
    }
   ],
   "source": [
    "dp.reverse(\"Edubridge\")"
   ]
  }
 ],
 "metadata": {
  "kernelspec": {
   "display_name": "Python 3 (ipykernel)",
   "language": "python",
   "name": "python3"
  },
  "language_info": {
   "codemirror_mode": {
    "name": "ipython",
    "version": 3
   },
   "file_extension": ".py",
   "mimetype": "text/x-python",
   "name": "python",
   "nbconvert_exporter": "python",
   "pygments_lexer": "ipython3",
   "version": "3.9.12"
  }
 },
 "nbformat": 4,
 "nbformat_minor": 5
}
