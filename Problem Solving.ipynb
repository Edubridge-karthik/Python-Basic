{
 "cells": [
  {
   "cell_type": "code",
   "execution_count": null,
   "id": "45741d54",
   "metadata": {},
   "outputs": [],
   "source": []
  },
  {
   "cell_type": "markdown",
   "id": "0d6e7939",
   "metadata": {},
   "source": [
    "# Problem Solving"
   ]
  },
  {
   "cell_type": "markdown",
   "id": "d91a975f",
   "metadata": {},
   "source": [
    "### Problem 1"
   ]
  },
  {
   "cell_type": "markdown",
   "id": "5f72cfdf",
   "metadata": {},
   "source": [
    "1.String Operations:\n",
    "\n",
    "The provided code outputs the string \"EB\".\n",
    "Modify the code to output the string repeated 3 times, and add an ! (exclamation mark) at the end of the output.\n",
    "#Hint concatenate strings using the + operator.\n",
    "\n",
    "Sample output:\n",
    "EB EB EB !"
   ]
  },
  {
   "cell_type": "markdown",
   "id": "10a71341",
   "metadata": {},
   "source": [
    "### Code1"
   ]
  },
  {
   "cell_type": "code",
   "execution_count": 4,
   "id": "b191a1e9",
   "metadata": {},
   "outputs": [
    {
     "name": "stdout",
     "output_type": "stream",
     "text": [
      "EB EB EB !\n"
     ]
    }
   ],
   "source": [
    "print(\"EB \"*3+\"!\")"
   ]
  },
  {
   "cell_type": "code",
   "execution_count": null,
   "id": "5b6865e9",
   "metadata": {},
   "outputs": [],
   "source": []
  },
  {
   "cell_type": "markdown",
   "id": "e94ccb59",
   "metadata": {},
   "source": [
    "### Problem 2"
   ]
  },
  {
   "cell_type": "markdown",
   "id": "79117928",
   "metadata": {},
   "source": [
    "Newlines in Strings\n",
    "\n",
    "Task\n",
    "The given code outputs python R-program SAS SQL (each language  is separated by a space).\n",
    "Modify the code to output each language on a separate line, resulting in the following output:\n",
    "python\n",
    "R-program\n",
    "SAS\n",
    "SQL"
   ]
  },
  {
   "cell_type": "markdown",
   "id": "471e6ae4",
   "metadata": {},
   "source": [
    "### Code2"
   ]
  },
  {
   "cell_type": "code",
   "execution_count": 6,
   "id": "6ecb3d7c",
   "metadata": {},
   "outputs": [
    {
     "name": "stdout",
     "output_type": "stream",
     "text": [
      "python\n",
      "R-program\n",
      "SAS\n",
      "SQL\n"
     ]
    }
   ],
   "source": [
    "print('python\\nR-program\\nSAS\\nSQL')"
   ]
  },
  {
   "cell_type": "code",
   "execution_count": null,
   "id": "bc1cfbd2",
   "metadata": {},
   "outputs": [],
   "source": []
  },
  {
   "cell_type": "markdown",
   "id": "14cdf267",
   "metadata": {},
   "source": [
    "### Problem 3"
   ]
  },
  {
   "cell_type": "markdown",
   "id": "791632e1",
   "metadata": {},
   "source": [
    "Multiple Variables\n",
    "\n",
    "You can use multiple variables to take multiple inputs for your program.\n",
    "For example, the following code takes two inputs and stores them in the variables x and y:\n",
    "x = input()\n",
    "y = input()\n",
    "Task:\n",
    "Given the code above, output the input x repeated y times.\n",
    "\n",
    "Sample Input:\n",
    "EduBridge\n",
    "3\n",
    "\n",
    "Sample Output:\n",
    "EduBridgeEduBridgeEduBridge"
   ]
  },
  {
   "cell_type": "markdown",
   "id": "6047b00f",
   "metadata": {},
   "source": [
    "### CODE3"
   ]
  },
  {
   "cell_type": "code",
   "execution_count": 16,
   "id": "5a690008",
   "metadata": {},
   "outputs": [
    {
     "name": "stdout",
     "output_type": "stream",
     "text": [
      "Edubridge\n",
      "4\n",
      "Edubridge\n",
      "Edubridge\n",
      "Edubridge\n",
      "Edubridge\n",
      "\n"
     ]
    }
   ],
   "source": [
    "x = input()\n",
    "y = int(input())\n",
    "print((x+\"\\n\")*y)"
   ]
  },
  {
   "cell_type": "code",
   "execution_count": 18,
   "id": "f27f1856",
   "metadata": {},
   "outputs": [],
   "source": [
    "import statistics as st"
   ]
  },
  {
   "cell_type": "code",
   "execution_count": 19,
   "id": "469d3d17",
   "metadata": {},
   "outputs": [
    {
     "data": {
      "text/plain": [
       "3"
      ]
     },
     "execution_count": 19,
     "metadata": {},
     "output_type": "execute_result"
    }
   ],
   "source": [
    "st.mean([1,2,3,4,5])"
   ]
  },
  {
   "cell_type": "code",
   "execution_count": 20,
   "id": "214f7079",
   "metadata": {},
   "outputs": [
    {
     "name": "stdout",
     "output_type": "stream",
     "text": [
      "['Counter', 'Decimal', 'Fraction', 'NormalDist', 'StatisticsError', '__all__', '__builtins__', '__cached__', '__doc__', '__file__', '__loader__', '__name__', '__package__', '__spec__', '_coerce', '_convert', '_exact_ratio', '_fail_neg', '_find_lteq', '_find_rteq', '_isfinite', '_normal_dist_inv_cdf', '_ss', '_sum', 'bisect_left', 'bisect_right', 'erf', 'exp', 'fabs', 'fmean', 'fsum', 'geometric_mean', 'groupby', 'harmonic_mean', 'hypot', 'itemgetter', 'log', 'math', 'mean', 'median', 'median_grouped', 'median_high', 'median_low', 'mode', 'multimode', 'numbers', 'pstdev', 'pvariance', 'quantiles', 'random', 'sqrt', 'stdev', 'tau', 'variance']\n"
     ]
    }
   ],
   "source": [
    "print(dir(st))"
   ]
  },
  {
   "cell_type": "markdown",
   "id": "cd7404a1",
   "metadata": {},
   "source": [
    "# Dictionaries"
   ]
  },
  {
   "cell_type": "markdown",
   "id": "6fd81adc",
   "metadata": {},
   "source": [
    "## Problem 1"
   ]
  },
  {
   "cell_type": "markdown",
   "id": "6cfe5318",
   "metadata": {},
   "source": [
    "You are working at a HR department and store the Employee data in a dictionary:\n",
    "employee = {\n",
    "    'name': 'Raj kamal',\n",
    "    'eid': 1004,\n",
    "    'dept': 'Tech' } \n",
    "Task:\n",
    "Your program needs to take the key as input and output the corresponding value.\n",
    "\n",
    "Sample Input\n",
    "dept\n",
    "\n",
    "Sample Output\n",
    "Tech"
   ]
  },
  {
   "cell_type": "markdown",
   "id": "be21adbc",
   "metadata": {},
   "source": [
    "### CODE1"
   ]
  },
  {
   "cell_type": "code",
   "execution_count": 6,
   "id": "1fc5a1ab",
   "metadata": {},
   "outputs": [
    {
     "name": "stdout",
     "output_type": "stream",
     "text": [
      "Enter the key: dept\n",
      "dept is Tech\n"
     ]
    }
   ],
   "source": [
    "employee = {\n",
    "    'name': 'Raj kamal',\n",
    "    'eid': 1004,\n",
    "    'dept': 'Tech',\n",
    "    'jobtile': 'Data Analysit'\n",
    "} \n",
    "\n",
    "#TO DO Write Your code Here\n",
    "#s1\n",
    "key=input(\"Enter the key: \")\n",
    "print(f'{key} is {employee[key]}')\n",
    "\n"
   ]
  },
  {
   "cell_type": "code",
   "execution_count": 8,
   "id": "dd04c74d",
   "metadata": {},
   "outputs": [
    {
     "name": "stdout",
     "output_type": "stream",
     "text": [
      "Enter the key: dept\n",
      "dept is Tech\n"
     ]
    }
   ],
   "source": [
    "#s2\n",
    "employee = {\n",
    "    'name': 'Raj kamal',\n",
    "    'eid': 1004,\n",
    "    'dept': 'Tech',\n",
    "    'jobtile': 'Data Analysit'\n",
    "  \n",
    "} \n",
    "key=input(\"Enter the key: \")\n",
    "print(f'{key} is {employee.get(key)}')"
   ]
  },
  {
   "cell_type": "code",
   "execution_count": null,
   "id": "66c1b457",
   "metadata": {},
   "outputs": [],
   "source": [
    "\n"
   ]
  },
  {
   "cell_type": "code",
   "execution_count": null,
   "id": "c0bc84cf",
   "metadata": {},
   "outputs": [],
   "source": []
  },
  {
   "cell_type": "markdown",
   "id": "eae21f7c",
   "metadata": {},
   "source": [
    "### Problem 2:"
   ]
  },
  {
   "cell_type": "markdown",
   "id": "f80f33d1",
   "metadata": {},
   "source": [
    "```\n",
    "\n",
    "    Use the following dictionary objects for this assignment:\n",
    "\n",
    "dict_aisle = { \"A100\": ['bananas', 'milk', 'bread'],\n",
    "                      \"A101\": ['pens', 'pencils', 'paper'],\n",
    "                      \"A102\": ['canned_peas', 'canned_carrots', 'canned_beans'],\n",
    "                      \"A103\": ['plates', 'glasses', 'table_cloth']\n",
    "                    }\n",
    "\n",
    "dict_employee_IDs = {\"ID01\": 'John Papa',\n",
    "                     \"ID02\": 'David Thompson',\n",
    "                     \"ID03\": 'Terry Gao',\n",
    "                     \"ID04\": 'Barry Tex'}\n",
    "\n",
    "Perform the following Operation on given dictionary data:\n",
    "\n",
    "1.Print the name of the ID \"ID02\" from the dictionary dict_employee_IDs\n",
    "\n",
    "2.Delete aisle \"A102\" from the dictionary dict_aisle\n",
    "```"
   ]
  },
  {
   "cell_type": "code",
   "execution_count": 11,
   "id": "97bc4bd7",
   "metadata": {},
   "outputs": [
    {
     "name": "stdout",
     "output_type": "stream",
     "text": [
      "David Thompson\n",
      "['canned_peas', 'canned_carrots', 'canned_beans']\n",
      "{'Day': ['bananas', 'milk', 'bread'], 'A101': ['pens', 'pencils', 'paper'], 'A103': ['plates', 'glasses', 'table_cloth']}\n"
     ]
    }
   ],
   "source": [
    "dict_aisle = { \"Day\": ['bananas', 'milk', 'bread'],\n",
    "                      \"A101\": ['pens', 'pencils', 'paper'],\n",
    "                      \"A102\": ['canned_peas', 'canned_carrots', 'canned_beans'],\n",
    "                      \"A103\": ['plates', 'glasses', 'table_cloth']\n",
    "                    }\n",
    "\n",
    "dict_employee_IDs = {\"ID01\": 'John Papa',\n",
    "                     \"ID02\": 'David Thompson',\n",
    "                     \"ID03\": 'Terry Gao',\n",
    "                     \"ID04\": 'Barry Tex'}\n",
    "#Q1\n",
    "print(dict_employee_IDs[\"ID02\"])\n",
    "#Q2\n",
    "print(dict_aisle.pop('A102'))\n",
    "print(dict_aisle)"
   ]
  },
  {
   "cell_type": "code",
   "execution_count": 12,
   "id": "4c97cfa8",
   "metadata": {},
   "outputs": [
    {
     "name": "stdout",
     "output_type": "stream",
     "text": [
      "{'Day': ['bananas', 'milk', 'bread'], 'A101': ['pens', 'pencils', 'paper'], 'A103': ['plates', 'glasses', 'table_cloth']}\n"
     ]
    }
   ],
   "source": [
    "dict_aisle = { \"Day\": ['bananas', 'milk', 'bread'],\n",
    "                      \"A101\": ['pens', 'pencils', 'paper'],\n",
    "                      \"A102\": ['canned_peas', 'canned_carrots', 'canned_beans'],\n",
    "                      \"A103\": ['plates', 'glasses', 'table_cloth']\n",
    "                    }\n",
    "del dict_aisle['A102']\n",
    "print(dict_aisle)"
   ]
  },
  {
   "cell_type": "markdown",
   "id": "6bc9c21a",
   "metadata": {},
   "source": [
    "Q3.How many Product avilable in aisle \"A102\""
   ]
  },
  {
   "cell_type": "code",
   "execution_count": 15,
   "id": "a1472def",
   "metadata": {},
   "outputs": [
    {
     "name": "stdout",
     "output_type": "stream",
     "text": [
      "Number of Product: 4\n"
     ]
    }
   ],
   "source": [
    "dict_aisle = { \"A100\": ['bananas', 'milk', 'bread'],\n",
    "                      \"A101\": ['pens', 'pencils', 'paper'],\n",
    "                      \"A102\": ['canned_peas', 'canned_carrots', 'canned_beans','canned_nuts'],\n",
    "                      \"A103\": ['plates', 'glasses', 'table_cloth']\n",
    "                      \n",
    "                    }\n",
    "print(\"Number of Product:\", len(dict_aisle['A102']))"
   ]
  },
  {
   "cell_type": "markdown",
   "id": "c9f633fa",
   "metadata": {},
   "source": [
    "Q4. How many Aisle racks are avilable in the dict"
   ]
  },
  {
   "cell_type": "code",
   "execution_count": 16,
   "id": "31a290fc",
   "metadata": {},
   "outputs": [
    {
     "name": "stdout",
     "output_type": "stream",
     "text": [
      "4\n"
     ]
    }
   ],
   "source": [
    "print(len(dict_aisle))"
   ]
  },
  {
   "cell_type": "markdown",
   "id": "279c7670",
   "metadata": {},
   "source": [
    "Q5. Create new asile \"A104\" with combined list of \"A100\" and \"A101\" values\n"
   ]
  },
  {
   "cell_type": "code",
   "execution_count": 17,
   "id": "4894e3d3",
   "metadata": {},
   "outputs": [
    {
     "data": {
      "text/plain": [
       "{'A100': ['bananas', 'milk', 'bread'],\n",
       " 'A101': ['pens', 'pencils', 'paper'],\n",
       " 'A102': ['canned_peas', 'canned_carrots', 'canned_beans', 'canned_nuts'],\n",
       " 'A103': ['plates', 'glasses', 'table_cloth'],\n",
       " 'A104': ['bananas', 'milk', 'bread', 'pens', 'pencils', 'paper']}"
      ]
     },
     "execution_count": 17,
     "metadata": {},
     "output_type": "execute_result"
    }
   ],
   "source": [
    "dict_aisle['A104']=dict_aisle['A100']+dict_aisle['A101']\n",
    "dict_aisle"
   ]
  },
  {
   "cell_type": "code",
   "execution_count": 21,
   "id": "eeec2b36",
   "metadata": {},
   "outputs": [],
   "source": [
    "dict_aisle.update({\"A105\":dict_aisle[\"A100\"]+dict_aisle[\"A101\"]})"
   ]
  },
  {
   "cell_type": "code",
   "execution_count": 22,
   "id": "2234335b",
   "metadata": {},
   "outputs": [
    {
     "data": {
      "text/plain": [
       "{'A100': ['bananas', 'milk', 'bread'],\n",
       " 'A101': ['pens', 'pencils', 'paper'],\n",
       " 'A102': ['canned_peas', 'canned_carrots', 'canned_beans', 'canned_nuts'],\n",
       " 'A103': ['plates', 'glasses', 'table_cloth'],\n",
       " 'A104': ['bananas', 'milk', 'bread', 'pens', 'pencils', 'paper'],\n",
       " 'A105': ['bananas', 'milk', 'bread', 'pens', 'pencils', 'paper']}"
      ]
     },
     "execution_count": 22,
     "metadata": {},
     "output_type": "execute_result"
    }
   ],
   "source": [
    "dict_aisle"
   ]
  },
  {
   "cell_type": "code",
   "execution_count": null,
   "id": "4d977cbc",
   "metadata": {},
   "outputs": [],
   "source": []
  },
  {
   "cell_type": "code",
   "execution_count": 23,
   "id": "45a5fab4",
   "metadata": {},
   "outputs": [],
   "source": [
    "d1={1:'apple',2:\"b\",1:\"one\"}"
   ]
  },
  {
   "cell_type": "code",
   "execution_count": 24,
   "id": "d6cec2ef",
   "metadata": {},
   "outputs": [
    {
     "data": {
      "text/plain": [
       "{1: 'one', 2: 'b'}"
      ]
     },
     "execution_count": 24,
     "metadata": {},
     "output_type": "execute_result"
    }
   ],
   "source": [
    "d1"
   ]
  },
  {
   "cell_type": "markdown",
   "id": "477a22bb",
   "metadata": {},
   "source": [
    "# SET"
   ]
  },
  {
   "cell_type": "markdown",
   "id": "e29f5ffe",
   "metadata": {},
   "source": [
    "A set is an unordered collection of elements without duplicate entries.\n",
    "When printed, iterated or converted into a sequence, its elements will appear in an arbitrary order.\n",
    "Basically, sets are used for membership testing and eliminating duplicate entries.\n"
   ]
  },
  {
   "cell_type": "markdown",
   "id": "4d529478",
   "metadata": {},
   "source": [
    "### Problem1"
   ]
  },
  {
   "attachments": {
    "image.png": {
     "image/png": "[encoded data removed]"
    }
   },
   "cell_type": "markdown",
   "id": "4656274f",
   "metadata": {},
   "source": [
    "```\n",
    "Task\n",
    "Now, let's use our knowledge of sets and help Mickey.\n",
    "Ms. Gabriel Williams is a botany professor at District College. One day, she asked her student Mickey to compute the average of all the plants with distinct heights in her greenhouse.\n",
    "Formula used:\n",
    "```\n",
    "![image.png](attachment:image.png)\n"
   ]
  },
  {
   "cell_type": "markdown",
   "id": "d6be96ba",
   "metadata": {},
   "source": [
    "### CODE1"
   ]
  },
  {
   "cell_type": "code",
   "execution_count": 5,
   "id": "3e0a0ab7",
   "metadata": {},
   "outputs": [
    {
     "name": "stdout",
     "output_type": "stream",
     "text": [
      "{161, 167, 170, 171, 174, 176, 182, 154}\n",
      "average of all plants is 169.375\n"
     ]
    }
   ],
   "source": [
    "Height=[161, 182, 161, 154, 176, 170, 167, 171, 170, 174]\n",
    "# TO DO Write Code to find average of distinct Height from above list\n",
    "h1=set(Height)\n",
    "print(h1)\n",
    "avg=sum(h1)/len(h1)\n",
    "print(\"average of all plants is\",avg)\n"
   ]
  },
  {
   "cell_type": "markdown",
   "id": "6008f2f4",
   "metadata": {},
   "source": [
    "### Problem 2"
   ]
  },
  {
   "cell_type": "markdown",
   "id": "e41a2e72",
   "metadata": {},
   "source": [
    "Task\n",
    "Given  sets of integers,  and , print their symmetric difference in descending order. \n",
    "The term symmetric difference indicates those values that exist in either  or  but do not exist in both."
   ]
  },
  {
   "cell_type": "code",
   "execution_count": 36,
   "id": "f3f8947c",
   "metadata": {},
   "outputs": [
    {
     "name": "stdout",
     "output_type": "stream",
     "text": [
      "[67, 45, 12, 11, 10, 7, 6, 4, 2]\n"
     ]
    }
   ],
   "source": [
    "A={11,45,4,3,5,7,12}\n",
    "B={10,67,2,5,3,6}\n",
    "x=A.symmetric_difference(B)\n",
    "print(sorted(x,reverse=True))\n"
   ]
  },
  {
   "cell_type": "code",
   "execution_count": 35,
   "id": "5e85c1d1",
   "metadata": {},
   "outputs": [
    {
     "name": "stdout",
     "output_type": "stream",
     "text": [
      "[67, 45, 12, 11, 10, 7, 6, 4, 2]\n"
     ]
    }
   ],
   "source": [
    "A={11,45,4,3,5,7,12}\n",
    "B={10,67,2,5,3,6}\n",
    "x=A.symmetric_difference(B)\n",
    "x=list(x)\n",
    "x.sort(reverse=True)\n",
    "print(x)"
   ]
  },
  {
   "cell_type": "code",
   "execution_count": null,
   "id": "b528acae",
   "metadata": {},
   "outputs": [],
   "source": []
  }
 ],
 "metadata": {
  "kernelspec": {
   "display_name": "Python 3 (ipykernel)",
   "language": "python",
   "name": "python3"
  },
  "language_info": {
   "codemirror_mode": {
    "name": "ipython",
    "version": 3
   },
   "file_extension": ".py",
   "mimetype": "text/x-python",
   "name": "python",
   "nbconvert_exporter": "python",
   "pygments_lexer": "ipython3",
   "version": "3.9.12"
  }
 },
 "nbformat": 4,
 "nbformat_minor": 5
}
