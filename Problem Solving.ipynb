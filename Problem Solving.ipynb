{
 "cells": [
  {
   "cell_type": "code",
   "execution_count": null,
   "id": "45741d54",
   "metadata": {},
   "outputs": [],
   "source": []
  },
  {
   "cell_type": "markdown",
   "id": "0d6e7939",
   "metadata": {},
   "source": [
    "# Problem Solving"
   ]
  },
  {
   "cell_type": "markdown",
   "id": "d91a975f",
   "metadata": {},
   "source": [
    "### Problem 1"
   ]
  },
  {
   "cell_type": "markdown",
   "id": "5f72cfdf",
   "metadata": {},
   "source": [
    "1.String Operations:\n",
    "\n",
    "The provided code outputs the string \"EB\".\n",
    "Modify the code to output the string repeated 3 times, and add an ! (exclamation mark) at the end of the output.\n",
    "#Hint concatenate strings using the + operator.\n",
    "\n",
    "Sample output:\n",
    "EB EB EB !"
   ]
  },
  {
   "cell_type": "markdown",
   "id": "10a71341",
   "metadata": {},
   "source": [
    "### Code1"
   ]
  },
  {
   "cell_type": "code",
   "execution_count": 4,
   "id": "b191a1e9",
   "metadata": {},
   "outputs": [
    {
     "name": "stdout",
     "output_type": "stream",
     "text": [
      "EB EB EB !\n"
     ]
    }
   ],
   "source": [
    "print(\"EB \"*3+\"!\")"
   ]
  },
  {
   "cell_type": "code",
   "execution_count": null,
   "id": "5b6865e9",
   "metadata": {},
   "outputs": [],
   "source": []
  },
  {
   "cell_type": "markdown",
   "id": "e94ccb59",
   "metadata": {},
   "source": [
    "### Problem 2"
   ]
  },
  {
   "cell_type": "markdown",
   "id": "79117928",
   "metadata": {},
   "source": [
    "Newlines in Strings\n",
    "\n",
    "Task\n",
    "The given code outputs python R-program SAS SQL (each language  is separated by a space).\n",
    "Modify the code to output each language on a separate line, resulting in the following output:\n",
    "python\n",
    "R-program\n",
    "SAS\n",
    "SQL"
   ]
  },
  {
   "cell_type": "markdown",
   "id": "471e6ae4",
   "metadata": {},
   "source": [
    "### Code2"
   ]
  },
  {
   "cell_type": "code",
   "execution_count": 6,
   "id": "6ecb3d7c",
   "metadata": {},
   "outputs": [
    {
     "name": "stdout",
     "output_type": "stream",
     "text": [
      "python\n",
      "R-program\n",
      "SAS\n",
      "SQL\n"
     ]
    }
   ],
   "source": [
    "print('python\\nR-program\\nSAS\\nSQL')"
   ]
  },
  {
   "cell_type": "code",
   "execution_count": null,
   "id": "bc1cfbd2",
   "metadata": {},
   "outputs": [],
   "source": []
  },
  {
   "cell_type": "markdown",
   "id": "14cdf267",
   "metadata": {},
   "source": [
    "### Problem 3"
   ]
  },
  {
   "cell_type": "markdown",
   "id": "791632e1",
   "metadata": {},
   "source": [
    "Multiple Variables\n",
    "\n",
    "You can use multiple variables to take multiple inputs for your program.\n",
    "For example, the following code takes two inputs and stores them in the variables x and y:\n",
    "x = input()\n",
    "y = input()\n",
    "Task:\n",
    "Given the code above, output the input x repeated y times.\n",
    "\n",
    "Sample Input:\n",
    "EduBridge\n",
    "3\n",
    "\n",
    "Sample Output:\n",
    "EduBridgeEduBridgeEduBridge"
   ]
  },
  {
   "cell_type": "markdown",
   "id": "6047b00f",
   "metadata": {},
   "source": [
    "### CODE3"
   ]
  },
  {
   "cell_type": "code",
   "execution_count": 16,
   "id": "5a690008",
   "metadata": {},
   "outputs": [
    {
     "name": "stdout",
     "output_type": "stream",
     "text": [
      "Edubridge\n",
      "4\n",
      "Edubridge\n",
      "Edubridge\n",
      "Edubridge\n",
      "Edubridge\n",
      "\n"
     ]
    }
   ],
   "source": [
    "x = input()\n",
    "y = int(input())\n",
    "print((x+\"\\n\")*y)"
   ]
  },
  {
   "cell_type": "code",
   "execution_count": 18,
   "id": "f27f1856",
   "metadata": {},
   "outputs": [],
   "source": [
    "import statistics as st"
   ]
  },
  {
   "cell_type": "code",
   "execution_count": 19,
   "id": "469d3d17",
   "metadata": {},
   "outputs": [
    {
     "data": {
      "text/plain": [
       "3"
      ]
     },
     "execution_count": 19,
     "metadata": {},
     "output_type": "execute_result"
    }
   ],
   "source": [
    "st.mean([1,2,3,4,5])"
   ]
  },
  {
   "cell_type": "code",
   "execution_count": 20,
   "id": "214f7079",
   "metadata": {},
   "outputs": [
    {
     "name": "stdout",
     "output_type": "stream",
     "text": [
      "['Counter', 'Decimal', 'Fraction', 'NormalDist', 'StatisticsError', '__all__', '__builtins__', '__cached__', '__doc__', '__file__', '__loader__', '__name__', '__package__', '__spec__', '_coerce', '_convert', '_exact_ratio', '_fail_neg', '_find_lteq', '_find_rteq', '_isfinite', '_normal_dist_inv_cdf', '_ss', '_sum', 'bisect_left', 'bisect_right', 'erf', 'exp', 'fabs', 'fmean', 'fsum', 'geometric_mean', 'groupby', 'harmonic_mean', 'hypot', 'itemgetter', 'log', 'math', 'mean', 'median', 'median_grouped', 'median_high', 'median_low', 'mode', 'multimode', 'numbers', 'pstdev', 'pvariance', 'quantiles', 'random', 'sqrt', 'stdev', 'tau', 'variance']\n"
     ]
    }
   ],
   "source": [
    "print(dir(st))"
   ]
  },
  {
   "cell_type": "code",
   "execution_count": null,
   "id": "3f86573e",
   "metadata": {},
   "outputs": [],
   "source": []
  }
 ],
 "metadata": {
  "kernelspec": {
   "display_name": "Python 3 (ipykernel)",
   "language": "python",
   "name": "python3"
  },
  "language_info": {
   "codemirror_mode": {
    "name": "ipython",
    "version": 3
   },
   "file_extension": ".py",
   "mimetype": "text/x-python",
   "name": "python",
   "nbconvert_exporter": "python",
   "pygments_lexer": "ipython3",
   "version": "3.9.12"
  }
 },
 "nbformat": 4,
 "nbformat_minor": 5
}
