{
 "cells": [
  {
   "cell_type": "code",
   "execution_count": 2,
   "id": "70b17376",
   "metadata": {},
   "outputs": [],
   "source": [
    "from bankaccount import BankAccount"
   ]
  },
  {
   "cell_type": "code",
   "execution_count": 3,
   "id": "764d8c65",
   "metadata": {},
   "outputs": [],
   "source": [
    "acc1=BankAccount(\"Alex\",1001,1000)"
   ]
  },
  {
   "cell_type": "code",
   "execution_count": 4,
   "id": "85e2053b",
   "metadata": {},
   "outputs": [
    {
     "data": {
      "text/plain": [
       "'BankAccount Details: name:Alex,acc_no:1001,Curr_balance:1000'"
      ]
     },
     "execution_count": 4,
     "metadata": {},
     "output_type": "execute_result"
    }
   ],
   "source": [
    "acc1.print_passbook()"
   ]
  },
  {
   "cell_type": "code",
   "execution_count": 5,
   "id": "57add310",
   "metadata": {},
   "outputs": [
    {
     "name": "stdout",
     "output_type": "stream",
     "text": [
      "<class '__main__.Atm'>\n"
     ]
    }
   ],
   "source": [
    "class Atm:\n",
    "    # constructor\n",
    "    def __int__(self):\n",
    "        self.pin = ''\n",
    "        self.balance = 0\n",
    "\n",
    "obj = Atm()\n",
    "print(type(obj))\n",
    "\n"
   ]
  },
  {
   "cell_type": "code",
   "execution_count": null,
   "id": "47fe8d4d",
   "metadata": {},
   "outputs": [],
   "source": []
  }
 ],
 "metadata": {
  "kernelspec": {
   "display_name": "Python 3 (ipykernel)",
   "language": "python",
   "name": "python3"
  },
  "language_info": {
   "codemirror_mode": {
    "name": "ipython",
    "version": 3
   },
   "file_extension": ".py",
   "mimetype": "text/x-python",
   "name": "python",
   "nbconvert_exporter": "python",
   "pygments_lexer": "ipython3",
   "version": "3.9.12"
  }
 },
 "nbformat": 4,
 "nbformat_minor": 5
}
