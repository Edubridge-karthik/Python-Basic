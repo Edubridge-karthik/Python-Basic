{
 "cells": [
  {
   "cell_type": "code",
   "execution_count": 6,
   "id": "a291c74a",
   "metadata": {},
   "outputs": [],
   "source": [
    "import DemoPack"
   ]
  },
  {
   "cell_type": "code",
   "execution_count": 7,
   "id": "36769704",
   "metadata": {},
   "outputs": [
    {
     "name": "stdout",
     "output_type": "stream",
     "text": [
      "['ArithModule', '__builtins__', '__cached__', '__doc__', '__file__', '__loader__', '__name__', '__package__', '__path__', '__spec__', 'add', 'mul', 'power', 'reminder']\n"
     ]
    }
   ],
   "source": [
    "print(dir(DemoPack))"
   ]
  },
  {
   "cell_type": "code",
   "execution_count": 8,
   "id": "1d26d1fc",
   "metadata": {},
   "outputs": [
    {
     "data": {
      "text/plain": [
       "9"
      ]
     },
     "execution_count": 8,
     "metadata": {},
     "output_type": "execute_result"
    }
   ],
   "source": [
    "DemoPack.add(4,5)"
   ]
  },
  {
   "cell_type": "code",
   "execution_count": 9,
   "id": "d0bf318c",
   "metadata": {},
   "outputs": [
    {
     "ename": "AttributeError",
     "evalue": "module 'DemoPack' has no attribute 'StringModule'",
     "output_type": "error",
     "traceback": [
      "\u001b[1;31m---------------------------------------------------------------------------\u001b[0m",
      "\u001b[1;31mAttributeError\u001b[0m                            Traceback (most recent call last)",
      "Input \u001b[1;32mIn [9]\u001b[0m, in \u001b[0;36m<cell line: 1>\u001b[1;34m()\u001b[0m\n\u001b[1;32m----> 1\u001b[0m \u001b[43mDemoPack\u001b[49m\u001b[38;5;241;43m.\u001b[39;49m\u001b[43mStringModule\u001b[49m\u001b[38;5;241m.\u001b[39mlength(\u001b[38;5;124m\"\u001b[39m\u001b[38;5;124mgffg\u001b[39m\u001b[38;5;124m\"\u001b[39m)\n",
      "\u001b[1;31mAttributeError\u001b[0m: module 'DemoPack' has no attribute 'StringModule'"
     ]
    }
   ],
   "source": [
    "DemoPack.StringModule.length(\"gffg\")"
   ]
  },
  {
   "cell_type": "code",
   "execution_count": null,
   "id": "13009361",
   "metadata": {},
   "outputs": [],
   "source": []
  },
  {
   "cell_type": "code",
   "execution_count": null,
   "id": "ba1c8024",
   "metadata": {},
   "outputs": [],
   "source": []
  }
 ],
 "metadata": {
  "kernelspec": {
   "display_name": "Python 3 (ipykernel)",
   "language": "python",
   "name": "python3"
  },
  "language_info": {
   "codemirror_mode": {
    "name": "ipython",
    "version": 3
   },
   "file_extension": ".py",
   "mimetype": "text/x-python",
   "name": "python",
   "nbconvert_exporter": "python",
   "pygments_lexer": "ipython3",
   "version": "3.9.12"
  }
 },
 "nbformat": 4,
 "nbformat_minor": 5
}
